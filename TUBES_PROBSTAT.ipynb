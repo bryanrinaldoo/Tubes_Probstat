{
 "cells": [
  {
   "cell_type": "markdown",
   "metadata": {},
   "source": [
    "# Daftar Isi\n",
    "1. [Nomor 1: Deksripsi Statistika](#no1)\n",
    "2. [Nomor 2: Visualisasi](#no2)\n",
    "3. [Nomor 3: Distribusi Normal](#no3)\n",
    "4. [Nomor 4: Hipotesis 1 Sampel](#no4)\n",
    "5. [Nomor 5: Hipotesis 2 Sampel](#no5)\n",
    "6. [Nomor 6: Tes Korelasi](#no6)"
   ]
  },
  {
   "cell_type": "markdown",
   "metadata": {},
   "source": [
    "# Nomor 1 <a name=\"no1\"></a>\n",
    "### Deskripsi Daerah"
   ]
  },
  {
   "cell_type": "code",
   "execution_count": 48,
   "metadata": {},
   "outputs": [
    {
     "name": "stdout",
     "output_type": "stream",
     "text": [
      "\n",
      "=== Daerah ===\n",
      "Mean dari Daerah adalah 4801.246\n",
      "Modus dari Daerah adalah 4881\n",
      "Standard deviasi dari Daerah adalah 986.3954914816018\n",
      "Variansi dari Daerah adalah 972976.0656152307\n",
      "Range dari Daerah adalah 4931\n",
      "Maximum dari Daerah adalah 7453\n",
      "Minimum dari Daerah adalah 2522\n",
      "Q1 dari Daerah adalah 4042.75\n",
      "Q2 dari Daerah adalah 4735.0\n",
      "Q3 dari Daerah adalah 5495.5\n",
      "Interkuartil dari Daerah adalah 1452.75\n",
      "Skewness dari Daerah adalah 0.23814408738280812\n",
      "Kurtosis dari Daerah adalah -0.4346305340273977\n"
     ]
    }
   ],
   "source": [
    "#NOMOR 1\n",
    "\n",
    "#baca file dan memberikan nama\n",
    "import pandas as pd\n",
    "import matplotlib.pyplot as plt\n",
    "df = pd.read_csv('Gandum.csv', delimiter=',', names = ['id', 'Daerah', 'SumbuUtama', 'SumbuKecil', 'Keunikan', 'AreaBulatan', 'Diameter', 'KadarAir', 'Keliling', 'Bulatan', 'Ransum', 'Kelas'])\n",
    "\n",
    "#print(\"Daerah, SumbuUtama, SumbuKecil, Keunikan, AreaBulatan, Diameter, KadarAir, Keliling, Bulatan, Ransum\")\n",
    "inp = \"Daerah\"\n",
    "\n",
    "mean = df[inp].mean()\n",
    "median = df[inp].median()\n",
    "modus = df[inp].value_counts().idxmax()\n",
    "stdev = df[inp].std()\n",
    "var = df[inp].var()\n",
    "min1 = df[inp].min()\n",
    "max1 = df[inp].max()\n",
    "range1 = max1 - min1\n",
    "q1 = df[inp].quantile(0.25)\n",
    "q2 = df[inp].quantile(0.5)\n",
    "q3 = df[inp].quantile(0.75)\n",
    "iqr = q3 - q1\n",
    "skew = df[inp].skew()\n",
    "kurtosis = df[inp].kurtosis()\n",
    "\n",
    "#print\n",
    "print(\"\\n===\",str(inp),\"===\")\n",
    "print(\"Mean dari\", str(inp), \"adalah\" ,mean)\n",
    "print(\"Modus dari\", str(inp), \"adalah\" ,modus)\n",
    "print(\"Standard deviasi dari\", str(inp), \"adalah\" ,stdev)\n",
    "print(\"Variansi dari\", str(inp), \"adalah\" ,var)\n",
    "print(\"Range dari\", str(inp), \"adalah\" ,range1)\n",
    "print(\"Maximum dari\", str(inp), \"adalah\" ,max1)\n",
    "print(\"Minimum dari\", str(inp), \"adalah\" ,min1)\n",
    "print(\"Q1 dari\", str(inp), \"adalah\" ,q1)\n",
    "print(\"Q2 dari\", str(inp), \"adalah\" ,q2)\n",
    "print(\"Q3 dari\", str(inp), \"adalah\" ,q3)\n",
    "print(\"Interkuartil dari\", str(inp), \"adalah\" ,iqr)\n",
    "print(\"Skewness dari\", str(inp), \"adalah\" ,skew)\n",
    "print(\"Kurtosis dari\", str(inp), \"adalah\" ,kurtosis)"
   ]
  },
  {
   "cell_type": "markdown",
   "metadata": {},
   "source": [
    "### Deskripsi SumbuUtama"
   ]
  },
  {
   "cell_type": "code",
   "execution_count": 49,
   "metadata": {},
   "outputs": [
    {
     "name": "stdout",
     "output_type": "stream",
     "text": [
      "\n",
      "=== SumbuUtama ===\n",
      "Mean dari SumbuUtama adalah 116.04517136778003\n",
      "Modus dari SumbuUtama adalah 99.01478925\n",
      "Standard deviasi dari SumbuUtama adalah 18.28262595755936\n",
      "Variansi dari SumbuUtama adalah 334.25441190402336\n",
      "Range dari SumbuUtama adalah 153.79546865999998\n",
      "Maximum dari SumbuUtama adalah 227.9285827\n",
      "Minimum dari SumbuUtama adalah 74.13311404\n",
      "Q1 dari SumbuUtama adalah 104.11609817499999\n",
      "Q2 dari SumbuUtama adalah 115.40513994999999\n",
      "Q3 dari SumbuUtama adalah 129.046792025\n",
      "Interkuartil dari SumbuUtama adalah 24.93069385000001\n",
      "Skewness dari SumbuUtama adalah 0.7615287378076631\n",
      "Kurtosis dari SumbuUtama adalah 4.330533548436968\n"
     ]
    }
   ],
   "source": [
    "inp = \"SumbuUtama\"\n",
    "\n",
    "mean = df[inp].mean()\n",
    "median = df[inp].median()\n",
    "modus = df[inp].value_counts().idxmax()\n",
    "stdev = df[inp].std()\n",
    "var = df[inp].var()\n",
    "min1 = df[inp].min()\n",
    "max1 = df[inp].max()\n",
    "range1 = max1 - min1\n",
    "q1 = df[inp].quantile(0.25)\n",
    "q2 = df[inp].quantile(0.5)\n",
    "q3 = df[inp].quantile(0.75)\n",
    "iqr = q3 - q1\n",
    "skew = df[inp].skew()\n",
    "kurtosis = df[inp].kurtosis()\n",
    "\n",
    "#print\n",
    "print(\"\\n===\",str(inp),\"===\")\n",
    "print(\"Mean dari\", str(inp), \"adalah\" ,mean)\n",
    "print(\"Modus dari\", str(inp), \"adalah\" ,modus)\n",
    "print(\"Standard deviasi dari\", str(inp), \"adalah\" ,stdev)\n",
    "print(\"Variansi dari\", str(inp), \"adalah\" ,var)\n",
    "print(\"Range dari\", str(inp), \"adalah\" ,range1)\n",
    "print(\"Maximum dari\", str(inp), \"adalah\" ,max1)\n",
    "print(\"Minimum dari\", str(inp), \"adalah\" ,min1)\n",
    "print(\"Q1 dari\", str(inp), \"adalah\" ,q1)\n",
    "print(\"Q2 dari\", str(inp), \"adalah\" ,q2)\n",
    "print(\"Q3 dari\", str(inp), \"adalah\" ,q3)\n",
    "print(\"Interkuartil dari\", str(inp), \"adalah\" ,iqr)\n",
    "print(\"Skewness dari\", str(inp), \"adalah\" ,skew)\n",
    "print(\"Kurtosis dari\", str(inp), \"adalah\" ,kurtosis)"
   ]
  },
  {
   "cell_type": "markdown",
   "metadata": {},
   "source": [
    "### Deskripsi SumbuKecil"
   ]
  },
  {
   "cell_type": "code",
   "execution_count": 50,
   "metadata": {},
   "outputs": [
    {
     "name": "stdout",
     "output_type": "stream",
     "text": [
      "\n",
      "=== SumbuKecil ===\n",
      "Mean dari SumbuKecil adalah 53.71524598896002\n",
      "Modus dari SumbuKecil adalah 53.17603697\n",
      "Standard deviasi dari SumbuKecil adalah 4.071074752475035\n",
      "Variansi dari SumbuKecil adalah 16.573649640239662\n",
      "Range dari SumbuKecil adalah 29.071182429999993\n",
      "Maximum dari SumbuKecil adalah 68.97769987\n",
      "Minimum dari SumbuKecil adalah 39.90651744\n",
      "Q1 dari SumbuKecil adalah 51.1935763325\n",
      "Q2 dari SumbuKecil adalah 53.731198774999996\n",
      "Q3 dari SumbuKecil adalah 56.3251579825\n",
      "Interkuartil dari SumbuKecil adalah 5.131581650000001\n",
      "Skewness dari SumbuKecil adalah -0.010828051555611359\n",
      "Kurtosis dari SumbuKecil adalah 0.47556845043813656\n"
     ]
    }
   ],
   "source": [
    "inp = \"SumbuKecil\"\n",
    "\n",
    "mean = df[inp].mean()\n",
    "median = df[inp].median()\n",
    "modus = df[inp].value_counts().idxmax()\n",
    "stdev = df[inp].std()\n",
    "var = df[inp].var()\n",
    "min1 = df[inp].min()\n",
    "max1 = df[inp].max()\n",
    "range1 = max1 - min1\n",
    "q1 = df[inp].quantile(0.25)\n",
    "q2 = df[inp].quantile(0.5)\n",
    "q3 = df[inp].quantile(0.75)\n",
    "iqr = q3 - q1\n",
    "skew = df[inp].skew()\n",
    "kurtosis = df[inp].kurtosis()\n",
    "\n",
    "#print\n",
    "print(\"\\n===\",str(inp),\"===\")\n",
    "print(\"Mean dari\", str(inp), \"adalah\" ,mean)\n",
    "print(\"Modus dari\", str(inp), \"adalah\" ,modus)\n",
    "print(\"Standard deviasi dari\", str(inp), \"adalah\" ,stdev)\n",
    "print(\"Variansi dari\", str(inp), \"adalah\" ,var)\n",
    "print(\"Range dari\", str(inp), \"adalah\" ,range1)\n",
    "print(\"Maximum dari\", str(inp), \"adalah\" ,max1)\n",
    "print(\"Minimum dari\", str(inp), \"adalah\" ,min1)\n",
    "print(\"Q1 dari\", str(inp), \"adalah\" ,q1)\n",
    "print(\"Q2 dari\", str(inp), \"adalah\" ,q2)\n",
    "print(\"Q3 dari\", str(inp), \"adalah\" ,q3)\n",
    "print(\"Interkuartil dari\", str(inp), \"adalah\" ,iqr)\n",
    "print(\"Skewness dari\", str(inp), \"adalah\" ,skew)\n",
    "print(\"Kurtosis dari\", str(inp), \"adalah\" ,kurtosis)"
   ]
  },
  {
   "cell_type": "markdown",
   "metadata": {},
   "source": [
    "### Deskripsi Keunikan"
   ]
  },
  {
   "cell_type": "code",
   "execution_count": 51,
   "metadata": {},
   "outputs": [
    {
     "name": "stdout",
     "output_type": "stream",
     "text": [
      "\n",
      "=== Keunikan ===\n",
      "Mean dari Keunikan adalah 0.878763914340001\n",
      "Modus dari Keunikan adalah 0.90928407\n",
      "Standard deviasi dari Keunikan adalah 0.03658590550477702\n",
      "Variansi dari Keunikan adalah 0.0013385284816044736\n",
      "Range dari Keunikan adalah 0.19408517999999997\n",
      "Maximum dari Keunikan adalah 0.9140014059999999\n",
      "Minimum dari Keunikan adalah 0.7199162259999999\n",
      "Q1 dari Keunikan adalah 0.8636757527500001\n",
      "Q2 dari Keunikan adalah 0.8900454185\n",
      "Q3 dari Keunikan adalah 0.907577917\n",
      "Interkuartil dari Keunikan adalah 0.04390216424999993\n",
      "Skewness dari Keunikan adalah -1.6234718222806501\n",
      "Kurtosis dari Keunikan adalah 2.917255925694389\n"
     ]
    }
   ],
   "source": [
    "inp = \"Keunikan\"\n",
    "\n",
    "mean = df[inp].mean()\n",
    "median = df[inp].median()\n",
    "modus = df[inp].value_counts().idxmax()\n",
    "stdev = df[inp].std()\n",
    "var = df[inp].var()\n",
    "min1 = df[inp].min()\n",
    "max1 = df[inp].max()\n",
    "range1 = max1 - min1\n",
    "q1 = df[inp].quantile(0.25)\n",
    "q2 = df[inp].quantile(0.5)\n",
    "q3 = df[inp].quantile(0.75)\n",
    "iqr = q3 - q1\n",
    "skew = df[inp].skew()\n",
    "kurtosis = df[inp].kurtosis()\n",
    "\n",
    "#print\n",
    "print(\"\\n===\",str(inp),\"===\")\n",
    "print(\"Mean dari\", str(inp), \"adalah\" ,mean)\n",
    "print(\"Modus dari\", str(inp), \"adalah\" ,modus)\n",
    "print(\"Standard deviasi dari\", str(inp), \"adalah\" ,stdev)\n",
    "print(\"Variansi dari\", str(inp), \"adalah\" ,var)\n",
    "print(\"Range dari\", str(inp), \"adalah\" ,range1)\n",
    "print(\"Maximum dari\", str(inp), \"adalah\" ,max1)\n",
    "print(\"Minimum dari\", str(inp), \"adalah\" ,min1)\n",
    "print(\"Q1 dari\", str(inp), \"adalah\" ,q1)\n",
    "print(\"Q2 dari\", str(inp), \"adalah\" ,q2)\n",
    "print(\"Q3 dari\", str(inp), \"adalah\" ,q3)\n",
    "print(\"Interkuartil dari\", str(inp), \"adalah\" ,iqr)\n",
    "print(\"Skewness dari\", str(inp), \"adalah\" ,skew)\n",
    "print(\"Kurtosis dari\", str(inp), \"adalah\" ,kurtosis)"
   ]
  },
  {
   "cell_type": "markdown",
   "metadata": {},
   "source": [
    "### Deskripsi AreaBulatan"
   ]
  },
  {
   "cell_type": "code",
   "execution_count": 52,
   "metadata": {},
   "outputs": [
    {
     "name": "stdout",
     "output_type": "stream",
     "text": [
      "\n",
      "=== AreaBulatan ===\n",
      "Mean dari AreaBulatan adalah 4937.048\n",
      "Modus dari AreaBulatan adalah 3802\n",
      "Standard deviasi dari AreaBulatan adalah 1011.6962549701573\n",
      "Variansi dari AreaBulatan adalah 1023529.3123206415\n",
      "Range dari AreaBulatan adalah 5141\n",
      "Maximum dari AreaBulatan adalah 7720\n",
      "Minimum dari AreaBulatan adalah 2579\n",
      "Q1 dari AreaBulatan adalah 4170.25\n",
      "Q2 dari AreaBulatan adalah 4857.0\n",
      "Q3 dari AreaBulatan adalah 5654.25\n",
      "Interkuartil dari AreaBulatan adalah 1484.0\n",
      "Skewness dari AreaBulatan adalah 0.2575600053152032\n",
      "Kurtosis dari AreaBulatan adalah -0.40968492037366033\n"
     ]
    }
   ],
   "source": [
    "inp = \"AreaBulatan\"\n",
    "\n",
    "mean = df[inp].mean()\n",
    "median = df[inp].median()\n",
    "modus = df[inp].value_counts().idxmax()\n",
    "stdev = df[inp].std()\n",
    "var = df[inp].var()\n",
    "min1 = df[inp].min()\n",
    "max1 = df[inp].max()\n",
    "range1 = max1 - min1\n",
    "q1 = df[inp].quantile(0.25)\n",
    "q2 = df[inp].quantile(0.5)\n",
    "q3 = df[inp].quantile(0.75)\n",
    "iqr = q3 - q1\n",
    "skew = df[inp].skew()\n",
    "kurtosis = df[inp].kurtosis()\n",
    "\n",
    "#print\n",
    "print(\"\\n===\",str(inp),\"===\")\n",
    "print(\"Mean dari\", str(inp), \"adalah\" ,mean)\n",
    "print(\"Modus dari\", str(inp), \"adalah\" ,modus)\n",
    "print(\"Standard deviasi dari\", str(inp), \"adalah\" ,stdev)\n",
    "print(\"Variansi dari\", str(inp), \"adalah\" ,var)\n",
    "print(\"Range dari\", str(inp), \"adalah\" ,range1)\n",
    "print(\"Maximum dari\", str(inp), \"adalah\" ,max1)\n",
    "print(\"Minimum dari\", str(inp), \"adalah\" ,min1)\n",
    "print(\"Q1 dari\", str(inp), \"adalah\" ,q1)\n",
    "print(\"Q2 dari\", str(inp), \"adalah\" ,q2)\n",
    "print(\"Q3 dari\", str(inp), \"adalah\" ,q3)\n",
    "print(\"Interkuartil dari\", str(inp), \"adalah\" ,iqr)\n",
    "print(\"Skewness dari\", str(inp), \"adalah\" ,skew)\n",
    "print(\"Kurtosis dari\", str(inp), \"adalah\" ,kurtosis)"
   ]
  },
  {
   "cell_type": "markdown",
   "metadata": {},
   "source": [
    "### Deskripsi Diameter"
   ]
  },
  {
   "cell_type": "code",
   "execution_count": 53,
   "metadata": {},
   "outputs": [
    {
     "name": "stdout",
     "output_type": "stream",
     "text": [
      "\n",
      "=== Diameter ===\n",
      "Mean dari Diameter adalah 77.77115780832005\n",
      "Modus dari Diameter adalah 78.83325579\n",
      "Standard deviasi dari Diameter adalah 8.056867291849715\n",
      "Variansi dari Diameter adalah 64.91311055847777\n",
      "Range dari Diameter adalah 40.747172240000005\n",
      "Maximum dari Diameter adalah 97.41383027\n",
      "Minimum dari Diameter adalah 56.66665803\n",
      "Q1 dari Diameter adalah 71.74530754749999\n",
      "Q2 dari Diameter adalah 77.64527658\n",
      "Q3 dari Diameter adalah 83.6485975675\n",
      "Interkuartil dari Diameter adalah 11.903290020000014\n",
      "Skewness dari Diameter adalah 0.002724966865193717\n",
      "Kurtosis dari Diameter adalah -0.4664545130312141\n"
     ]
    }
   ],
   "source": [
    "inp = \"Diameter\"\n",
    "\n",
    "mean = df[inp].mean()\n",
    "median = df[inp].median()\n",
    "modus = df[inp].value_counts().idxmax()\n",
    "stdev = df[inp].std()\n",
    "var = df[inp].var()\n",
    "min1 = df[inp].min()\n",
    "max1 = df[inp].max()\n",
    "range1 = max1 - min1\n",
    "q1 = df[inp].quantile(0.25)\n",
    "q2 = df[inp].quantile(0.5)\n",
    "q3 = df[inp].quantile(0.75)\n",
    "iqr = q3 - q1\n",
    "skew = df[inp].skew()\n",
    "kurtosis = df[inp].kurtosis()\n",
    "\n",
    "#print\n",
    "print(\"\\n===\",str(inp),\"===\")\n",
    "print(\"Mean dari\", str(inp), \"adalah\" ,mean)\n",
    "print(\"Modus dari\", str(inp), \"adalah\" ,modus)\n",
    "print(\"Standard deviasi dari\", str(inp), \"adalah\" ,stdev)\n",
    "print(\"Variansi dari\", str(inp), \"adalah\" ,var)\n",
    "print(\"Range dari\", str(inp), \"adalah\" ,range1)\n",
    "print(\"Maximum dari\", str(inp), \"adalah\" ,max1)\n",
    "print(\"Minimum dari\", str(inp), \"adalah\" ,min1)\n",
    "print(\"Q1 dari\", str(inp), \"adalah\" ,q1)\n",
    "print(\"Q2 dari\", str(inp), \"adalah\" ,q2)\n",
    "print(\"Q3 dari\", str(inp), \"adalah\" ,q3)\n",
    "print(\"Interkuartil dari\", str(inp), \"adalah\" ,iqr)\n",
    "print(\"Skewness dari\", str(inp), \"adalah\" ,skew)\n",
    "print(\"Kurtosis dari\", str(inp), \"adalah\" ,kurtosis)"
   ]
  },
  {
   "cell_type": "markdown",
   "metadata": {},
   "source": [
    "### Deskripsi KadarAir"
   ]
  },
  {
   "cell_type": "code",
   "execution_count": 54,
   "metadata": {},
   "outputs": [
    {
     "name": "stdout",
     "output_type": "stream",
     "text": [
      "\n",
      "=== KadarAir ===\n",
      "Mean dari KadarAir adalah 0.6483716718980002\n",
      "Modus dari KadarAir adalah 0.824404762\n",
      "Standard deviasi dari KadarAir adalah 0.0943670980937953\n",
      "Variansi dari KadarAir adalah 0.008905149202643984\n",
      "Range dari KadarAir adalah 0.46897193099999995\n",
      "Maximum dari KadarAir adalah 0.878899083\n",
      "Minimum dari KadarAir adalah 0.409927152\n",
      "Q1 dari KadarAir adalah 0.57263245725\n",
      "Q2 dari KadarAir adalah 0.626116699\n",
      "Q3 dari KadarAir adalah 0.7266333445000001\n",
      "Interkuartil dari KadarAir adalah 0.15400088725000005\n",
      "Skewness dari KadarAir adalah 0.49366131797330265\n",
      "Kurtosis dari KadarAir adalah -0.7403261705867821\n"
     ]
    }
   ],
   "source": [
    "inp = \"KadarAir\"\n",
    "\n",
    "mean = df[inp].mean()\n",
    "median = df[inp].median()\n",
    "modus = df[inp].value_counts().idxmax()\n",
    "stdev = df[inp].std()\n",
    "var = df[inp].var()\n",
    "min1 = df[inp].min()\n",
    "max1 = df[inp].max()\n",
    "range1 = max1 - min1\n",
    "q1 = df[inp].quantile(0.25)\n",
    "q2 = df[inp].quantile(0.5)\n",
    "q3 = df[inp].quantile(0.75)\n",
    "iqr = q3 - q1\n",
    "skew = df[inp].skew()\n",
    "kurtosis = df[inp].kurtosis()\n",
    "\n",
    "#print\n",
    "print(\"\\n===\",str(inp),\"===\")\n",
    "print(\"Mean dari\", str(inp), \"adalah\" ,mean)\n",
    "print(\"Modus dari\", str(inp), \"adalah\" ,modus)\n",
    "print(\"Standard deviasi dari\", str(inp), \"adalah\" ,stdev)\n",
    "print(\"Variansi dari\", str(inp), \"adalah\" ,var)\n",
    "print(\"Range dari\", str(inp), \"adalah\" ,range1)\n",
    "print(\"Maximum dari\", str(inp), \"adalah\" ,max1)\n",
    "print(\"Minimum dari\", str(inp), \"adalah\" ,min1)\n",
    "print(\"Q1 dari\", str(inp), \"adalah\" ,q1)\n",
    "print(\"Q2 dari\", str(inp), \"adalah\" ,q2)\n",
    "print(\"Q3 dari\", str(inp), \"adalah\" ,q3)\n",
    "print(\"Interkuartil dari\", str(inp), \"adalah\" ,iqr)\n",
    "print(\"Skewness dari\", str(inp), \"adalah\" ,skew)\n",
    "print(\"Kurtosis dari\", str(inp), \"adalah\" ,kurtosis)"
   ]
  },
  {
   "cell_type": "markdown",
   "metadata": {},
   "source": [
    "### Deskripsi Keliling"
   ]
  },
  {
   "cell_type": "code",
   "execution_count": 55,
   "metadata": {},
   "outputs": [
    {
     "name": "stdout",
     "output_type": "stream",
     "text": [
      "\n",
      "=== Keliling ===\n",
      "Mean dari Keliling adalah 281.479722\n",
      "Modus dari Keliling adalah 202.456\n",
      "Standard deviasi dari Keliling adalah 37.335401715143995\n",
      "Variansi dari Keliling adalah 1393.9322212311772\n",
      "Range dari Keliling adalah 291.822\n",
      "Maximum dari Keliling adalah 488.837\n",
      "Minimum dari Keliling adalah 197.015\n",
      "Q1 dari Keliling adalah 255.88299999999998\n",
      "Q2 dari Keliling adalah 280.04549999999995\n",
      "Q3 dari Keliling adalah 306.0625\n",
      "Interkuartil dari Keliling adalah 50.17950000000002\n",
      "Skewness dari Keliling adalah 0.7336269072005543\n",
      "Kurtosis dari Keliling adalah 2.272684731245571\n"
     ]
    }
   ],
   "source": [
    "inp = \"Keliling\"\n",
    "\n",
    "mean = df[inp].mean()\n",
    "median = df[inp].median()\n",
    "modus = df[inp].value_counts().idxmax()\n",
    "stdev = df[inp].std()\n",
    "var = df[inp].var()\n",
    "min1 = df[inp].min()\n",
    "max1 = df[inp].max()\n",
    "range1 = max1 - min1\n",
    "q1 = df[inp].quantile(0.25)\n",
    "q2 = df[inp].quantile(0.5)\n",
    "q3 = df[inp].quantile(0.75)\n",
    "iqr = q3 - q1\n",
    "skew = df[inp].skew()\n",
    "kurtosis = df[inp].kurtosis()\n",
    "\n",
    "#print\n",
    "print(\"\\n===\",str(inp),\"===\")\n",
    "print(\"Mean dari\", str(inp), \"adalah\" ,mean)\n",
    "print(\"Modus dari\", str(inp), \"adalah\" ,modus)\n",
    "print(\"Standard deviasi dari\", str(inp), \"adalah\" ,stdev)\n",
    "print(\"Variansi dari\", str(inp), \"adalah\" ,var)\n",
    "print(\"Range dari\", str(inp), \"adalah\" ,range1)\n",
    "print(\"Maximum dari\", str(inp), \"adalah\" ,max1)\n",
    "print(\"Minimum dari\", str(inp), \"adalah\" ,min1)\n",
    "print(\"Q1 dari\", str(inp), \"adalah\" ,q1)\n",
    "print(\"Q2 dari\", str(inp), \"adalah\" ,q2)\n",
    "print(\"Q3 dari\", str(inp), \"adalah\" ,q3)\n",
    "print(\"Interkuartil dari\", str(inp), \"adalah\" ,iqr)\n",
    "print(\"Skewness dari\", str(inp), \"adalah\" ,skew)\n",
    "print(\"Kurtosis dari\", str(inp), \"adalah\" ,kurtosis)"
   ]
  },
  {
   "cell_type": "markdown",
   "metadata": {},
   "source": [
    "### Deskripsi Bulatan"
   ]
  },
  {
   "cell_type": "code",
   "execution_count": 56,
   "metadata": {},
   "outputs": [
    {
     "name": "stdout",
     "output_type": "stream",
     "text": [
      "\n",
      "=== Bulatan ===\n",
      "Mean dari Bulatan adalah 0.7617374363080005\n",
      "Modus dari Bulatan adalah 0.7556490159999999\n",
      "Standard deviasi dari Bulatan adalah 0.0617024607867326\n",
      "Variansi dari Bulatan adalah 0.0038071936671382743\n",
      "Range dari Bulatan adalah 0.7301581349999999\n",
      "Maximum dari Bulatan adalah 0.9047483129999999\n",
      "Minimum dari Bulatan adalah 0.174590178\n",
      "Q1 dari Bulatan adalah 0.731990728\n",
      "Q2 dari Bulatan adalah 0.7612884395\n",
      "Q3 dari Bulatan adalah 0.79636096975\n",
      "Interkuartil dari Bulatan adalah 0.06437024175000006\n",
      "Skewness dari Bulatan adalah -3.5992367663616407\n",
      "Kurtosis dari Bulatan adalah 29.97509590463005\n"
     ]
    }
   ],
   "source": [
    "inp = \"Bulatan\"\n",
    "\n",
    "mean = df[inp].mean()\n",
    "median = df[inp].median()\n",
    "modus = df[inp].value_counts().idxmax()\n",
    "stdev = df[inp].std()\n",
    "var = df[inp].var()\n",
    "min1 = df[inp].min()\n",
    "max1 = df[inp].max()\n",
    "range1 = max1 - min1\n",
    "q1 = df[inp].quantile(0.25)\n",
    "q2 = df[inp].quantile(0.5)\n",
    "q3 = df[inp].quantile(0.75)\n",
    "iqr = q3 - q1\n",
    "skew = df[inp].skew()\n",
    "kurtosis = df[inp].kurtosis()\n",
    "\n",
    "#print\n",
    "print(\"\\n===\",str(inp),\"===\")\n",
    "print(\"Mean dari\", str(inp), \"adalah\" ,mean)\n",
    "print(\"Modus dari\", str(inp), \"adalah\" ,modus)\n",
    "print(\"Standard deviasi dari\", str(inp), \"adalah\" ,stdev)\n",
    "print(\"Variansi dari\", str(inp), \"adalah\" ,var)\n",
    "print(\"Range dari\", str(inp), \"adalah\" ,range1)\n",
    "print(\"Maximum dari\", str(inp), \"adalah\" ,max1)\n",
    "print(\"Minimum dari\", str(inp), \"adalah\" ,min1)\n",
    "print(\"Q1 dari\", str(inp), \"adalah\" ,q1)\n",
    "print(\"Q2 dari\", str(inp), \"adalah\" ,q2)\n",
    "print(\"Q3 dari\", str(inp), \"adalah\" ,q3)\n",
    "print(\"Interkuartil dari\", str(inp), \"adalah\" ,iqr)\n",
    "print(\"Skewness dari\", str(inp), \"adalah\" ,skew)\n",
    "print(\"Kurtosis dari\", str(inp), \"adalah\" ,kurtosis)"
   ]
  },
  {
   "cell_type": "markdown",
   "metadata": {},
   "source": [
    "### Deskripsi Ransum"
   ]
  },
  {
   "cell_type": "code",
   "execution_count": 57,
   "metadata": {},
   "outputs": [
    {
     "name": "stdout",
     "output_type": "stream",
     "text": [
      "\n",
      "=== Ransum ===\n",
      "Mean dari Ransum adalah 2.150915331084002\n",
      "Modus dari Ransum adalah 1.901437269\n",
      "Standard deviasi dari Ransum adalah 0.24976688927065827\n",
      "Variansi dari Ransum adalah 0.06238349897594127\n",
      "Range dari Ransum adalah 1.0240129659999997\n",
      "Maximum dari Ransum adalah 2.4648085809999998\n",
      "Minimum dari Ransum adalah 1.440795615\n",
      "Q1 dari Ransum adalah 1.98393879075\n",
      "Q2 dari Ransum adalah 2.1935990365\n",
      "Q3 dari Ransum adalah 2.38161221825\n",
      "Interkuartil dari Ransum adalah 0.3976734275\n",
      "Skewness dari Ransum adalah -0.6581880925333653\n",
      "Kurtosis dari Ransum adalah -0.4286557930626156\n"
     ]
    }
   ],
   "source": [
    "inp = \"Ransum\"\n",
    "\n",
    "mean = df[inp].mean()\n",
    "median = df[inp].median()\n",
    "modus = df[inp].value_counts().idxmax()\n",
    "stdev = df[inp].std()\n",
    "var = df[inp].var()\n",
    "min1 = df[inp].min()\n",
    "max1 = df[inp].max()\n",
    "range1 = max1 - min1\n",
    "q1 = df[inp].quantile(0.25)\n",
    "q2 = df[inp].quantile(0.5)\n",
    "q3 = df[inp].quantile(0.75)\n",
    "iqr = q3 - q1\n",
    "skew = df[inp].skew()\n",
    "kurtosis = df[inp].kurtosis()\n",
    "\n",
    "#print\n",
    "print(\"\\n===\",str(inp),\"===\")\n",
    "print(\"Mean dari\", str(inp), \"adalah\" ,mean)\n",
    "print(\"Modus dari\", str(inp), \"adalah\" ,modus)\n",
    "print(\"Standard deviasi dari\", str(inp), \"adalah\" ,stdev)\n",
    "print(\"Variansi dari\", str(inp), \"adalah\" ,var)\n",
    "print(\"Range dari\", str(inp), \"adalah\" ,range1)\n",
    "print(\"Maximum dari\", str(inp), \"adalah\" ,max1)\n",
    "print(\"Minimum dari\", str(inp), \"adalah\" ,min1)\n",
    "print(\"Q1 dari\", str(inp), \"adalah\" ,q1)\n",
    "print(\"Q2 dari\", str(inp), \"adalah\" ,q2)\n",
    "print(\"Q3 dari\", str(inp), \"adalah\" ,q3)\n",
    "print(\"Interkuartil dari\", str(inp), \"adalah\" ,iqr)\n",
    "print(\"Skewness dari\", str(inp), \"adalah\" ,skew)\n",
    "print(\"Kurtosis dari\", str(inp), \"adalah\" ,kurtosis)"
   ]
  },
  {
   "cell_type": "markdown",
   "metadata": {},
   "source": [
    "# Nomor 2 <a name=\"no2\"></a>\n",
    "### Visualisasi Daerah"
   ]
  },
  {
   "cell_type": "code",
   "execution_count": 58,
   "metadata": {},
   "outputs": [
    {
     "data": {
      "text/plain": [
       "<AxesSubplot:>"
      ]
     },
     "execution_count": 58,
     "metadata": {},
     "output_type": "execute_result"
    },
    {
     "data": {
      "image/png": "[encoded data removed]",
      "text/plain": [
       "<Figure size 432x288 with 2 Axes>"
      ]
     },
     "metadata": {
      "needs_background": "light"
     },
     "output_type": "display_data"
    }
   ],
   "source": [
    "#NOMOR 2 \n",
    "\n",
    "#inp = input(\"Masukkan nama data yang dicari : \")\n",
    "inp = \"Daerah\"\n",
    "\n",
    "fig, axs = plt.subplots(1,2)\n",
    "\n",
    "df[inp].hist(ax=axs[0])\n",
    "df.boxplot(inp)"
   ]
  },
  {
   "cell_type": "markdown",
   "metadata": {},
   "source": [
    "### Visualisasi SumbuUtama"
   ]
  },
  {
   "cell_type": "code",
   "execution_count": 59,
   "metadata": {},
   "outputs": [
    {
     "data": {
      "text/plain": [
       "<AxesSubplot:>"
      ]
     },
     "execution_count": 59,
     "metadata": {},
     "output_type": "execute_result"
    },
    {
     "data": {
      "image/png": "[encoded data removed]",
      "text/plain": [
       "<Figure size 432x288 with 2 Axes>"
      ]
     },
     "metadata": {
      "needs_background": "light"
     },
     "output_type": "display_data"
    }
   ],
   "source": [
    "inp = \"SumbuUtama\"\n",
    "\n",
    "fig, axs = plt.subplots(1,2)\n",
    "\n",
    "df[inp].hist(ax=axs[0])\n",
    "df.boxplot(inp)"
   ]
  },
  {
   "cell_type": "markdown",
   "metadata": {},
   "source": [
    "### Visualisasi SumbuKecil"
   ]
  },
  {
   "cell_type": "code",
   "execution_count": 60,
   "metadata": {},
   "outputs": [
    {
     "data": {
      "text/plain": [
       "<AxesSubplot:>"
      ]
     },
     "execution_count": 60,
     "metadata": {},
     "output_type": "execute_result"
    },
    {
     "data": {
      "image/png": "[encoded data removed]",
      "text/plain": [
       "<Figure size 432x288 with 2 Axes>"
      ]
     },
     "metadata": {
      "needs_background": "light"
     },
     "output_type": "display_data"
    }
   ],
   "source": [
    "inp = \"SumbuKecil\"\n",
    "\n",
    "fig, axs = plt.subplots(1,2)\n",
    "\n",
    "df[inp].hist(ax=axs[0])\n",
    "df.boxplot(inp)"
   ]
  },
  {
   "cell_type": "markdown",
   "metadata": {},
   "source": [
    "### Visualisasi Keunikan"
   ]
  },
  {
   "cell_type": "code",
   "execution_count": 61,
   "metadata": {},
   "outputs": [
    {
     "data": {
      "text/plain": [
       "<AxesSubplot:>"
      ]
     },
     "execution_count": 61,
     "metadata": {},
     "output_type": "execute_result"
    },
    {
     "data": {
      "image/png": "[encoded data removed]",
      "text/plain": [
       "<Figure size 432x288 with 2 Axes>"
      ]
     },
     "metadata": {
      "needs_background": "light"
     },
     "output_type": "display_data"
    }
   ],
   "source": [
    "inp = \"Keunikan\"\n",
    "\n",
    "fig, axs = plt.subplots(1,2)\n",
    "\n",
    "df[inp].hist(ax=axs[0])\n",
    "df.boxplot(inp)"
   ]
  },
  {
   "cell_type": "markdown",
   "metadata": {},
   "source": [
    "### Visualisasi AreaBulatan"
   ]
  },
  {
   "cell_type": "code",
   "execution_count": 62,
   "metadata": {},
   "outputs": [
    {
     "data": {
      "text/plain": [
       "<AxesSubplot:>"
      ]
     },
     "execution_count": 62,
     "metadata": {},
     "output_type": "execute_result"
    },
    {
     "data": {
      "image/png": "[encoded data removed]",
      "text/plain": [
       "<Figure size 432x288 with 2 Axes>"
      ]
     },
     "metadata": {
      "needs_background": "light"
     },
     "output_type": "display_data"
    }
   ],
   "source": [
    "inp = \"AreaBulatan\"\n",
    "\n",
    "fig, axs = plt.subplots(1,2)\n",
    "\n",
    "df[inp].hist(ax=axs[0])\n",
    "df.boxplot(inp)"
   ]
  },
  {
   "cell_type": "markdown",
   "metadata": {},
   "source": [
    "### Visualisasi Diamater"
   ]
  },
  {
   "cell_type": "code",
   "execution_count": 63,
   "metadata": {},
   "outputs": [
    {
     "data": {
      "text/plain": [
       "<AxesSubplot:>"
      ]
     },
     "execution_count": 63,
     "metadata": {},
     "output_type": "execute_result"
    },
    {
     "data": {
      "image/png": "[encoded data removed]",
      "text/plain": [
       "<Figure size 432x288 with 2 Axes>"
      ]
     },
     "metadata": {
      "needs_background": "light"
     },
     "output_type": "display_data"
    }
   ],
   "source": [
    "inp = \"Diameter\"\n",
    "\n",
    "fig, axs = plt.subplots(1,2)\n",
    "\n",
    "df[inp].hist(ax=axs[0])\n",
    "df.boxplot(inp)"
   ]
  },
  {
   "cell_type": "markdown",
   "metadata": {},
   "source": [
    "### Visualisasi KadarAir"
   ]
  },
  {
   "cell_type": "code",
   "execution_count": 64,
   "metadata": {},
   "outputs": [
    {
     "data": {
      "text/plain": [
       "<AxesSubplot:>"
      ]
     },
     "execution_count": 64,
     "metadata": {},
     "output_type": "execute_result"
    },
    {
     "data": {
      "image/png": "[encoded data removed]",
      "text/plain": [
       "<Figure size 432x288 with 2 Axes>"
      ]
     },
     "metadata": {
      "needs_background": "light"
     },
     "output_type": "display_data"
    }
   ],
   "source": [
    "inp = \"KadarAir\"\n",
    "\n",
    "fig, axs = plt.subplots(1,2)\n",
    "\n",
    "df[inp].hist(ax=axs[0])\n",
    "df.boxplot(inp)"
   ]
  },
  {
   "cell_type": "markdown",
   "metadata": {},
   "source": [
    "### Visualisasi Keliling"
   ]
  },
  {
   "cell_type": "code",
   "execution_count": 65,
   "metadata": {},
   "outputs": [
    {
     "data": {
      "text/plain": [
       "<AxesSubplot:>"
      ]
     },
     "execution_count": 65,
     "metadata": {},
     "output_type": "execute_result"
    },
    {
     "data": {
      "image/png": "[encoded data removed]",
      "text/plain": [
       "<Figure size 432x288 with 2 Axes>"
      ]
     },
     "metadata": {
      "needs_background": "light"
     },
     "output_type": "display_data"
    }
   ],
   "source": [
    "inp = \"Keliling\"\n",
    "\n",
    "fig, axs = plt.subplots(1,2)\n",
    "\n",
    "df[inp].hist(ax=axs[0])\n",
    "df.boxplot(inp)"
   ]
  },
  {
   "cell_type": "markdown",
   "metadata": {},
   "source": [
    "### Visualisasi Bulatan"
   ]
  },
  {
   "cell_type": "code",
   "execution_count": 66,
   "metadata": {},
   "outputs": [
    {
     "data": {
      "text/plain": [
       "<AxesSubplot:>"
      ]
     },
     "execution_count": 66,
     "metadata": {},
     "output_type": "execute_result"
    },
    {
     "data": {
      "image/png": "[encoded data removed]",
      "text/plain": [
       "<Figure size 432x288 with 2 Axes>"
      ]
     },
     "metadata": {
      "needs_background": "light"
     },
     "output_type": "display_data"
    }
   ],
   "source": [
    "inp = \"Bulatan\"\n",
    "\n",
    "fig, axs = plt.subplots(1,2)\n",
    "\n",
    "df[inp].hist(ax=axs[0])\n",
    "df.boxplot(inp)"
   ]
  },
  {
   "cell_type": "markdown",
   "metadata": {},
   "source": [
    "### Visualisasi Ransum"
   ]
  },
  {
   "cell_type": "code",
   "execution_count": 67,
   "metadata": {},
   "outputs": [
    {
     "data": {
      "text/plain": [
       "<AxesSubplot:>"
      ]
     },
     "execution_count": 67,
     "metadata": {},
     "output_type": "execute_result"
    },
    {
     "data": {
      "image/png": "[encoded data removed]",
      "text/plain": [
       "<Figure size 432x288 with 2 Axes>"
      ]
     },
     "metadata": {
      "needs_background": "light"
     },
     "output_type": "display_data"
    }
   ],
   "source": [
    "inp = \"Ransum\"\n",
    "\n",
    "fig, axs = plt.subplots(1,2)\n",
    "\n",
    "df[inp].hist(ax=axs[0])\n",
    "df.boxplot(inp)"
   ]
  },
  {
   "cell_type": "markdown",
   "metadata": {},
   "source": [
    "# Nomor 3<a name=\"no3\"></a>\n",
    "### Tes Daerah"
   ]
  },
  {
   "cell_type": "code",
   "execution_count": 68,
   "metadata": {},
   "outputs": [
    {
     "data": {
      "image/png": "[encoded data removed]",
      "text/plain": [
       "<Figure size 432x288 with 1 Axes>"
      ]
     },
     "metadata": {
      "needs_background": "light"
     },
     "output_type": "display_data"
    },
    {
     "name": "stdout",
     "output_type": "stream",
     "text": [
      "Statistics=10.859, p=0.004\n",
      "Tidak Distribusi Normal\n"
     ]
    }
   ],
   "source": [
    "#NOMOR 3\n",
    "import numpy as np\n",
    "import matplotlib.pyplot as plt\n",
    "import statistics\n",
    "from scipy import stats\n",
    "from scipy.stats import norm\n",
    "\n",
    "#inpnorm = input(\"Masukkan data yang dicari: \")\n",
    "inpnorm = \"Daerah\"\n",
    "x_axis = df[inpnorm] # kolom yang dituju\n",
    "mean = statistics.mean(x_axis)\n",
    "sd = statistics.stdev(x_axis)\n",
    "\n",
    "plt.plot(x_axis, norm.pdf(x_axis, mean, sd))\n",
    "    \n",
    "plt.hist(x_axis)\n",
    "plt.xlabel(inpnorm)\n",
    "plt.ylabel(\"count\")\n",
    "plt.show()\n",
    "\n",
    "stat, p = stats.normaltest(x_axis)\n",
    "print('Statistics=%.3f, p=%.3f' % (stat, p))\n",
    "\n",
    "alpha = 0.05\n",
    "if p > alpha:\n",
    "    print('Distribusi Normal')\n",
    "else:\n",
    "    print('Tidak Distribusi Normal')"
   ]
  },
  {
   "cell_type": "markdown",
   "metadata": {},
   "source": [
    "### Tes SumbuUtama"
   ]
  },
  {
   "cell_type": "code",
   "execution_count": 69,
   "metadata": {},
   "outputs": [
    {
     "data": {
      "image/png": "[encoded data removed]",
      "text/plain": [
       "<Figure size 432x288 with 1 Axes>"
      ]
     },
     "metadata": {
      "needs_background": "light"
     },
     "output_type": "display_data"
    },
    {
     "name": "stdout",
     "output_type": "stream",
     "text": [
      "Statistics=95.120, p=0.000\n",
      "Tidak Distribusi Normal\n"
     ]
    }
   ],
   "source": [
    "inpnorm = \"SumbuUtama\"\n",
    "x_axis = df[inpnorm] # kolom yang dituju\n",
    "mean = statistics.mean(x_axis)\n",
    "sd = statistics.stdev(x_axis)\n",
    "\n",
    "plt.plot(x_axis, norm.pdf(x_axis, mean, sd))\n",
    "    \n",
    "plt.hist(x_axis)\n",
    "plt.xlabel(inpnorm)\n",
    "plt.ylabel(\"count\")\n",
    "plt.show()\n",
    "\n",
    "stat, p = stats.normaltest(x_axis)\n",
    "print('Statistics=%.3f, p=%.3f' % (stat, p))\n",
    "\n",
    "alpha = 0.05\n",
    "if p > alpha:\n",
    "    print('Distribusi Normal')\n",
    "else:\n",
    "    print('Tidak Distribusi Normal')"
   ]
  },
  {
   "cell_type": "markdown",
   "metadata": {},
   "source": [
    "### Tes SumbuKecil"
   ]
  },
  {
   "cell_type": "code",
   "execution_count": 70,
   "metadata": {},
   "outputs": [
    {
     "data": {
      "image/png": "[encoded data removed]",
      "text/plain": [
       "<Figure size 432x288 with 1 Axes>"
      ]
     },
     "metadata": {
      "needs_background": "light"
     },
     "output_type": "display_data"
    },
    {
     "name": "stdout",
     "output_type": "stream",
     "text": [
      "Statistics=3.698, p=0.157\n",
      "Distribusi Normal\n"
     ]
    }
   ],
   "source": [
    "inpnorm = \"SumbuKecil\"\n",
    "x_axis = df[inpnorm] # kolom yang dituju\n",
    "mean = statistics.mean(x_axis)\n",
    "sd = statistics.stdev(x_axis)\n",
    "\n",
    "plt.plot(x_axis, norm.pdf(x_axis, mean, sd))\n",
    "    \n",
    "plt.hist(x_axis)\n",
    "plt.xlabel(inpnorm)\n",
    "plt.ylabel(\"count\")\n",
    "plt.show()\n",
    "\n",
    "stat, p = stats.normaltest(x_axis)\n",
    "print('Statistics=%.3f, p=%.3f' % (stat, p))\n",
    "\n",
    "alpha = 0.05\n",
    "if p > alpha:\n",
    "    print('Distribusi Normal')\n",
    "else:\n",
    "    print('Tidak Distribusi Normal')"
   ]
  },
  {
   "cell_type": "markdown",
   "metadata": {},
   "source": [
    "### Tes Keunikan"
   ]
  },
  {
   "cell_type": "code",
   "execution_count": 71,
   "metadata": {},
   "outputs": [
    {
     "data": {
      "image/png": "[encoded data removed]",
      "text/plain": [
       "<Figure size 432x288 with 1 Axes>"
      ]
     },
     "metadata": {
      "needs_background": "light"
     },
     "output_type": "display_data"
    },
    {
     "name": "stdout",
     "output_type": "stream",
     "text": [
      "Statistics=158.617, p=0.000\n",
      "Tidak Distribusi Normal\n"
     ]
    }
   ],
   "source": [
    "inpnorm = \"Keunikan\"\n",
    "x_axis = df[inpnorm] # kolom yang dituju\n",
    "mean = statistics.mean(x_axis)\n",
    "sd = statistics.stdev(x_axis)\n",
    "\n",
    "plt.plot(x_axis, norm.pdf(x_axis, mean, sd))\n",
    "    \n",
    "plt.hist(x_axis)\n",
    "plt.xlabel(inpnorm)\n",
    "plt.ylabel(\"count\")\n",
    "plt.show()\n",
    "\n",
    "stat, p = stats.normaltest(x_axis)\n",
    "print('Statistics=%.3f, p=%.3f' % (stat, p))\n",
    "\n",
    "alpha = 0.05\n",
    "if p > alpha:\n",
    "    print('Distribusi Normal')\n",
    "else:\n",
    "    print('Tidak Distribusi Normal')"
   ]
  },
  {
   "cell_type": "markdown",
   "metadata": {},
   "source": [
    "### Tes AreaBulatan"
   ]
  },
  {
   "cell_type": "code",
   "execution_count": 72,
   "metadata": {},
   "outputs": [
    {
     "data": {
      "image/png": "[encoded data removed]",
      "text/plain": [
       "<Figure size 432x288 with 1 Axes>"
      ]
     },
     "metadata": {
      "needs_background": "light"
     },
     "output_type": "display_data"
    },
    {
     "name": "stdout",
     "output_type": "stream",
     "text": [
      "Statistics=10.739, p=0.005\n",
      "Tidak Distribusi Normal\n"
     ]
    }
   ],
   "source": [
    "inpnorm = \"AreaBulatan\"\n",
    "x_axis = df[inpnorm] # kolom yang dituju\n",
    "mean = statistics.mean(x_axis)\n",
    "sd = statistics.stdev(x_axis)\n",
    "\n",
    "plt.plot(x_axis, norm.pdf(x_axis, mean, sd))\n",
    "    \n",
    "plt.hist(x_axis)\n",
    "plt.xlabel(inpnorm)\n",
    "plt.ylabel(\"count\")\n",
    "plt.show()\n",
    "\n",
    "stat, p = stats.normaltest(x_axis)\n",
    "print('Statistics=%.3f, p=%.3f' % (stat, p))\n",
    "\n",
    "alpha = 0.05\n",
    "if p > alpha:\n",
    "    print('Distribusi Normal')\n",
    "else:\n",
    "    print('Tidak Distribusi Normal')"
   ]
  },
  {
   "cell_type": "markdown",
   "metadata": {},
   "source": [
    "### Tes Diameter"
   ]
  },
  {
   "cell_type": "code",
   "execution_count": 73,
   "metadata": {},
   "outputs": [
    {
     "data": {
      "image/png": "[encoded data removed]",
      "text/plain": [
       "<Figure size 432x288 with 1 Axes>"
      ]
     },
     "metadata": {
      "needs_background": "light"
     },
     "output_type": "display_data"
    },
    {
     "name": "stdout",
     "output_type": "stream",
     "text": [
      "Statistics=7.446, p=0.024\n",
      "Tidak Distribusi Normal\n"
     ]
    }
   ],
   "source": [
    "inpnorm = \"Diameter\"\n",
    "x_axis = df[inpnorm] # kolom yang dituju\n",
    "mean = statistics.mean(x_axis)\n",
    "sd = statistics.stdev(x_axis)\n",
    "\n",
    "plt.plot(x_axis, norm.pdf(x_axis, mean, sd))\n",
    "    \n",
    "plt.hist(x_axis)\n",
    "plt.xlabel(inpnorm)\n",
    "plt.ylabel(\"count\")\n",
    "plt.show()\n",
    "\n",
    "stat, p = stats.normaltest(x_axis)\n",
    "print('Statistics=%.3f, p=%.3f' % (stat, p))\n",
    "\n",
    "alpha = 0.05\n",
    "if p > alpha:\n",
    "    print('Distribusi Normal')\n",
    "else:\n",
    "    print('Tidak Distribusi Normal')"
   ]
  },
  {
   "cell_type": "markdown",
   "metadata": {},
   "source": [
    "### Tes KadarAir"
   ]
  },
  {
   "cell_type": "code",
   "execution_count": 74,
   "metadata": {},
   "outputs": [
    {
     "data": {
      "image/png": "[encoded data removed]",
      "text/plain": [
       "<Figure size 432x288 with 1 Axes>"
      ]
     },
     "metadata": {
      "needs_background": "light"
     },
     "output_type": "display_data"
    },
    {
     "name": "stdout",
     "output_type": "stream",
     "text": [
      "Statistics=48.756, p=0.000\n",
      "Tidak Distribusi Normal\n"
     ]
    }
   ],
   "source": [
    "inpnorm = \"KadarAir\"\n",
    "x_axis = df[inpnorm] # kolom yang dituju\n",
    "mean = statistics.mean(x_axis)\n",
    "sd = statistics.stdev(x_axis)\n",
    "\n",
    "plt.plot(x_axis, norm.pdf(x_axis, mean, sd))\n",
    "    \n",
    "plt.hist(x_axis)\n",
    "plt.xlabel(inpnorm)\n",
    "plt.ylabel(\"count\")\n",
    "plt.show()\n",
    "\n",
    "stat, p = stats.normaltest(x_axis)\n",
    "print('Statistics=%.3f, p=%.3f' % (stat, p))\n",
    "\n",
    "alpha = 0.05\n",
    "if p > alpha:\n",
    "    print('Distribusi Normal')\n",
    "else:\n",
    "    print('Tidak Distribusi Normal')"
   ]
  },
  {
   "cell_type": "markdown",
   "metadata": {},
   "source": [
    "### Tes Keliling"
   ]
  },
  {
   "cell_type": "code",
   "execution_count": 75,
   "metadata": {},
   "outputs": [
    {
     "data": {
      "image/png": "[encoded data removed]",
      "text/plain": [
       "<Figure size 432x288 with 1 Axes>"
      ]
     },
     "metadata": {
      "needs_background": "light"
     },
     "output_type": "display_data"
    },
    {
     "name": "stdout",
     "output_type": "stream",
     "text": [
      "Statistics=67.465, p=0.000\n",
      "Tidak Distribusi Normal\n"
     ]
    }
   ],
   "source": [
    "inpnorm = \"Keliling\"\n",
    "x_axis = df[inpnorm] # kolom yang dituju\n",
    "mean = statistics.mean(x_axis)\n",
    "sd = statistics.stdev(x_axis)\n",
    "\n",
    "plt.plot(x_axis, norm.pdf(x_axis, mean, sd))\n",
    "    \n",
    "plt.hist(x_axis)\n",
    "plt.xlabel(inpnorm)\n",
    "plt.ylabel(\"count\")\n",
    "plt.show()\n",
    "\n",
    "stat, p = stats.normaltest(x_axis)\n",
    "print('Statistics=%.3f, p=%.3f' % (stat, p))\n",
    "\n",
    "alpha = 0.05\n",
    "if p > alpha:\n",
    "    print('Distribusi Normal')\n",
    "else:\n",
    "    print('Tidak Distribusi Normal')"
   ]
  },
  {
   "cell_type": "markdown",
   "metadata": {},
   "source": [
    "### Tes Bulatan"
   ]
  },
  {
   "cell_type": "code",
   "execution_count": 76,
   "metadata": {},
   "outputs": [
    {
     "data": {
      "image/png": "[encoded data removed]",
      "text/plain": [
       "<Figure size 432x288 with 1 Axes>"
      ]
     },
     "metadata": {
      "needs_background": "light"
     },
     "output_type": "display_data"
    },
    {
     "name": "stdout",
     "output_type": "stream",
     "text": [
      "Statistics=442.119, p=0.000\n",
      "Tidak Distribusi Normal\n"
     ]
    }
   ],
   "source": [
    "inpnorm = \"Bulatan\"\n",
    "x_axis = df[inpnorm] # kolom yang dituju\n",
    "mean = statistics.mean(x_axis)\n",
    "sd = statistics.stdev(x_axis)\n",
    "\n",
    "plt.plot(x_axis, norm.pdf(x_axis, mean, sd))\n",
    "    \n",
    "plt.hist(x_axis)\n",
    "plt.xlabel(inpnorm)\n",
    "plt.ylabel(\"count\")\n",
    "plt.show()\n",
    "\n",
    "stat, p = stats.normaltest(x_axis)\n",
    "print('Statistics=%.3f, p=%.3f' % (stat, p))\n",
    "\n",
    "alpha = 0.05\n",
    "if p > alpha:\n",
    "    print('Distribusi Normal')\n",
    "else:\n",
    "    print('Tidak Distribusi Normal')"
   ]
  },
  {
   "cell_type": "markdown",
   "metadata": {},
   "source": [
    "### Tes Ransum"
   ]
  },
  {
   "cell_type": "code",
   "execution_count": 77,
   "metadata": {},
   "outputs": [
    {
     "data": {
      "image/png": "[encoded data removed]",
      "text/plain": [
       "<Figure size 432x288 with 1 Axes>"
      ]
     },
     "metadata": {
      "needs_background": "light"
     },
     "output_type": "display_data"
    },
    {
     "name": "stdout",
     "output_type": "stream",
     "text": [
      "Statistics=37.060, p=0.000\n",
      "Tidak Distribusi Normal\n"
     ]
    }
   ],
   "source": [
    "inpnorm = \"Ransum\"\n",
    "x_axis = df[inpnorm] # kolom yang dituju\n",
    "mean = statistics.mean(x_axis)\n",
    "sd = statistics.stdev(x_axis)\n",
    "\n",
    "plt.plot(x_axis, norm.pdf(x_axis, mean, sd))\n",
    "    \n",
    "plt.hist(x_axis)\n",
    "plt.xlabel(inpnorm)\n",
    "plt.ylabel(\"count\")\n",
    "plt.show()\n",
    "\n",
    "stat, p = stats.normaltest(x_axis)\n",
    "print('Statistics=%.3f, p=%.3f' % (stat, p))\n",
    "\n",
    "alpha = 0.05\n",
    "if p > alpha:\n",
    "    print('Distribusi Normal')\n",
    "else:\n",
    "    print('Tidak Distribusi Normal')"
   ]
  },
  {
   "cell_type": "markdown",
   "metadata": {},
   "source": [
    "# Nomor 4<a name=\"no4\"></a>"
   ]
  },
  {
   "cell_type": "code",
   "execution_count": 78,
   "metadata": {},
   "outputs": [
    {
     "name": "stdout",
     "output_type": "stream",
     "text": [
      "Langkah 1: Menentukan Hipotesis Nol\n"
     ]
    },
    {
     "data": {
      "text/latex": [
       "$\\displaystyle H_{0}: \\mu = 4700$"
      ],
      "text/plain": [
       "<IPython.core.display.Math object>"
      ]
     },
     "metadata": {},
     "output_type": "display_data"
    },
    {
     "name": "stdout",
     "output_type": "stream",
     "text": [
      "\n",
      "Langkah 2: Menentukan Hipotesis Alternatif\n"
     ]
    },
    {
     "data": {
      "text/latex": [
       "$\\displaystyle H_{1}: \\mu > 4700$"
      ],
      "text/plain": [
       "<IPython.core.display.Math object>"
      ]
     },
     "metadata": {},
     "output_type": "display_data"
    },
    {
     "name": "stdout",
     "output_type": "stream",
     "text": [
      "\n",
      "Langkah 3: Menentukan Tingkat Signifikan Alpha\n"
     ]
    },
    {
     "data": {
      "text/latex": [
       "$\\displaystyle \\alpha = 0.05$"
      ],
      "text/plain": [
       "<IPython.core.display.Math object>"
      ]
     },
     "metadata": {},
     "output_type": "display_data"
    },
    {
     "name": "stdout",
     "output_type": "stream",
     "text": [
      "\n",
      "Langkah 4: Menentukan Uji Statistik dan Daerah Kritis\n"
     ]
    },
    {
     "data": {
      "text/latex": [
       "$\\displaystyle z = 1.645$"
      ],
      "text/plain": [
       "<IPython.core.display.Math object>"
      ]
     },
     "metadata": {},
     "output_type": "display_data"
    },
    {
     "data": {
      "text/latex": [
       "$\\displaystyle z = \\frac{\\overline{x}-\\mu _{0}}{\\frac{\\sigma }{\\sqrt{n}}}$"
      ],
      "text/plain": [
       "<IPython.core.display.Math object>"
      ]
     },
     "metadata": {},
     "output_type": "display_data"
    },
    {
     "name": "stdout",
     "output_type": "stream",
     "text": [
      "\n",
      "Langkah 5: Nilai Uji Statistik\n",
      "\n",
      "Langkah 6: Keputusan\n"
     ]
    }
   ],
   "source": [
    "#NOMOR 4a: nilai rata-rata Daerah di atas 4700\n",
    "from IPython.display import display, Math, Latex\n",
    "mean = df[\"Daerah\"].mean()\n",
    "variansi = df.var()\n",
    "\n",
    "print(\"Langkah 1: Menentukan Hipotesis Nol\")\n",
    "display(Math(r'H_{0}: \\mu = 4700'))\n",
    "print(\"\\nLangkah 2: Menentukan Hipotesis Alternatif\")\n",
    "display(Math(r'H_{1}: \\mu > 4700'))\n",
    "print(\"\\nLangkah 3: Menentukan Tingkat Signifikan Alpha\")\n",
    "display(Math(r'\\alpha = 0.05'))\n",
    "print(\"\\nLangkah 4: Menentukan Uji Statistik dan Daerah Kritis\")\n",
    "display(Math(r'z = 1.645'))\n",
    "display(Math(r'z = \\frac{\\overline{x}-\\mu _{0}}{\\frac{\\sigma }{\\sqrt{n}}}'))\n",
    "print(\"\\nLangkah 5: Nilai Uji Statistik\")\n",
    "print(\"\\nLangkah 6: Keputusan\")"
   ]
  },
  {
   "cell_type": "code",
   "execution_count": 79,
   "metadata": {},
   "outputs": [
    {
     "name": "stdout",
     "output_type": "stream",
     "text": [
      "Langkah 1: Menentukan Hipotesis Nol\n"
     ]
    },
    {
     "data": {
      "text/latex": [
       "$\\displaystyle H_{0}: \\mu = 116$"
      ],
      "text/plain": [
       "<IPython.core.display.Math object>"
      ]
     },
     "metadata": {},
     "output_type": "display_data"
    },
    {
     "name": "stdout",
     "output_type": "stream",
     "text": [
      "\n",
      "Langkah 2: Menentukan Hipotesis Alternatif\n"
     ]
    },
    {
     "data": {
      "text/latex": [
       "$\\displaystyle H_{1}: \\mu \\neq 116$"
      ],
      "text/plain": [
       "<IPython.core.display.Math object>"
      ]
     },
     "metadata": {},
     "output_type": "display_data"
    },
    {
     "name": "stdout",
     "output_type": "stream",
     "text": [
      "\n",
      "Langkah 3: Menentukan Tingkat Signifikan Alpha\n"
     ]
    },
    {
     "data": {
      "text/latex": [
       "$\\displaystyle \\alpha = 0.05$"
      ],
      "text/plain": [
       "<IPython.core.display.Math object>"
      ]
     },
     "metadata": {},
     "output_type": "display_data"
    }
   ],
   "source": [
    "#NOMOR 4b: nilai rata-rata SumbuUtama /= 116\n",
    "mean = df[\"SumbuUtama\"].mean()\n",
    "print(\"Langkah 1: Menentukan Hipotesis Nol\")\n",
    "display(Math(r'H_{0}: \\mu = 116'))\n",
    "print(\"\\nLangkah 2: Menentukan Hipotesis Alternatif\")\n",
    "display(Math(r'H_{1}: \\mu \\neq 116'))\n",
    "print(\"\\nLangkah 3: Menentukan Tingkat Signifikan Alpha\")\n",
    "display(Math(r'\\alpha = 0.05'))"
   ]
  },
  {
   "cell_type": "code",
   "execution_count": 80,
   "metadata": {},
   "outputs": [
    {
     "name": "stdout",
     "output_type": "stream",
     "text": [
      "Langkah 1: Menentukan Hipotesis Nol\n"
     ]
    },
    {
     "data": {
      "text/latex": [
       "$\\displaystyle H_{0}: \\mu = 50$"
      ],
      "text/plain": [
       "<IPython.core.display.Math object>"
      ]
     },
     "metadata": {},
     "output_type": "display_data"
    },
    {
     "name": "stdout",
     "output_type": "stream",
     "text": [
      "\n",
      "Langkah 2: Menentukan Hipotesis Alternatif\n"
     ]
    },
    {
     "data": {
      "text/latex": [
       "$\\displaystyle H_{1}: \\mu \\neq 50$"
      ],
      "text/plain": [
       "<IPython.core.display.Math object>"
      ]
     },
     "metadata": {},
     "output_type": "display_data"
    },
    {
     "name": "stdout",
     "output_type": "stream",
     "text": [
      "\n",
      "Langkah 3: Menentukan Tingkat Signifikan Alpha\n"
     ]
    },
    {
     "data": {
      "text/latex": [
       "$\\displaystyle \\alpha = 0.05$"
      ],
      "text/plain": [
       "<IPython.core.display.Math object>"
      ]
     },
     "metadata": {},
     "output_type": "display_data"
    },
    {
     "name": "stdout",
     "output_type": "stream",
     "text": [
      "Rata-rata 20 baris pertama SumbuKecil: 54.887276260499995\n",
      "Ya, rata-rata 20 baris pertama SumbuKecil bukan 50.\n"
     ]
    }
   ],
   "source": [
    "#NOMOR 4c: rata-rata 20 baris pertama SumbuKecil bukan 50\n",
    "mean = df[\"SumbuKecil\"][:20].mean()\n",
    "\n",
    "print(\"Langkah 1: Menentukan Hipotesis Nol\")\n",
    "display(Math(r'H_{0}: \\mu = 50'))\n",
    "print(\"\\nLangkah 2: Menentukan Hipotesis Alternatif\")\n",
    "display(Math(r'H_{1}: \\mu \\neq 50'))\n",
    "print(\"\\nLangkah 3: Menentukan Tingkat Signifikan Alpha\")\n",
    "display(Math(r'\\alpha = 0.05'))\n",
    "\n",
    "print(\"Rata-rata 20 baris pertama SumbuKecil:\", mean)\n",
    "if (int(mean) != 50):\n",
    "      print(\"Ya, rata-rata 20 baris pertama SumbuKecil bukan 50.\")\n",
    "else:\n",
    "      print(\"Tidak, rata-rata 20 baris pertama SumbuKecil adalah 50.\")"
   ]
  },
  {
   "cell_type": "code",
   "execution_count": 81,
   "metadata": {},
   "outputs": [
    {
     "name": "stdout",
     "output_type": "stream",
     "text": [
      "Proporsi: 19.400%\n",
      "Ya, proporsi diameter yang lebih dari 85 tidak sama dengan 15%.\n"
     ]
    }
   ],
   "source": [
    "#NOMOR 4d: proporsi diameter>85 tidak sama dengan 15%\n",
    "df2 = df[df[\"Diameter\"] > 85]\n",
    "proporsi = len(df2)/len(df)\n",
    "print(\"Proporsi: {:.3f}%\".format(proporsi*100))\n",
    "\n",
    "if(round(proporsi,2)!=0.15):\n",
    "    print(\"Ya, proporsi diameter yang lebih dari 85 tidak sama dengan 15%.\")\n",
    "else:\n",
    "    print(\"Tidak, proporsi diameter yang lebih dari 85 sama dengan 15%.\")\n"
   ]
  },
  {
   "cell_type": "code",
   "execution_count": 82,
   "metadata": {},
   "outputs": [
    {
     "name": "stdout",
     "output_type": "stream",
     "text": [
      "Proporsi: 0.000%\n",
      "Ya, proporsi keliling yang kurang dari 100 adalah kurang dari 5%.\n"
     ]
    }
   ],
   "source": [
    "#NOMOR 4e: proporsi keliling<100 adalah <5%\n",
    "df2 = df[df[\"Keliling\"] < 100]\n",
    "proporsi = len(df2)/len(df)\n",
    "print(\"Proporsi: {:.3f}%\".format(proporsi*100))\n",
    "\n",
    "if(round(proporsi,2)<0.05):\n",
    "    print(\"Ya, proporsi keliling yang kurang dari 100 adalah kurang dari 5%.\")\n",
    "else:\n",
    "    print(\"Tidak, proporsi keliling yang kurang dari 100 adalah lebih dari 5%.\")\n"
   ]
  },
  {
   "cell_type": "markdown",
   "metadata": {},
   "source": [
    "# Nomor 5<a name=\"no5\"></a>"
   ]
  },
  {
   "cell_type": "code",
   "execution_count": 83,
   "metadata": {},
   "outputs": [],
   "source": [
    "#NOMOR 5a: rata-rata AreaBulatan bagian awal dan akhir sama\n",
    "dfawal = df[\"AreaBulatan\"].head(250)\n",
    "dfakhir = df[\"AreaBulatan\"].tail(250)\n",
    "meanawal = dfawal.mean()\n",
    "meanakhir = dfakhir.mean()\n"
   ]
  },
  {
   "cell_type": "code",
   "execution_count": 84,
   "metadata": {},
   "outputs": [],
   "source": [
    "#NOMOR 5b: rata-rata KadarAir awal = akhir + 0.2\n",
    "dfawal = df[\"KadarAir\"].head(250)\n",
    "dfakhir = df[\"KadarAir\"].tail(250)\n",
    "meanawal = dfawal.mean()\n",
    "meanakhir = dfakhir.mean()\n"
   ]
  },
  {
   "cell_type": "code",
   "execution_count": 86,
   "metadata": {},
   "outputs": [
    {
     "name": "stdout",
     "output_type": "stream",
     "text": [
      "Langkah 1: Menentukan Hipotesis Nol\n"
     ]
    },
    {
     "data": {
      "text/latex": [
       "$\\displaystyle H_{0}: \\mu _{1} - \\mu _{2} = 0$"
      ],
      "text/plain": [
       "<IPython.core.display.Math object>"
      ]
     },
     "metadata": {},
     "output_type": "display_data"
    },
    {
     "name": "stdout",
     "output_type": "stream",
     "text": [
      "\n",
      "Langkah 2: Menentukan Hipotesis Alternatif\n"
     ]
    },
    {
     "data": {
      "text/latex": [
       "$\\displaystyle H_{1}: \\mu _{1} - \\mu _{2} \\neq 0$"
      ],
      "text/plain": [
       "<IPython.core.display.Math object>"
      ]
     },
     "metadata": {},
     "output_type": "display_data"
    },
    {
     "name": "stdout",
     "output_type": "stream",
     "text": [
      "\n",
      "Langkah 3: Menentukan Tingkat Signifikan Alpha\n"
     ]
    },
    {
     "data": {
      "text/latex": [
       "$\\displaystyle \\alpha = 0.05$"
      ],
      "text/plain": [
       "<IPython.core.display.Math object>"
      ]
     },
     "metadata": {},
     "output_type": "display_data"
    },
    {
     "name": "stdout",
     "output_type": "stream",
     "text": [
      "\n",
      "Langkah 4: Menentukan Uji Statistik dan Daerah Kritis\n",
      "\n",
      "Langkah 5: Nilai Uji Statistik\n",
      "\n",
      "Langkah 6: Keputusan\n"
     ]
    },
    {
     "data": {
      "text/latex": [
       "$\\displaystyle \\mu_1 = {0.7375353552499999}$"
      ],
      "text/plain": [
       "<IPython.core.display.Math object>"
      ]
     },
     "metadata": {},
     "output_type": "display_data"
    },
    {
     "data": {
      "text/latex": [
       "$\\displaystyle \\mu_2 = {0.767322437}$"
      ],
      "text/plain": [
       "<IPython.core.display.Math object>"
      ]
     },
     "metadata": {},
     "output_type": "display_data"
    },
    {
     "data": {
      "text/latex": [
       "$\\displaystyle \\overline{X}_1 = {0.7375353552499999}$"
      ],
      "text/plain": [
       "<IPython.core.display.Math object>"
      ]
     },
     "metadata": {},
     "output_type": "display_data"
    },
    {
     "data": {
      "text/latex": [
       "$\\displaystyle \\overline{X}_2 = {0.767322437}$"
      ],
      "text/plain": [
       "<IPython.core.display.Math object>"
      ]
     },
     "metadata": {},
     "output_type": "display_data"
    },
    {
     "name": "stdout",
     "output_type": "stream",
     "text": [
      "Tidak, rata-rata 20 baris pertama Bulatan tidak sama dengan 20 baris terakhir.\n"
     ]
    }
   ],
   "source": [
    "#NOMOR 5c: rata-rata 20 baris pertama Bulatan sama dengan 20 baris terakhir\n",
    "dfawal = df[\"Bulatan\"].head(20)\n",
    "dfakhir = df[\"Bulatan\"].tail(20)\n",
    "meanawal = dfawal.mean()\n",
    "meanakhir = dfakhir.mean()\n",
    "\n",
    "print(\"Langkah 1: Menentukan Hipotesis Nol\")\n",
    "display(Math(r'H_{0}: \\mu _{1} - \\mu _{2} = 0'))\n",
    "print(\"\\nLangkah 2: Menentukan Hipotesis Alternatif\")\n",
    "display(Math(r'H_{1}: \\mu _{1} - \\mu _{2} \\neq 0'))\n",
    "print(\"\\nLangkah 3: Menentukan Tingkat Signifikan Alpha\")\n",
    "display(Math(r'\\alpha = 0.05'))\n",
    "print(\"\\nLangkah 4: Menentukan Uji Statistik dan Daerah Kritis\")\n",
    "print(\"\\nLangkah 5: Nilai Uji Statistik\")\n",
    "print(\"\\nLangkah 6: Keputusan\")\n",
    "\n",
    "display(Math(f'\\\\mu_{1} = {{{meanawal}}}'))\n",
    "display(Math(f'\\\\mu_{2} = {{{meanakhir}}}'))\n",
    "display(Math(f'\\\\overline{{X}}_{1} = {{{meanawal}}}'))\n",
    "display(Math(f'\\\\overline{{X}}_{2} = {{{meanakhir}}}'))\n",
    "\n",
    "if(meanawal == meanakhir):\n",
    "    print(\"Ya, rata-rata 20 baris pertama Bulatan sama dengan 20 baris terakhir.\")\n",
    "else:\n",
    "    print(\"Tidak, rata-rata 20 baris pertama Bulatan tidak sama dengan 20 baris terakhir.\")"
   ]
  },
  {
   "cell_type": "code",
   "execution_count": 87,
   "metadata": {},
   "outputs": [],
   "source": [
    "#NOMOR 5d: proporsi nilai bagian awal Ransum yang >2 lebih besar dari proporsi nilai yang sama bagian akhir Ransum\n",
    "dfawal = df[\"Ransum\"].head(250)\n",
    "dfakhir = df[\"Ransum\"].tail(250)"
   ]
  },
  {
   "cell_type": "code",
   "execution_count": 88,
   "metadata": {},
   "outputs": [],
   "source": [
    "#NOMOR 5e: bagian awal Diameter variansinya sama dengan bagian akhir\n",
    "dfawal = df[\"Diameter\"].head(250)\n",
    "dfakhir = df[\"Diameter\"].tail(250)\n",
    "variansiawal = dfawal.var()\n",
    "variansiakhir = dfakhir.var()"
   ]
  },
  {
   "cell_type": "markdown",
   "metadata": {},
   "source": [
    "# Nomor 6<a name=\"no6\"></a>"
   ]
  },
  {
   "cell_type": "code",
   "execution_count": 89,
   "metadata": {},
   "outputs": [
    {
     "name": "stdout",
     "output_type": "stream",
     "text": [
      "Masukkan nama data korelasi yang ingin dicari : SumbuUtama\n",
      "Korelasi antara  SumbuUtama dan Kelas :\n",
      "-0.7130906104204592\n",
      "Korelasi tidak berhubungan\n"
     ]
    },
    {
     "data": {
      "text/plain": [
       "<AxesSubplot:xlabel='SumbuUtama', ylabel='Kelas'>"
      ]
     },
     "execution_count": 89,
     "metadata": {},
     "output_type": "execute_result"
    },
    {
     "data": {
      "image/png": "[encoded data removed]",
      "text/plain": [
       "<Figure size 432x288 with 1 Axes>"
      ]
     },
     "metadata": {
      "needs_background": "light"
     },
     "output_type": "display_data"
    }
   ],
   "source": [
    "#NOMOR 6\n",
    "inpkor = input(\"Masukkan nama data korelasi yang ingin dicari : \")\n",
    "print(\"Korelasi antara \",str(inpkor), \"dan Kelas :\")\n",
    "hasilkor = df[inpkor].corr(df[\"Kelas\"])\n",
    "print(hasilkor)\n",
    "\n",
    "if(hasilkor>0):\n",
    "    print(\"Korelasi berhubungan\")\n",
    "else:\n",
    "    print(\"Korelasi tidak berhubungan\")\n",
    "df.plot(kind='scatter',x=inpkor,y='Kelas')"
   ]
  },
  {
   "cell_type": "code",
   "execution_count": null,
   "metadata": {},
   "outputs": [],
   "source": []
  }
 ],
 "metadata": {
  "kernelspec": {
   "display_name": "Python 3",
   "language": "python",
   "name": "python3"
  },
  "language_info": {
   "codemirror_mode": {
    "name": "ipython",
    "version": 3
   },
   "file_extension": ".py",
   "mimetype": "text/x-python",
   "name": "python",
   "nbconvert_exporter": "python",
   "pygments_lexer": "ipython3",
   "version": "3.8.5"
  }
 },
 "nbformat": 4,
 "nbformat_minor": 5
}
