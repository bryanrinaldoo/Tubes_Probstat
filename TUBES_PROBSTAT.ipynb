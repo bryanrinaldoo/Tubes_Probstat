{
 "cells": [
  {
   "cell_type": "markdown",
   "metadata": {},
   "source": [
    "# Daftar Isi\n",
    "1. [Nomor 1: Deksripsi Statistika](#no1)\n",
    "2. [Nomor 2: Visualisasi](#no2)\n",
    "3. [Nomor 3: Distribusi Normal](#no3)\n",
    "4. [Nomor 4: Hipotesis 1 Sampel](#no4)\n",
    "5. [Nomor 5: Hipotesis 2 Sampel](#no5)\n",
    "6. [Nomor 6: Tes Korelasi](#no6)"
   ]
  },
  {
   "cell_type": "markdown",
   "metadata": {},
   "source": [
    "# Nomor 1 <a name=\"no1\"></a>\n",
    "### Deskripsi Daerah"
   ]
  },
  {
   "cell_type": "code",
   "execution_count": 1,
   "metadata": {},
   "outputs": [],
   "source": [
    "#init \n",
    "import pandas as pd\n",
    "import matplotlib.pyplot as plt\n",
    "#baca file dan memberikan nama\n",
    "df = pd.read_csv('Gandum.csv', delimiter=',', names = ['id', 'Daerah', 'SumbuUtama', 'SumbuKecil', 'Keunikan', 'AreaBulatan', 'Diameter', 'KadarAir', 'Keliling', 'Bulatan', 'Ransum', 'Kelas'])\n",
    "\n",
    "import numpy as np\n",
    "import matplotlib.pyplot as plt\n",
    "import statistics\n",
    "from scipy import stats\n",
    "from scipy.stats import norm\n",
    "from scipy.stats import shapiro\n",
    "import seaborn as sns\n",
    "from IPython.display import display, Math, Latex\n",
    "import math\n",
    "import random"
   ]
  },
  {
   "cell_type": "code",
   "execution_count": 2,
   "metadata": {},
   "outputs": [
    {
     "name": "stdout",
     "output_type": "stream",
     "text": [
      "\n",
      "=== Daerah ===\n",
      "Mean dari Daerah adalah 4801.246\n",
      "Modus dari Daerah adalah 4881\n",
      "Standard deviasi dari Daerah adalah 986.3954914816018\n",
      "Variansi dari Daerah adalah 972976.0656152307\n",
      "Range dari Daerah adalah 4931\n",
      "Maximum dari Daerah adalah 7453\n",
      "Minimum dari Daerah adalah 2522\n",
      "Q1 dari Daerah adalah 4042.75\n",
      "Q2 dari Daerah adalah 4735.0\n",
      "Q3 dari Daerah adalah 5495.5\n",
      "Interkuartil dari Daerah adalah 1452.75\n",
      "Skewness dari Daerah adalah 0.23814408738280812\n",
      "Kurtosis dari Daerah adalah -0.4346305340273977\n"
     ]
    }
   ],
   "source": [
    "#NOMOR 1\n",
    "\n",
    "\n",
    "#print(\"Daerah, SumbuUtama, SumbuKecil, Keunikan, AreaBulatan, Diameter, KadarAir, Keliling, Bulatan, Ransum\")\n",
    "inp = \"Daerah\"\n",
    "\n",
    "mean = df[inp].mean()\n",
    "median = df[inp].median()\n",
    "modus = df[inp].value_counts().idxmax()\n",
    "stdev = df[inp].std()\n",
    "var = df[inp].var()\n",
    "min1 = df[inp].min()\n",
    "max1 = df[inp].max()\n",
    "range1 = max1 - min1\n",
    "q1 = df[inp].quantile(0.25)\n",
    "q2 = df[inp].quantile(0.5)\n",
    "q3 = df[inp].quantile(0.75)\n",
    "iqr = q3 - q1\n",
    "skew = df[inp].skew()\n",
    "kurtosis = df[inp].kurtosis()\n",
    "\n",
    "#print\n",
    "print(\"\\n===\",str(inp),\"===\")\n",
    "print(\"Mean dari\", str(inp), \"adalah\" ,mean)\n",
    "print(\"Modus dari\", str(inp), \"adalah\" ,modus)\n",
    "print(\"Standard deviasi dari\", str(inp), \"adalah\" ,stdev)\n",
    "print(\"Variansi dari\", str(inp), \"adalah\" ,var)\n",
    "print(\"Range dari\", str(inp), \"adalah\" ,range1)\n",
    "print(\"Maximum dari\", str(inp), \"adalah\" ,max1)\n",
    "print(\"Minimum dari\", str(inp), \"adalah\" ,min1)\n",
    "print(\"Q1 dari\", str(inp), \"adalah\" ,q1)\n",
    "print(\"Q2 dari\", str(inp), \"adalah\" ,q2)\n",
    "print(\"Q3 dari\", str(inp), \"adalah\" ,q3)\n",
    "print(\"Interkuartil dari\", str(inp), \"adalah\" ,iqr)\n",
    "print(\"Skewness dari\", str(inp), \"adalah\" ,skew)\n",
    "print(\"Kurtosis dari\", str(inp), \"adalah\" ,kurtosis)"
   ]
  },
  {
   "cell_type": "markdown",
   "metadata": {},
   "source": [
    "### Deskripsi SumbuUtama"
   ]
  },
  {
   "cell_type": "code",
   "execution_count": 3,
   "metadata": {},
   "outputs": [
    {
     "name": "stdout",
     "output_type": "stream",
     "text": [
      "\n",
      "=== SumbuUtama ===\n",
      "Mean dari SumbuUtama adalah 116.04517136778003\n",
      "Modus dari SumbuUtama adalah 99.01478925\n",
      "Standard deviasi dari SumbuUtama adalah 18.28262595755936\n",
      "Variansi dari SumbuUtama adalah 334.25441190402336\n",
      "Range dari SumbuUtama adalah 153.79546865999998\n",
      "Maximum dari SumbuUtama adalah 227.9285827\n",
      "Minimum dari SumbuUtama adalah 74.13311404\n",
      "Q1 dari SumbuUtama adalah 104.11609817499999\n",
      "Q2 dari SumbuUtama adalah 115.40513994999999\n",
      "Q3 dari SumbuUtama adalah 129.046792025\n",
      "Interkuartil dari SumbuUtama adalah 24.93069385000001\n",
      "Skewness dari SumbuUtama adalah 0.7615287378076631\n",
      "Kurtosis dari SumbuUtama adalah 4.330533548436968\n"
     ]
    }
   ],
   "source": [
    "inp = \"SumbuUtama\"\n",
    "\n",
    "mean = df[inp].mean()\n",
    "median = df[inp].median()\n",
    "modus = df[inp].value_counts().idxmax()\n",
    "stdev = df[inp].std()\n",
    "var = df[inp].var()\n",
    "min1 = df[inp].min()\n",
    "max1 = df[inp].max()\n",
    "range1 = max1 - min1\n",
    "q1 = df[inp].quantile(0.25)\n",
    "q2 = df[inp].quantile(0.5)\n",
    "q3 = df[inp].quantile(0.75)\n",
    "iqr = q3 - q1\n",
    "skew = df[inp].skew()\n",
    "kurtosis = df[inp].kurtosis()\n",
    "\n",
    "#print\n",
    "print(\"\\n===\",str(inp),\"===\")\n",
    "print(\"Mean dari\", str(inp), \"adalah\" ,mean)\n",
    "print(\"Modus dari\", str(inp), \"adalah\" ,modus)\n",
    "print(\"Standard deviasi dari\", str(inp), \"adalah\" ,stdev)\n",
    "print(\"Variansi dari\", str(inp), \"adalah\" ,var)\n",
    "print(\"Range dari\", str(inp), \"adalah\" ,range1)\n",
    "print(\"Maximum dari\", str(inp), \"adalah\" ,max1)\n",
    "print(\"Minimum dari\", str(inp), \"adalah\" ,min1)\n",
    "print(\"Q1 dari\", str(inp), \"adalah\" ,q1)\n",
    "print(\"Q2 dari\", str(inp), \"adalah\" ,q2)\n",
    "print(\"Q3 dari\", str(inp), \"adalah\" ,q3)\n",
    "print(\"Interkuartil dari\", str(inp), \"adalah\" ,iqr)\n",
    "print(\"Skewness dari\", str(inp), \"adalah\" ,skew)\n",
    "print(\"Kurtosis dari\", str(inp), \"adalah\" ,kurtosis)"
   ]
  },
  {
   "cell_type": "markdown",
   "metadata": {},
   "source": [
    "### Deskripsi SumbuKecil"
   ]
  },
  {
   "cell_type": "code",
   "execution_count": 4,
   "metadata": {},
   "outputs": [
    {
     "name": "stdout",
     "output_type": "stream",
     "text": [
      "\n",
      "=== SumbuKecil ===\n",
      "Mean dari SumbuKecil adalah 53.71524598896002\n",
      "Modus dari SumbuKecil adalah 53.17603697\n",
      "Standard deviasi dari SumbuKecil adalah 4.071074752475035\n",
      "Variansi dari SumbuKecil adalah 16.573649640239662\n",
      "Range dari SumbuKecil adalah 29.071182429999993\n",
      "Maximum dari SumbuKecil adalah 68.97769987\n",
      "Minimum dari SumbuKecil adalah 39.90651744\n",
      "Q1 dari SumbuKecil adalah 51.1935763325\n",
      "Q2 dari SumbuKecil adalah 53.731198774999996\n",
      "Q3 dari SumbuKecil adalah 56.3251579825\n",
      "Interkuartil dari SumbuKecil adalah 5.131581650000001\n",
      "Skewness dari SumbuKecil adalah -0.010828051555611359\n",
      "Kurtosis dari SumbuKecil adalah 0.47556845043813656\n"
     ]
    }
   ],
   "source": [
    "inp = \"SumbuKecil\"\n",
    "\n",
    "mean = df[inp].mean()\n",
    "median = df[inp].median()\n",
    "modus = df[inp].value_counts().idxmax()\n",
    "stdev = df[inp].std()\n",
    "var = df[inp].var()\n",
    "min1 = df[inp].min()\n",
    "max1 = df[inp].max()\n",
    "range1 = max1 - min1\n",
    "q1 = df[inp].quantile(0.25)\n",
    "q2 = df[inp].quantile(0.5)\n",
    "q3 = df[inp].quantile(0.75)\n",
    "iqr = q3 - q1\n",
    "skew = df[inp].skew()\n",
    "kurtosis = df[inp].kurtosis()\n",
    "\n",
    "#print\n",
    "print(\"\\n===\",str(inp),\"===\")\n",
    "print(\"Mean dari\", str(inp), \"adalah\" ,mean)\n",
    "print(\"Modus dari\", str(inp), \"adalah\" ,modus)\n",
    "print(\"Standard deviasi dari\", str(inp), \"adalah\" ,stdev)\n",
    "print(\"Variansi dari\", str(inp), \"adalah\" ,var)\n",
    "print(\"Range dari\", str(inp), \"adalah\" ,range1)\n",
    "print(\"Maximum dari\", str(inp), \"adalah\" ,max1)\n",
    "print(\"Minimum dari\", str(inp), \"adalah\" ,min1)\n",
    "print(\"Q1 dari\", str(inp), \"adalah\" ,q1)\n",
    "print(\"Q2 dari\", str(inp), \"adalah\" ,q2)\n",
    "print(\"Q3 dari\", str(inp), \"adalah\" ,q3)\n",
    "print(\"Interkuartil dari\", str(inp), \"adalah\" ,iqr)\n",
    "print(\"Skewness dari\", str(inp), \"adalah\" ,skew)\n",
    "print(\"Kurtosis dari\", str(inp), \"adalah\" ,kurtosis)"
   ]
  },
  {
   "cell_type": "markdown",
   "metadata": {},
   "source": [
    "### Deskripsi Keunikan"
   ]
  },
  {
   "cell_type": "code",
   "execution_count": 5,
   "metadata": {},
   "outputs": [
    {
     "name": "stdout",
     "output_type": "stream",
     "text": [
      "\n",
      "=== Keunikan ===\n",
      "Mean dari Keunikan adalah 0.878763914340001\n",
      "Modus dari Keunikan adalah 0.90928407\n",
      "Standard deviasi dari Keunikan adalah 0.03658590550477702\n",
      "Variansi dari Keunikan adalah 0.0013385284816044736\n",
      "Range dari Keunikan adalah 0.19408517999999997\n",
      "Maximum dari Keunikan adalah 0.9140014059999999\n",
      "Minimum dari Keunikan adalah 0.7199162259999999\n",
      "Q1 dari Keunikan adalah 0.8636757527500001\n",
      "Q2 dari Keunikan adalah 0.8900454185\n",
      "Q3 dari Keunikan adalah 0.907577917\n",
      "Interkuartil dari Keunikan adalah 0.04390216424999993\n",
      "Skewness dari Keunikan adalah -1.6234718222806501\n",
      "Kurtosis dari Keunikan adalah 2.917255925694389\n"
     ]
    }
   ],
   "source": [
    "inp = \"Keunikan\"\n",
    "\n",
    "mean = df[inp].mean()\n",
    "median = df[inp].median()\n",
    "modus = df[inp].value_counts().idxmax()\n",
    "stdev = df[inp].std()\n",
    "var = df[inp].var()\n",
    "min1 = df[inp].min()\n",
    "max1 = df[inp].max()\n",
    "range1 = max1 - min1\n",
    "q1 = df[inp].quantile(0.25)\n",
    "q2 = df[inp].quantile(0.5)\n",
    "q3 = df[inp].quantile(0.75)\n",
    "iqr = q3 - q1\n",
    "skew = df[inp].skew()\n",
    "kurtosis = df[inp].kurtosis()\n",
    "\n",
    "#print\n",
    "print(\"\\n===\",str(inp),\"===\")\n",
    "print(\"Mean dari\", str(inp), \"adalah\" ,mean)\n",
    "print(\"Modus dari\", str(inp), \"adalah\" ,modus)\n",
    "print(\"Standard deviasi dari\", str(inp), \"adalah\" ,stdev)\n",
    "print(\"Variansi dari\", str(inp), \"adalah\" ,var)\n",
    "print(\"Range dari\", str(inp), \"adalah\" ,range1)\n",
    "print(\"Maximum dari\", str(inp), \"adalah\" ,max1)\n",
    "print(\"Minimum dari\", str(inp), \"adalah\" ,min1)\n",
    "print(\"Q1 dari\", str(inp), \"adalah\" ,q1)\n",
    "print(\"Q2 dari\", str(inp), \"adalah\" ,q2)\n",
    "print(\"Q3 dari\", str(inp), \"adalah\" ,q3)\n",
    "print(\"Interkuartil dari\", str(inp), \"adalah\" ,iqr)\n",
    "print(\"Skewness dari\", str(inp), \"adalah\" ,skew)\n",
    "print(\"Kurtosis dari\", str(inp), \"adalah\" ,kurtosis)"
   ]
  },
  {
   "cell_type": "markdown",
   "metadata": {},
   "source": [
    "### Deskripsi AreaBulatan"
   ]
  },
  {
   "cell_type": "code",
   "execution_count": 6,
   "metadata": {},
   "outputs": [
    {
     "name": "stdout",
     "output_type": "stream",
     "text": [
      "\n",
      "=== AreaBulatan ===\n",
      "Mean dari AreaBulatan adalah 4937.048\n",
      "Modus dari AreaBulatan adalah 3802\n",
      "Standard deviasi dari AreaBulatan adalah 1011.6962549701573\n",
      "Variansi dari AreaBulatan adalah 1023529.3123206415\n",
      "Range dari AreaBulatan adalah 5141\n",
      "Maximum dari AreaBulatan adalah 7720\n",
      "Minimum dari AreaBulatan adalah 2579\n",
      "Q1 dari AreaBulatan adalah 4170.25\n",
      "Q2 dari AreaBulatan adalah 4857.0\n",
      "Q3 dari AreaBulatan adalah 5654.25\n",
      "Interkuartil dari AreaBulatan adalah 1484.0\n",
      "Skewness dari AreaBulatan adalah 0.2575600053152032\n",
      "Kurtosis dari AreaBulatan adalah -0.40968492037366033\n"
     ]
    }
   ],
   "source": [
    "inp = \"AreaBulatan\"\n",
    "\n",
    "mean = df[inp].mean()\n",
    "median = df[inp].median()\n",
    "modus = df[inp].value_counts().idxmax()\n",
    "stdev = df[inp].std()\n",
    "var = df[inp].var()\n",
    "min1 = df[inp].min()\n",
    "max1 = df[inp].max()\n",
    "range1 = max1 - min1\n",
    "q1 = df[inp].quantile(0.25)\n",
    "q2 = df[inp].quantile(0.5)\n",
    "q3 = df[inp].quantile(0.75)\n",
    "iqr = q3 - q1\n",
    "skew = df[inp].skew()\n",
    "kurtosis = df[inp].kurtosis()\n",
    "\n",
    "#print\n",
    "print(\"\\n===\",str(inp),\"===\")\n",
    "print(\"Mean dari\", str(inp), \"adalah\" ,mean)\n",
    "print(\"Modus dari\", str(inp), \"adalah\" ,modus)\n",
    "print(\"Standard deviasi dari\", str(inp), \"adalah\" ,stdev)\n",
    "print(\"Variansi dari\", str(inp), \"adalah\" ,var)\n",
    "print(\"Range dari\", str(inp), \"adalah\" ,range1)\n",
    "print(\"Maximum dari\", str(inp), \"adalah\" ,max1)\n",
    "print(\"Minimum dari\", str(inp), \"adalah\" ,min1)\n",
    "print(\"Q1 dari\", str(inp), \"adalah\" ,q1)\n",
    "print(\"Q2 dari\", str(inp), \"adalah\" ,q2)\n",
    "print(\"Q3 dari\", str(inp), \"adalah\" ,q3)\n",
    "print(\"Interkuartil dari\", str(inp), \"adalah\" ,iqr)\n",
    "print(\"Skewness dari\", str(inp), \"adalah\" ,skew)\n",
    "print(\"Kurtosis dari\", str(inp), \"adalah\" ,kurtosis)"
   ]
  },
  {
   "cell_type": "markdown",
   "metadata": {},
   "source": [
    "### Deskripsi Diameter"
   ]
  },
  {
   "cell_type": "code",
   "execution_count": 7,
   "metadata": {},
   "outputs": [
    {
     "name": "stdout",
     "output_type": "stream",
     "text": [
      "\n",
      "=== Diameter ===\n",
      "Mean dari Diameter adalah 77.77115780832005\n",
      "Modus dari Diameter adalah 78.83325579\n",
      "Standard deviasi dari Diameter adalah 8.056867291849715\n",
      "Variansi dari Diameter adalah 64.91311055847777\n",
      "Range dari Diameter adalah 40.747172240000005\n",
      "Maximum dari Diameter adalah 97.41383027\n",
      "Minimum dari Diameter adalah 56.66665803\n",
      "Q1 dari Diameter adalah 71.74530754749999\n",
      "Q2 dari Diameter adalah 77.64527658\n",
      "Q3 dari Diameter adalah 83.6485975675\n",
      "Interkuartil dari Diameter adalah 11.903290020000014\n",
      "Skewness dari Diameter adalah 0.002724966865193717\n",
      "Kurtosis dari Diameter adalah -0.4664545130312141\n"
     ]
    }
   ],
   "source": [
    "inp = \"Diameter\"\n",
    "\n",
    "mean = df[inp].mean()\n",
    "median = df[inp].median()\n",
    "modus = df[inp].value_counts().idxmax()\n",
    "stdev = df[inp].std()\n",
    "var = df[inp].var()\n",
    "min1 = df[inp].min()\n",
    "max1 = df[inp].max()\n",
    "range1 = max1 - min1\n",
    "q1 = df[inp].quantile(0.25)\n",
    "q2 = df[inp].quantile(0.5)\n",
    "q3 = df[inp].quantile(0.75)\n",
    "iqr = q3 - q1\n",
    "skew = df[inp].skew()\n",
    "kurtosis = df[inp].kurtosis()\n",
    "\n",
    "#print\n",
    "print(\"\\n===\",str(inp),\"===\")\n",
    "print(\"Mean dari\", str(inp), \"adalah\" ,mean)\n",
    "print(\"Modus dari\", str(inp), \"adalah\" ,modus)\n",
    "print(\"Standard deviasi dari\", str(inp), \"adalah\" ,stdev)\n",
    "print(\"Variansi dari\", str(inp), \"adalah\" ,var)\n",
    "print(\"Range dari\", str(inp), \"adalah\" ,range1)\n",
    "print(\"Maximum dari\", str(inp), \"adalah\" ,max1)\n",
    "print(\"Minimum dari\", str(inp), \"adalah\" ,min1)\n",
    "print(\"Q1 dari\", str(inp), \"adalah\" ,q1)\n",
    "print(\"Q2 dari\", str(inp), \"adalah\" ,q2)\n",
    "print(\"Q3 dari\", str(inp), \"adalah\" ,q3)\n",
    "print(\"Interkuartil dari\", str(inp), \"adalah\" ,iqr)\n",
    "print(\"Skewness dari\", str(inp), \"adalah\" ,skew)\n",
    "print(\"Kurtosis dari\", str(inp), \"adalah\" ,kurtosis)"
   ]
  },
  {
   "cell_type": "markdown",
   "metadata": {},
   "source": [
    "### Deskripsi KadarAir"
   ]
  },
  {
   "cell_type": "code",
   "execution_count": 8,
   "metadata": {},
   "outputs": [
    {
     "name": "stdout",
     "output_type": "stream",
     "text": [
      "\n",
      "=== KadarAir ===\n",
      "Mean dari KadarAir adalah 0.6483716718980002\n",
      "Modus dari KadarAir adalah 0.824404762\n",
      "Standard deviasi dari KadarAir adalah 0.0943670980937953\n",
      "Variansi dari KadarAir adalah 0.008905149202643984\n",
      "Range dari KadarAir adalah 0.46897193099999995\n",
      "Maximum dari KadarAir adalah 0.878899083\n",
      "Minimum dari KadarAir adalah 0.409927152\n",
      "Q1 dari KadarAir adalah 0.57263245725\n",
      "Q2 dari KadarAir adalah 0.626116699\n",
      "Q3 dari KadarAir adalah 0.7266333445000001\n",
      "Interkuartil dari KadarAir adalah 0.15400088725000005\n",
      "Skewness dari KadarAir adalah 0.49366131797330265\n",
      "Kurtosis dari KadarAir adalah -0.7403261705867821\n"
     ]
    }
   ],
   "source": [
    "inp = \"KadarAir\"\n",
    "\n",
    "mean = df[inp].mean()\n",
    "median = df[inp].median()\n",
    "modus = df[inp].value_counts().idxmax()\n",
    "stdev = df[inp].std()\n",
    "var = df[inp].var()\n",
    "min1 = df[inp].min()\n",
    "max1 = df[inp].max()\n",
    "range1 = max1 - min1\n",
    "q1 = df[inp].quantile(0.25)\n",
    "q2 = df[inp].quantile(0.5)\n",
    "q3 = df[inp].quantile(0.75)\n",
    "iqr = q3 - q1\n",
    "skew = df[inp].skew()\n",
    "kurtosis = df[inp].kurtosis()\n",
    "\n",
    "#print\n",
    "print(\"\\n===\",str(inp),\"===\")\n",
    "print(\"Mean dari\", str(inp), \"adalah\" ,mean)\n",
    "print(\"Modus dari\", str(inp), \"adalah\" ,modus)\n",
    "print(\"Standard deviasi dari\", str(inp), \"adalah\" ,stdev)\n",
    "print(\"Variansi dari\", str(inp), \"adalah\" ,var)\n",
    "print(\"Range dari\", str(inp), \"adalah\" ,range1)\n",
    "print(\"Maximum dari\", str(inp), \"adalah\" ,max1)\n",
    "print(\"Minimum dari\", str(inp), \"adalah\" ,min1)\n",
    "print(\"Q1 dari\", str(inp), \"adalah\" ,q1)\n",
    "print(\"Q2 dari\", str(inp), \"adalah\" ,q2)\n",
    "print(\"Q3 dari\", str(inp), \"adalah\" ,q3)\n",
    "print(\"Interkuartil dari\", str(inp), \"adalah\" ,iqr)\n",
    "print(\"Skewness dari\", str(inp), \"adalah\" ,skew)\n",
    "print(\"Kurtosis dari\", str(inp), \"adalah\" ,kurtosis)"
   ]
  },
  {
   "cell_type": "markdown",
   "metadata": {},
   "source": [
    "### Deskripsi Keliling"
   ]
  },
  {
   "cell_type": "code",
   "execution_count": 9,
   "metadata": {},
   "outputs": [
    {
     "name": "stdout",
     "output_type": "stream",
     "text": [
      "\n",
      "=== Keliling ===\n",
      "Mean dari Keliling adalah 281.479722\n",
      "Modus dari Keliling adalah 202.456\n",
      "Standard deviasi dari Keliling adalah 37.335401715143995\n",
      "Variansi dari Keliling adalah 1393.9322212311772\n",
      "Range dari Keliling adalah 291.822\n",
      "Maximum dari Keliling adalah 488.837\n",
      "Minimum dari Keliling adalah 197.015\n",
      "Q1 dari Keliling adalah 255.88299999999998\n",
      "Q2 dari Keliling adalah 280.04549999999995\n",
      "Q3 dari Keliling adalah 306.0625\n",
      "Interkuartil dari Keliling adalah 50.17950000000002\n",
      "Skewness dari Keliling adalah 0.7336269072005543\n",
      "Kurtosis dari Keliling adalah 2.272684731245571\n"
     ]
    }
   ],
   "source": [
    "inp = \"Keliling\"\n",
    "\n",
    "mean = df[inp].mean()\n",
    "median = df[inp].median()\n",
    "modus = df[inp].value_counts().idxmax()\n",
    "stdev = df[inp].std()\n",
    "var = df[inp].var()\n",
    "min1 = df[inp].min()\n",
    "max1 = df[inp].max()\n",
    "range1 = max1 - min1\n",
    "q1 = df[inp].quantile(0.25)\n",
    "q2 = df[inp].quantile(0.5)\n",
    "q3 = df[inp].quantile(0.75)\n",
    "iqr = q3 - q1\n",
    "skew = df[inp].skew()\n",
    "kurtosis = df[inp].kurtosis()\n",
    "\n",
    "#print\n",
    "print(\"\\n===\",str(inp),\"===\")\n",
    "print(\"Mean dari\", str(inp), \"adalah\" ,mean)\n",
    "print(\"Modus dari\", str(inp), \"adalah\" ,modus)\n",
    "print(\"Standard deviasi dari\", str(inp), \"adalah\" ,stdev)\n",
    "print(\"Variansi dari\", str(inp), \"adalah\" ,var)\n",
    "print(\"Range dari\", str(inp), \"adalah\" ,range1)\n",
    "print(\"Maximum dari\", str(inp), \"adalah\" ,max1)\n",
    "print(\"Minimum dari\", str(inp), \"adalah\" ,min1)\n",
    "print(\"Q1 dari\", str(inp), \"adalah\" ,q1)\n",
    "print(\"Q2 dari\", str(inp), \"adalah\" ,q2)\n",
    "print(\"Q3 dari\", str(inp), \"adalah\" ,q3)\n",
    "print(\"Interkuartil dari\", str(inp), \"adalah\" ,iqr)\n",
    "print(\"Skewness dari\", str(inp), \"adalah\" ,skew)\n",
    "print(\"Kurtosis dari\", str(inp), \"adalah\" ,kurtosis)"
   ]
  },
  {
   "cell_type": "markdown",
   "metadata": {},
   "source": [
    "### Deskripsi Bulatan"
   ]
  },
  {
   "cell_type": "code",
   "execution_count": 10,
   "metadata": {},
   "outputs": [
    {
     "name": "stdout",
     "output_type": "stream",
     "text": [
      "\n",
      "=== Bulatan ===\n",
      "Mean dari Bulatan adalah 0.7617374363080005\n",
      "Modus dari Bulatan adalah 0.7556490159999999\n",
      "Standard deviasi dari Bulatan adalah 0.0617024607867326\n",
      "Variansi dari Bulatan adalah 0.0038071936671382743\n",
      "Range dari Bulatan adalah 0.7301581349999999\n",
      "Maximum dari Bulatan adalah 0.9047483129999999\n",
      "Minimum dari Bulatan adalah 0.174590178\n",
      "Q1 dari Bulatan adalah 0.731990728\n",
      "Q2 dari Bulatan adalah 0.7612884395\n",
      "Q3 dari Bulatan adalah 0.79636096975\n",
      "Interkuartil dari Bulatan adalah 0.06437024175000006\n",
      "Skewness dari Bulatan adalah -3.5992367663616407\n",
      "Kurtosis dari Bulatan adalah 29.97509590463005\n"
     ]
    }
   ],
   "source": [
    "inp = \"Bulatan\"\n",
    "\n",
    "mean = df[inp].mean()\n",
    "median = df[inp].median()\n",
    "modus = df[inp].value_counts().idxmax()\n",
    "stdev = df[inp].std()\n",
    "var = df[inp].var()\n",
    "min1 = df[inp].min()\n",
    "max1 = df[inp].max()\n",
    "range1 = max1 - min1\n",
    "q1 = df[inp].quantile(0.25)\n",
    "q2 = df[inp].quantile(0.5)\n",
    "q3 = df[inp].quantile(0.75)\n",
    "iqr = q3 - q1\n",
    "skew = df[inp].skew()\n",
    "kurtosis = df[inp].kurtosis()\n",
    "\n",
    "#print\n",
    "print(\"\\n===\",str(inp),\"===\")\n",
    "print(\"Mean dari\", str(inp), \"adalah\" ,mean)\n",
    "print(\"Modus dari\", str(inp), \"adalah\" ,modus)\n",
    "print(\"Standard deviasi dari\", str(inp), \"adalah\" ,stdev)\n",
    "print(\"Variansi dari\", str(inp), \"adalah\" ,var)\n",
    "print(\"Range dari\", str(inp), \"adalah\" ,range1)\n",
    "print(\"Maximum dari\", str(inp), \"adalah\" ,max1)\n",
    "print(\"Minimum dari\", str(inp), \"adalah\" ,min1)\n",
    "print(\"Q1 dari\", str(inp), \"adalah\" ,q1)\n",
    "print(\"Q2 dari\", str(inp), \"adalah\" ,q2)\n",
    "print(\"Q3 dari\", str(inp), \"adalah\" ,q3)\n",
    "print(\"Interkuartil dari\", str(inp), \"adalah\" ,iqr)\n",
    "print(\"Skewness dari\", str(inp), \"adalah\" ,skew)\n",
    "print(\"Kurtosis dari\", str(inp), \"adalah\" ,kurtosis)"
   ]
  },
  {
   "cell_type": "markdown",
   "metadata": {},
   "source": [
    "### Deskripsi Ransum"
   ]
  },
  {
   "cell_type": "code",
   "execution_count": 11,
   "metadata": {},
   "outputs": [
    {
     "name": "stdout",
     "output_type": "stream",
     "text": [
      "\n",
      "=== Ransum ===\n",
      "Mean dari Ransum adalah 2.150915331084002\n",
      "Modus dari Ransum adalah 1.901437269\n",
      "Standard deviasi dari Ransum adalah 0.24976688927065827\n",
      "Variansi dari Ransum adalah 0.06238349897594127\n",
      "Range dari Ransum adalah 1.0240129659999997\n",
      "Maximum dari Ransum adalah 2.4648085809999998\n",
      "Minimum dari Ransum adalah 1.440795615\n",
      "Q1 dari Ransum adalah 1.98393879075\n",
      "Q2 dari Ransum adalah 2.1935990365\n",
      "Q3 dari Ransum adalah 2.38161221825\n",
      "Interkuartil dari Ransum adalah 0.3976734275\n",
      "Skewness dari Ransum adalah -0.6581880925333653\n",
      "Kurtosis dari Ransum adalah -0.4286557930626156\n"
     ]
    }
   ],
   "source": [
    "inp = \"Ransum\"\n",
    "\n",
    "mean = df[inp].mean()\n",
    "median = df[inp].median()\n",
    "modus = df[inp].value_counts().idxmax()\n",
    "stdev = df[inp].std()\n",
    "var = df[inp].var()\n",
    "min1 = df[inp].min()\n",
    "max1 = df[inp].max()\n",
    "range1 = max1 - min1\n",
    "q1 = df[inp].quantile(0.25)\n",
    "q2 = df[inp].quantile(0.5)\n",
    "q3 = df[inp].quantile(0.75)\n",
    "iqr = q3 - q1\n",
    "skew = df[inp].skew()\n",
    "kurtosis = df[inp].kurtosis()\n",
    "\n",
    "#print\n",
    "print(\"\\n===\",str(inp),\"===\")\n",
    "print(\"Mean dari\", str(inp), \"adalah\" ,mean)\n",
    "print(\"Modus dari\", str(inp), \"adalah\" ,modus)\n",
    "print(\"Standard deviasi dari\", str(inp), \"adalah\" ,stdev)\n",
    "print(\"Variansi dari\", str(inp), \"adalah\" ,var)\n",
    "print(\"Range dari\", str(inp), \"adalah\" ,range1)\n",
    "print(\"Maximum dari\", str(inp), \"adalah\" ,max1)\n",
    "print(\"Minimum dari\", str(inp), \"adalah\" ,min1)\n",
    "print(\"Q1 dari\", str(inp), \"adalah\" ,q1)\n",
    "print(\"Q2 dari\", str(inp), \"adalah\" ,q2)\n",
    "print(\"Q3 dari\", str(inp), \"adalah\" ,q3)\n",
    "print(\"Interkuartil dari\", str(inp), \"adalah\" ,iqr)\n",
    "print(\"Skewness dari\", str(inp), \"adalah\" ,skew)\n",
    "print(\"Kurtosis dari\", str(inp), \"adalah\" ,kurtosis)"
   ]
  },
  {
   "cell_type": "markdown",
   "metadata": {},
   "source": [
    "# Nomor 2 <a name=\"no2\"></a>\n",
    "### Visualisasi Daerah"
   ]
  },
  {
   "cell_type": "code",
   "execution_count": 12,
   "metadata": {},
   "outputs": [
    {
     "data": {
      "text/plain": [
       "<AxesSubplot:>"
      ]
     },
     "execution_count": 12,
     "metadata": {},
     "output_type": "execute_result"
    },
    {
     "data": {
      "image/png": "[encoded data removed]",
      "text/plain": [
       "<Figure size 432x288 with 2 Axes>"
      ]
     },
     "metadata": {
      "needs_background": "light"
     },
     "output_type": "display_data"
    }
   ],
   "source": [
    "#NOMOR 2 \n",
    "\n",
    "#inp = input(\"Masukkan nama data yang dicari : \")\n",
    "inp = \"Daerah\"\n",
    "\n",
    "fig, axs = plt.subplots(1,2)\n",
    "\n",
    "df[inp].hist(ax=axs[0])\n",
    "df.boxplot(inp)"
   ]
  },
  {
   "cell_type": "markdown",
   "metadata": {},
   "source": [
    "### Visualisasi SumbuUtama"
   ]
  },
  {
   "cell_type": "code",
   "execution_count": 13,
   "metadata": {},
   "outputs": [
    {
     "data": {
      "text/plain": [
       "<AxesSubplot:>"
      ]
     },
     "execution_count": 13,
     "metadata": {},
     "output_type": "execute_result"
    },
    {
     "data": {
      "image/png": "[encoded data removed]",
      "text/plain": [
       "<Figure size 432x288 with 2 Axes>"
      ]
     },
     "metadata": {
      "needs_background": "light"
     },
     "output_type": "display_data"
    }
   ],
   "source": [
    "inp = \"SumbuUtama\"\n",
    "\n",
    "fig, axs = plt.subplots(1,2)\n",
    "\n",
    "df[inp].hist(ax=axs[0])\n",
    "df.boxplot(inp)"
   ]
  },
  {
   "cell_type": "markdown",
   "metadata": {},
   "source": [
    "### Visualisasi SumbuKecil"
   ]
  },
  {
   "cell_type": "code",
   "execution_count": 14,
   "metadata": {},
   "outputs": [
    {
     "data": {
      "text/plain": [
       "<AxesSubplot:>"
      ]
     },
     "execution_count": 14,
     "metadata": {},
     "output_type": "execute_result"
    },
    {
     "data": {
      "image/png": "[encoded data removed]",
      "text/plain": [
       "<Figure size 432x288 with 2 Axes>"
      ]
     },
     "metadata": {
      "needs_background": "light"
     },
     "output_type": "display_data"
    }
   ],
   "source": [
    "inp = \"SumbuKecil\"\n",
    "\n",
    "fig, axs = plt.subplots(1,2)\n",
    "\n",
    "df[inp].hist(ax=axs[0])\n",
    "df.boxplot(inp)"
   ]
  },
  {
   "cell_type": "markdown",
   "metadata": {},
   "source": [
    "### Visualisasi Keunikan"
   ]
  },
  {
   "cell_type": "code",
   "execution_count": 15,
   "metadata": {},
   "outputs": [
    {
     "data": {
      "text/plain": [
       "<AxesSubplot:>"
      ]
     },
     "execution_count": 15,
     "metadata": {},
     "output_type": "execute_result"
    },
    {
     "data": {
      "image/png": "[encoded data removed]",
      "text/plain": [
       "<Figure size 432x288 with 2 Axes>"
      ]
     },
     "metadata": {
      "needs_background": "light"
     },
     "output_type": "display_data"
    }
   ],
   "source": [
    "inp = \"Keunikan\"\n",
    "\n",
    "fig, axs = plt.subplots(1,2)\n",
    "\n",
    "df[inp].hist(ax=axs[0])\n",
    "df.boxplot(inp)"
   ]
  },
  {
   "cell_type": "markdown",
   "metadata": {},
   "source": [
    "### Visualisasi AreaBulatan"
   ]
  },
  {
   "cell_type": "code",
   "execution_count": 16,
   "metadata": {},
   "outputs": [
    {
     "data": {
      "text/plain": [
       "<AxesSubplot:>"
      ]
     },
     "execution_count": 16,
     "metadata": {},
     "output_type": "execute_result"
    },
    {
     "data": {
      "image/png": "[encoded data removed]",
      "text/plain": [
       "<Figure size 432x288 with 2 Axes>"
      ]
     },
     "metadata": {
      "needs_background": "light"
     },
     "output_type": "display_data"
    }
   ],
   "source": [
    "inp = \"AreaBulatan\"\n",
    "\n",
    "fig, axs = plt.subplots(1,2)\n",
    "\n",
    "df[inp].hist(ax=axs[0])\n",
    "df.boxplot(inp)"
   ]
  },
  {
   "cell_type": "markdown",
   "metadata": {},
   "source": [
    "### Visualisasi Diamater"
   ]
  },
  {
   "cell_type": "code",
   "execution_count": 17,
   "metadata": {},
   "outputs": [
    {
     "data": {
      "text/plain": [
       "<AxesSubplot:>"
      ]
     },
     "execution_count": 17,
     "metadata": {},
     "output_type": "execute_result"
    },
    {
     "data": {
      "image/png": "[encoded data removed]",
      "text/plain": [
       "<Figure size 432x288 with 2 Axes>"
      ]
     },
     "metadata": {
      "needs_background": "light"
     },
     "output_type": "display_data"
    }
   ],
   "source": [
    "inp = \"Diameter\"\n",
    "\n",
    "fig, axs = plt.subplots(1,2)\n",
    "\n",
    "df[inp].hist(ax=axs[0])\n",
    "df.boxplot(inp)"
   ]
  },
  {
   "cell_type": "markdown",
   "metadata": {},
   "source": [
    "### Visualisasi KadarAir"
   ]
  },
  {
   "cell_type": "code",
   "execution_count": 18,
   "metadata": {},
   "outputs": [
    {
     "data": {
      "text/plain": [
       "<AxesSubplot:>"
      ]
     },
     "execution_count": 18,
     "metadata": {},
     "output_type": "execute_result"
    },
    {
     "data": {
      "image/png": "[encoded data removed]",
      "text/plain": [
       "<Figure size 432x288 with 2 Axes>"
      ]
     },
     "metadata": {
      "needs_background": "light"
     },
     "output_type": "display_data"
    }
   ],
   "source": [
    "inp = \"KadarAir\"\n",
    "\n",
    "fig, axs = plt.subplots(1,2)\n",
    "\n",
    "df[inp].hist(ax=axs[0])\n",
    "df.boxplot(inp)"
   ]
  },
  {
   "cell_type": "markdown",
   "metadata": {},
   "source": [
    "### Visualisasi Keliling"
   ]
  },
  {
   "cell_type": "code",
   "execution_count": 19,
   "metadata": {},
   "outputs": [
    {
     "data": {
      "text/plain": [
       "<AxesSubplot:>"
      ]
     },
     "execution_count": 19,
     "metadata": {},
     "output_type": "execute_result"
    },
    {
     "data": {
      "image/png": "[encoded data removed]",
      "text/plain": [
       "<Figure size 432x288 with 2 Axes>"
      ]
     },
     "metadata": {
      "needs_background": "light"
     },
     "output_type": "display_data"
    }
   ],
   "source": [
    "inp = \"Keliling\"\n",
    "\n",
    "fig, axs = plt.subplots(1,2)\n",
    "\n",
    "df[inp].hist(ax=axs[0])\n",
    "df.boxplot(inp)"
   ]
  },
  {
   "cell_type": "markdown",
   "metadata": {},
   "source": [
    "### Visualisasi Bulatan"
   ]
  },
  {
   "cell_type": "code",
   "execution_count": 20,
   "metadata": {},
   "outputs": [
    {
     "data": {
      "text/plain": [
       "<AxesSubplot:>"
      ]
     },
     "execution_count": 20,
     "metadata": {},
     "output_type": "execute_result"
    },
    {
     "data": {
      "image/png": "[encoded data removed]",
      "text/plain": [
       "<Figure size 432x288 with 2 Axes>"
      ]
     },
     "metadata": {
      "needs_background": "light"
     },
     "output_type": "display_data"
    }
   ],
   "source": [
    "inp = \"Bulatan\"\n",
    "\n",
    "fig, axs = plt.subplots(1,2)\n",
    "\n",
    "df[inp].hist(ax=axs[0])\n",
    "df.boxplot(inp)"
   ]
  },
  {
   "cell_type": "markdown",
   "metadata": {},
   "source": [
    "### Visualisasi Ransum"
   ]
  },
  {
   "cell_type": "code",
   "execution_count": 21,
   "metadata": {},
   "outputs": [
    {
     "data": {
      "text/plain": [
       "<AxesSubplot:>"
      ]
     },
     "execution_count": 21,
     "metadata": {},
     "output_type": "execute_result"
    },
    {
     "data": {
      "image/png": "[encoded data removed]",
      "text/plain": [
       "<Figure size 432x288 with 2 Axes>"
      ]
     },
     "metadata": {
      "needs_background": "light"
     },
     "output_type": "display_data"
    }
   ],
   "source": [
    "inp = \"Ransum\"\n",
    "\n",
    "fig, axs = plt.subplots(1,2)\n",
    "\n",
    "df[inp].hist(ax=axs[0])\n",
    "df.boxplot(inp)"
   ]
  },
  {
   "cell_type": "markdown",
   "metadata": {},
   "source": [
    "# Nomor 3<a name=\"no3\"></a>\n",
    "### Tes Daerah"
   ]
  },
  {
   "cell_type": "code",
   "execution_count": 22,
   "metadata": {},
   "outputs": [
    {
     "name": "stdout",
     "output_type": "stream",
     "text": [
      "Statistics=0.991, p=0.003\n",
      "Tidak Distribusi Normal\n"
     ]
    },
    {
     "data": {
      "image/png": "[encoded data removed]",
      "text/plain": [
       "<Figure size 360x360 with 1 Axes>"
      ]
     },
     "metadata": {
      "needs_background": "light"
     },
     "output_type": "display_data"
    }
   ],
   "source": [
    "#NOMOR 3\n",
    "\n",
    "#inpnorm = input(\"Masukkan data yang dicari: \")\n",
    "inpnorm = \"Daerah\"\n",
    "x_axis = df[inpnorm] # kolom yang dituju\n",
    "ax = sns.displot(x_axis, kde=True)\n",
    "\n",
    "stat, p = shapiro(x_axis)\n",
    "print('Statistics=%.3f, p=%.3f' % (stat, p))\n",
    "\n",
    "alpha = 0.05\n",
    "if p > alpha:\n",
    "    print('Distribusi Normal')\n",
    "else:\n",
    "    print('Tidak Distribusi Normal')"
   ]
  },
  {
   "cell_type": "markdown",
   "metadata": {},
   "source": [
    "### Tes SumbuUtama"
   ]
  },
  {
   "cell_type": "code",
   "execution_count": 23,
   "metadata": {},
   "outputs": [
    {
     "name": "stdout",
     "output_type": "stream",
     "text": [
      "Statistics=0.951, p=0.000\n",
      "Tidak Distribusi Normal\n"
     ]
    },
    {
     "data": {
      "image/png": "[encoded data removed]",
      "text/plain": [
       "<Figure size 360x360 with 1 Axes>"
      ]
     },
     "metadata": {
      "needs_background": "light"
     },
     "output_type": "display_data"
    }
   ],
   "source": [
    "inpnorm = \"SumbuUtama\"\n",
    "x_axis = df[inpnorm] # kolom yang dituju\n",
    "ax = sns.displot(x_axis, kde=True)\n",
    "\n",
    "stat, p = shapiro(x_axis)\n",
    "print('Statistics=%.3f, p=%.3f' % (stat, p))\n",
    "\n",
    "alpha = 0.05\n",
    "if p > alpha:\n",
    "    print('Distribusi Normal')\n",
    "else:\n",
    "    print('Tidak Distribusi Normal')"
   ]
  },
  {
   "cell_type": "markdown",
   "metadata": {},
   "source": [
    "### Tes SumbuKecil"
   ]
  },
  {
   "cell_type": "code",
   "execution_count": 24,
   "metadata": {},
   "outputs": [
    {
     "name": "stdout",
     "output_type": "stream",
     "text": [
      "Statistics=0.997, p=0.423\n",
      "Distribusi Normal\n"
     ]
    },
    {
     "data": {
      "image/png": "[encoded data removed]",
      "text/plain": [
       "<Figure size 360x360 with 1 Axes>"
      ]
     },
     "metadata": {
      "needs_background": "light"
     },
     "output_type": "display_data"
    }
   ],
   "source": [
    "inpnorm = \"SumbuKecil\"\n",
    "x_axis = df[inpnorm] # kolom yang dituju\n",
    "ax = sns.displot(x_axis, kde=True)\n",
    "\n",
    "stat, p = shapiro(x_axis)\n",
    "print('Statistics=%.3f, p=%.3f' % (stat, p))\n",
    "\n",
    "alpha = 0.05\n",
    "if p > alpha:\n",
    "    print('Distribusi Normal')\n",
    "else:\n",
    "    print('Tidak Distribusi Normal')"
   ]
  },
  {
   "cell_type": "markdown",
   "metadata": {},
   "source": [
    "### Tes Keunikan"
   ]
  },
  {
   "cell_type": "code",
   "execution_count": 25,
   "metadata": {},
   "outputs": [
    {
     "name": "stdout",
     "output_type": "stream",
     "text": [
      "Statistics=0.831, p=0.000\n",
      "Tidak Distribusi Normal\n"
     ]
    },
    {
     "data": {
      "image/png": "[encoded data removed]",
      "text/plain": [
       "<Figure size 360x360 with 1 Axes>"
      ]
     },
     "metadata": {
      "needs_background": "light"
     },
     "output_type": "display_data"
    }
   ],
   "source": [
    "inpnorm = \"Keunikan\"\n",
    "x_axis = df[inpnorm] # kolom yang dituju\n",
    "ax = sns.displot(x_axis, kde=True)\n",
    "\n",
    "stat, p = shapiro(x_axis)\n",
    "print('Statistics=%.3f, p=%.3f' % (stat, p))\n",
    "\n",
    "alpha = 0.05\n",
    "if p > alpha:\n",
    "    print('Distribusi Normal')\n",
    "else:\n",
    "    print('Tidak Distribusi Normal')"
   ]
  },
  {
   "cell_type": "markdown",
   "metadata": {},
   "source": [
    "### Tes AreaBulatan"
   ]
  },
  {
   "cell_type": "code",
   "execution_count": 26,
   "metadata": {},
   "outputs": [
    {
     "name": "stdout",
     "output_type": "stream",
     "text": [
      "Statistics=0.990, p=0.002\n",
      "Tidak Distribusi Normal\n"
     ]
    },
    {
     "data": {
      "image/png": "[encoded data removed]",
      "text/plain": [
       "<Figure size 360x360 with 1 Axes>"
      ]
     },
     "metadata": {
      "needs_background": "light"
     },
     "output_type": "display_data"
    }
   ],
   "source": [
    "inpnorm = \"AreaBulatan\"\n",
    "x_axis = df[inpnorm] # kolom yang dituju\n",
    "ax = sns.displot(x_axis, kde=True)\n",
    "\n",
    "stat, p = shapiro(x_axis)\n",
    "print('Statistics=%.3f, p=%.3f' % (stat, p))\n",
    "\n",
    "alpha = 0.05\n",
    "if p > alpha:\n",
    "    print('Distribusi Normal')\n",
    "else:\n",
    "    print('Tidak Distribusi Normal')"
   ]
  },
  {
   "cell_type": "markdown",
   "metadata": {},
   "source": [
    "### Tes Diameter"
   ]
  },
  {
   "cell_type": "code",
   "execution_count": 27,
   "metadata": {},
   "outputs": [
    {
     "name": "stdout",
     "output_type": "stream",
     "text": [
      "Statistics=0.995, p=0.118\n",
      "Distribusi Normal\n"
     ]
    },
    {
     "data": {
      "image/png": "[encoded data removed]",
      "text/plain": [
       "<Figure size 360x360 with 1 Axes>"
      ]
     },
     "metadata": {
      "needs_background": "light"
     },
     "output_type": "display_data"
    }
   ],
   "source": [
    "inpnorm = \"Diameter\"\n",
    "x_axis = df[inpnorm] # kolom yang dituju\n",
    "ax = sns.displot(x_axis, kde=True)\n",
    "\n",
    "stat, p = shapiro(x_axis)\n",
    "print('Statistics=%.3f, p=%.3f' % (stat, p))\n",
    "\n",
    "alpha = 0.05\n",
    "if p > alpha:\n",
    "    print('Distribusi Normal')\n",
    "else:\n",
    "    print('Tidak Distribusi Normal')"
   ]
  },
  {
   "cell_type": "markdown",
   "metadata": {},
   "source": [
    "### Tes KadarAir"
   ]
  },
  {
   "cell_type": "code",
   "execution_count": 28,
   "metadata": {},
   "outputs": [
    {
     "name": "stdout",
     "output_type": "stream",
     "text": [
      "Statistics=0.947, p=0.000\n",
      "Tidak Distribusi Normal\n"
     ]
    },
    {
     "data": {
      "image/png": "[encoded data removed]",
      "text/plain": [
       "<Figure size 360x360 with 1 Axes>"
      ]
     },
     "metadata": {
      "needs_background": "light"
     },
     "output_type": "display_data"
    }
   ],
   "source": [
    "inpnorm = \"KadarAir\"\n",
    "x_axis = df[inpnorm] # kolom yang dituju\n",
    "ax = sns.displot(x_axis, kde=True)\n",
    "\n",
    "stat, p = shapiro(x_axis)\n",
    "print('Statistics=%.3f, p=%.3f' % (stat, p))\n",
    "\n",
    "alpha = 0.05\n",
    "if p > alpha:\n",
    "    print('Distribusi Normal')\n",
    "else:\n",
    "    print('Tidak Distribusi Normal')"
   ]
  },
  {
   "cell_type": "markdown",
   "metadata": {},
   "source": [
    "### Tes Keliling"
   ]
  },
  {
   "cell_type": "code",
   "execution_count": 29,
   "metadata": {},
   "outputs": [
    {
     "name": "stdout",
     "output_type": "stream",
     "text": [
      "Statistics=0.969, p=0.000\n",
      "Tidak Distribusi Normal\n"
     ]
    },
    {
     "data": {
      "image/png": "[encoded data removed]",
      "text/plain": [
       "<Figure size 360x360 with 1 Axes>"
      ]
     },
     "metadata": {
      "needs_background": "light"
     },
     "output_type": "display_data"
    }
   ],
   "source": [
    "inpnorm = \"Keliling\"\n",
    "x_axis = df[inpnorm] # kolom yang dituju\n",
    "ax = sns.displot(x_axis, kde=True)\n",
    "\n",
    "stat, p = shapiro(x_axis)\n",
    "print('Statistics=%.3f, p=%.3f' % (stat, p))\n",
    "\n",
    "alpha = 0.05\n",
    "if p > alpha:\n",
    "    print('Distribusi Normal')\n",
    "else:\n",
    "    print('Tidak Distribusi Normal')"
   ]
  },
  {
   "cell_type": "markdown",
   "metadata": {},
   "source": [
    "### Tes Bulatan"
   ]
  },
  {
   "cell_type": "code",
   "execution_count": 30,
   "metadata": {},
   "outputs": [
    {
     "name": "stdout",
     "output_type": "stream",
     "text": [
      "Statistics=0.770, p=0.000\n",
      "Tidak Distribusi Normal\n"
     ]
    },
    {
     "data": {
      "image/png": "[encoded data removed]",
      "text/plain": [
       "<Figure size 360x360 with 1 Axes>"
      ]
     },
     "metadata": {
      "needs_background": "light"
     },
     "output_type": "display_data"
    }
   ],
   "source": [
    "inpnorm = \"Bulatan\"\n",
    "x_axis = df[inpnorm] # kolom yang dituju\n",
    "ax = sns.displot(x_axis, kde=True)\n",
    "\n",
    "stat, p = shapiro(x_axis)\n",
    "print('Statistics=%.3f, p=%.3f' % (stat, p))\n",
    "\n",
    "alpha = 0.05\n",
    "if p > alpha:\n",
    "    print('Distribusi Normal')\n",
    "else:\n",
    "    print('Tidak Distribusi Normal')"
   ]
  },
  {
   "cell_type": "markdown",
   "metadata": {},
   "source": [
    "### Tes Ransum"
   ]
  },
  {
   "cell_type": "code",
   "execution_count": 31,
   "metadata": {},
   "outputs": [
    {
     "name": "stdout",
     "output_type": "stream",
     "text": [
      "Statistics=0.927, p=0.000\n",
      "Tidak Distribusi Normal\n"
     ]
    },
    {
     "data": {
      "image/png": "[encoded data removed]",
      "text/plain": [
       "<Figure size 360x360 with 1 Axes>"
      ]
     },
     "metadata": {
      "needs_background": "light"
     },
     "output_type": "display_data"
    }
   ],
   "source": [
    "inpnorm = \"Ransum\"\n",
    "x_axis = df[inpnorm] # kolom yang dituju\n",
    "ax = sns.displot(x_axis, kde=True)\n",
    "\n",
    "stat, p = shapiro(x_axis)\n",
    "print('Statistics=%.3f, p=%.3f' % (stat, p))\n",
    "\n",
    "alpha = 0.05\n",
    "if p > alpha:\n",
    "    print('Distribusi Normal')\n",
    "else:\n",
    "    print('Tidak Distribusi Normal')"
   ]
  },
  {
   "cell_type": "markdown",
   "metadata": {},
   "source": [
    "# Nomor 4<a name=\"no4\"></a>"
   ]
  },
  {
   "cell_type": "code",
   "execution_count": 32,
   "metadata": {},
   "outputs": [
    {
     "name": "stdout",
     "output_type": "stream",
     "text": [
      "Langkah 1: Menentukan Hipotesis Nol\n"
     ]
    },
    {
     "data": {
      "text/latex": [
       "$\\displaystyle H_{0}: \\mu = 4700$"
      ],
      "text/plain": [
       "<IPython.core.display.Math object>"
      ]
     },
     "metadata": {},
     "output_type": "display_data"
    },
    {
     "name": "stdout",
     "output_type": "stream",
     "text": [
      "\n",
      "Langkah 2: Menentukan Hipotesis Alternatif\n"
     ]
    },
    {
     "data": {
      "text/latex": [
       "$\\displaystyle H_{1}: \\mu > 4700$"
      ],
      "text/plain": [
       "<IPython.core.display.Math object>"
      ]
     },
     "metadata": {},
     "output_type": "display_data"
    },
    {
     "name": "stdout",
     "output_type": "stream",
     "text": [
      "\n",
      "Langkah 3: Menentukan Tingkat Signifikan Alpha\n"
     ]
    },
    {
     "data": {
      "text/latex": [
       "$\\displaystyle \\alpha = {0.05}$"
      ],
      "text/plain": [
       "<IPython.core.display.Math object>"
      ]
     },
     "metadata": {},
     "output_type": "display_data"
    },
    {
     "name": "stdout",
     "output_type": "stream",
     "text": [
      "\n",
      "Langkah 4: Menentukan Uji Statistik dan Daerah Kritis\n"
     ]
    },
    {
     "data": {
      "text/latex": [
       "$\\displaystyle z > {1.645}$"
      ],
      "text/plain": [
       "<IPython.core.display.Math object>"
      ]
     },
     "metadata": {},
     "output_type": "display_data"
    },
    {
     "data": {
      "text/latex": [
       "$\\displaystyle z = \\frac{\\overline{x}-\\mu _{0}}{\\frac{\\sigma }{\\sqrt{n}}}$"
      ],
      "text/plain": [
       "<IPython.core.display.Math object>"
      ]
     },
     "metadata": {},
     "output_type": "display_data"
    },
    {
     "name": "stdout",
     "output_type": "stream",
     "text": [
      "\n",
      "Langkah 5: Nilai Uji Statistik\n"
     ]
    },
    {
     "data": {
      "text/latex": [
       "$\\displaystyle \\overline{x} = {4969.59}$"
      ],
      "text/plain": [
       "<IPython.core.display.Math object>"
      ]
     },
     "metadata": {},
     "output_type": "display_data"
    },
    {
     "data": {
      "text/latex": [
       "$\\displaystyle \\mu_0 = {4801.246}$"
      ],
      "text/plain": [
       "<IPython.core.display.Math object>"
      ]
     },
     "metadata": {},
     "output_type": "display_data"
    },
    {
     "data": {
      "text/latex": [
       "$\\displaystyle \\sigma = {986.3954914816018}$"
      ],
      "text/plain": [
       "<IPython.core.display.Math object>"
      ]
     },
     "metadata": {},
     "output_type": "display_data"
    },
    {
     "data": {
      "text/latex": [
       "$\\displaystyle n = {100}$"
      ],
      "text/plain": [
       "<IPython.core.display.Math object>"
      ]
     },
     "metadata": {},
     "output_type": "display_data"
    },
    {
     "data": {
      "text/latex": [
       "$\\displaystyle z = \\frac{{4969.59} - {4801.246}}{\\frac{{986.3954914816018}}{\\sqrt{{100}}}}={1.7066582466546079}$"
      ],
      "text/plain": [
       "<IPython.core.display.Math object>"
      ]
     },
     "metadata": {},
     "output_type": "display_data"
    },
    {
     "data": {
      "text/latex": [
       "$\\displaystyle P = {0.04394279605366433}$"
      ],
      "text/plain": [
       "<IPython.core.display.Math object>"
      ]
     },
     "metadata": {},
     "output_type": "display_data"
    },
    {
     "name": "stdout",
     "output_type": "stream",
     "text": [
      "\n",
      "Langkah 6: Keputusan\n"
     ]
    },
    {
     "data": {
      "text/latex": [
       "$\\displaystyle \\therefore H_{0} \\text{ ditolak karena } P < \\alpha .$"
      ],
      "text/plain": [
       "<IPython.core.display.Math object>"
      ]
     },
     "metadata": {},
     "output_type": "display_data"
    },
    {
     "data": {
      "image/png": "[encoded data removed]",
      "text/plain": [
       "<Figure size 432x288 with 1 Axes>"
      ]
     },
     "metadata": {
      "needs_background": "light"
     },
     "output_type": "display_data"
    },
    {
     "data": {
      "image/png": "[encoded data removed]",
      "text/plain": [
       "<Figure size 432x288 with 1 Axes>"
      ]
     },
     "metadata": {
      "needs_background": "light"
     },
     "output_type": "display_data"
    }
   ],
   "source": [
    "#NOMOR 4a: nilai rata-rata Daerah di atas 4700\n",
    "\n",
    "\n",
    "#Sampel yang diambil adalah 100 record random\n",
    "ukuransampel = 100\n",
    "alpha = 0.05\n",
    "skip = sorted(random.sample(range(500),500-ukuransampel))\n",
    "sampel = pd.read_csv('Gandum.csv', skiprows=skip, delimiter=',', names = ['id', 'Daerah', 'SumbuUtama', 'SumbuKecil', 'Keunikan', 'AreaBulatan', 'Diameter', 'KadarAir', 'Keliling', 'Bulatan', 'Ransum', 'Kelas'])\n",
    "\n",
    "print(\"Langkah 1: Menentukan Hipotesis Nol\")\n",
    "display(Math(r'H_{0}: \\mu = 4700'))\n",
    "\n",
    "print(\"\\nLangkah 2: Menentukan Hipotesis Alternatif\")\n",
    "display(Math(r'H_{1}: \\mu > 4700'))\n",
    "\n",
    "print(\"\\nLangkah 3: Menentukan Tingkat Signifikan Alpha\")\n",
    "display(Math(f'\\\\alpha = {{{alpha}}}'))\n",
    "\n",
    "print(\"\\nLangkah 4: Menentukan Uji Statistik dan Daerah Kritis\")\n",
    "z = round(stats.norm.ppf(1-alpha),3)\n",
    "display(Math(f'z > {{{z}}}'))\n",
    "display(Math(r'z = \\frac{\\overline{x}-\\mu _{0}}{\\frac{\\sigma }{\\sqrt{n}}}'))\n",
    "\n",
    "print(\"\\nLangkah 5: Nilai Uji Statistik\")\n",
    "xbar = sampel[\"Daerah\"].mean()\n",
    "mean = df[\"Daerah\"].mean()\n",
    "variansi = df[\"Daerah\"].std()\n",
    "display(Math(f'\\\\overline{{x}} = {{{xbar}}}'))\n",
    "display(Math(f'\\\\mu_{0} = {{{mean}}}'))\n",
    "display(Math(f'\\\\sigma = {{{variansi}}}'))\n",
    "display(Math(f'n = {{{ukuransampel}}}'))\n",
    "hasil = (xbar-mean)/(variansi/math.sqrt(ukuransampel))\n",
    "display(Math(f'z = \\\\frac{{{{{xbar}}} - {{{mean}}}}}{{\\\\frac{{{{{variansi}}}}}{{\\\\sqrt{{{{{ukuransampel}}}}}}}}}={{{hasil}}}'))\n",
    "\n",
    "#Hitung p-value\n",
    "pvalue = stats.norm.sf(abs(hasil))\n",
    "display(Math(f'P = {{{pvalue}}}'))\n",
    "\n",
    "print(\"\\nLangkah 6: Keputusan\")\n",
    "if(pvalue<alpha):\n",
    "    display(Math(r'\\therefore H_{0} \\text{ ditolak karena } P < \\alpha .'))\n",
    "else:\n",
    "    display(Math(r'\\therefore H_{0} \\text{ tidak ditolak karena }P > \\alpha .'))\n",
    "    \n",
    "    \n",
    "#boxplot\n",
    "sampel.boxplot(\"Daerah\").set_title(\"Sampel\")\n",
    "plt.show()\n",
    "df.boxplot(\"Daerah\").set_title(\"Populasi\")\n",
    "plt.show()"
   ]
  },
  {
   "cell_type": "code",
   "execution_count": 33,
   "metadata": {},
   "outputs": [
    {
     "name": "stdout",
     "output_type": "stream",
     "text": [
      "Langkah 1: Menentukan Hipotesis Nol\n"
     ]
    },
    {
     "data": {
      "text/latex": [
       "$\\displaystyle H_{0}: \\mu = 116$"
      ],
      "text/plain": [
       "<IPython.core.display.Math object>"
      ]
     },
     "metadata": {},
     "output_type": "display_data"
    },
    {
     "name": "stdout",
     "output_type": "stream",
     "text": [
      "\n",
      "Langkah 2: Menentukan Hipotesis Alternatif\n"
     ]
    },
    {
     "data": {
      "text/latex": [
       "$\\displaystyle H_{1}: \\mu \\neq 116$"
      ],
      "text/plain": [
       "<IPython.core.display.Math object>"
      ]
     },
     "metadata": {},
     "output_type": "display_data"
    },
    {
     "name": "stdout",
     "output_type": "stream",
     "text": [
      "\n",
      "Langkah 3: Menentukan Tingkat Signifikan Alpha\n"
     ]
    },
    {
     "data": {
      "text/latex": [
       "$\\displaystyle \\alpha = {0.05}$"
      ],
      "text/plain": [
       "<IPython.core.display.Math object>"
      ]
     },
     "metadata": {},
     "output_type": "display_data"
    },
    {
     "name": "stdout",
     "output_type": "stream",
     "text": [
      "\n",
      "Langkah 4: Menentukan Uji Statistik dan Daerah Kritis\n"
     ]
    },
    {
     "data": {
      "text/latex": [
       "$\\displaystyle z > {1.96} \\text{ atau } z < {-1.96}$"
      ],
      "text/plain": [
       "<IPython.core.display.Math object>"
      ]
     },
     "metadata": {},
     "output_type": "display_data"
    },
    {
     "data": {
      "text/latex": [
       "$\\displaystyle z = \\frac{\\overline{x}-\\mu _{0}}{\\frac{\\sigma }{\\sqrt{n}}}$"
      ],
      "text/plain": [
       "<IPython.core.display.Math object>"
      ]
     },
     "metadata": {},
     "output_type": "display_data"
    },
    {
     "name": "stdout",
     "output_type": "stream",
     "text": [
      "\n",
      "Langkah 5: Nilai Uji Statistik\n"
     ]
    },
    {
     "data": {
      "text/latex": [
       "$\\displaystyle \\overline{x} = {118.31762579160002}$"
      ],
      "text/plain": [
       "<IPython.core.display.Math object>"
      ]
     },
     "metadata": {},
     "output_type": "display_data"
    },
    {
     "data": {
      "text/latex": [
       "$\\displaystyle \\mu_0 = {116.04517136778003}$"
      ],
      "text/plain": [
       "<IPython.core.display.Math object>"
      ]
     },
     "metadata": {},
     "output_type": "display_data"
    },
    {
     "data": {
      "text/latex": [
       "$\\displaystyle \\sigma = {18.28262595755936}$"
      ],
      "text/plain": [
       "<IPython.core.display.Math object>"
      ]
     },
     "metadata": {},
     "output_type": "display_data"
    },
    {
     "data": {
      "text/latex": [
       "$\\displaystyle n = {100}$"
      ],
      "text/plain": [
       "<IPython.core.display.Math object>"
      ]
     },
     "metadata": {},
     "output_type": "display_data"
    },
    {
     "data": {
      "text/latex": [
       "$\\displaystyle z = \\frac{{118.31762579160002} - {116.04517136778003}}{\\frac{{18.28262595755936}}{\\sqrt{{100}}}}={1.2429584399392017}$"
      ],
      "text/plain": [
       "<IPython.core.display.Math object>"
      ]
     },
     "metadata": {},
     "output_type": "display_data"
    },
    {
     "data": {
      "text/latex": [
       "$\\displaystyle P = {0.21388314872468717}$"
      ],
      "text/plain": [
       "<IPython.core.display.Math object>"
      ]
     },
     "metadata": {},
     "output_type": "display_data"
    },
    {
     "name": "stdout",
     "output_type": "stream",
     "text": [
      "\n",
      "Langkah 6: Keputusan\n"
     ]
    },
    {
     "data": {
      "text/latex": [
       "$\\displaystyle \\therefore H_{0} \\text{ tidak ditolak karena }P > \\alpha .$"
      ],
      "text/plain": [
       "<IPython.core.display.Math object>"
      ]
     },
     "metadata": {},
     "output_type": "display_data"
    },
    {
     "data": {
      "image/png": "[encoded data removed]",
      "text/plain": [
       "<Figure size 432x288 with 1 Axes>"
      ]
     },
     "metadata": {
      "needs_background": "light"
     },
     "output_type": "display_data"
    },
    {
     "data": {
      "image/png": "[encoded data removed]",
      "text/plain": [
       "<Figure size 432x288 with 1 Axes>"
      ]
     },
     "metadata": {
      "needs_background": "light"
     },
     "output_type": "display_data"
    }
   ],
   "source": [
    "#NOMOR 4b: nilai rata-rata SumbuUtama /= 116\n",
    "#Sampel yang diambil adalah 100 record random\n",
    "\n",
    "mean = df[\"SumbuUtama\"].mean()\n",
    "print(\"Langkah 1: Menentukan Hipotesis Nol\")\n",
    "display(Math(r'H_{0}: \\mu = 116'))\n",
    "print(\"\\nLangkah 2: Menentukan Hipotesis Alternatif\")\n",
    "display(Math(r'H_{1}: \\mu \\neq 116'))\n",
    "print(\"\\nLangkah 3: Menentukan Tingkat Signifikan Alpha\")\n",
    "display(Math(f'\\\\alpha = {{{alpha}}}'))\n",
    "\n",
    "print(\"\\nLangkah 4: Menentukan Uji Statistik dan Daerah Kritis\")\n",
    "alpha2 = alpha/2\n",
    "z = round(stats.norm.ppf(1-alpha2),3)\n",
    "display(Math(f'z > {{{z}}} \\\\text{{ atau }} z < {{{-z}}}'))\n",
    "display(Math(r'z = \\frac{\\overline{x}-\\mu _{0}}{\\frac{\\sigma }{\\sqrt{n}}}'))\n",
    "\n",
    "print(\"\\nLangkah 5: Nilai Uji Statistik\")\n",
    "xbar = sampel[\"SumbuUtama\"].mean()\n",
    "mean = df[\"SumbuUtama\"].mean()\n",
    "variansi = df[\"SumbuUtama\"].std()\n",
    "display(Math(f'\\\\overline{{x}} = {{{xbar}}}'))\n",
    "display(Math(f'\\\\mu_{0} = {{{mean}}}'))\n",
    "display(Math(f'\\\\sigma = {{{variansi}}}'))\n",
    "display(Math(f'n = {{{ukuransampel}}}'))\n",
    "hasil = (xbar-mean)/(variansi/math.sqrt(ukuransampel))\n",
    "display(Math(f'z = \\\\frac{{{{{xbar}}} - {{{mean}}}}}{{\\\\frac{{{{{variansi}}}}}{{\\\\sqrt{{{{{ukuransampel}}}}}}}}}={{{hasil}}}'))\n",
    "\n",
    "#Hitung p-value\n",
    "pvalue = 2*stats.norm.sf(abs(hasil))\n",
    "display(Math(f'P = {{{pvalue}}}'))\n",
    "\n",
    "print(\"\\nLangkah 6: Keputusan\")\n",
    "if(pvalue<alpha):\n",
    "    display(Math(r'\\therefore H_{0} \\text{ ditolak karena } P < \\alpha .'))\n",
    "else:\n",
    "    display(Math(r'\\therefore H_{0} \\text{ tidak ditolak karena }P > \\alpha .'))\n",
    "    \n",
    "#boxplot\n",
    "sampel.boxplot(\"SumbuUtama\").set_title(\"Sampel\")\n",
    "plt.show()\n",
    "df.boxplot(\"SumbuUtama\").set_title(\"Populasi\")\n",
    "plt.show()"
   ]
  },
  {
   "cell_type": "code",
   "execution_count": 34,
   "metadata": {},
   "outputs": [
    {
     "name": "stdout",
     "output_type": "stream",
     "text": [
      "Langkah 1: Menentukan Hipotesis Nol\n"
     ]
    },
    {
     "data": {
      "text/latex": [
       "$\\displaystyle H_{0}: \\mu = 50$"
      ],
      "text/plain": [
       "<IPython.core.display.Math object>"
      ]
     },
     "metadata": {},
     "output_type": "display_data"
    },
    {
     "name": "stdout",
     "output_type": "stream",
     "text": [
      "\n",
      "Langkah 2: Menentukan Hipotesis Alternatif\n"
     ]
    },
    {
     "data": {
      "text/latex": [
       "$\\displaystyle H_{1}: \\mu \\neq 50$"
      ],
      "text/plain": [
       "<IPython.core.display.Math object>"
      ]
     },
     "metadata": {},
     "output_type": "display_data"
    },
    {
     "name": "stdout",
     "output_type": "stream",
     "text": [
      "\n",
      "Langkah 3: Menentukan Tingkat Signifikan Alpha\n"
     ]
    },
    {
     "data": {
      "text/latex": [
       "$\\displaystyle \\alpha = {0.05}$"
      ],
      "text/plain": [
       "<IPython.core.display.Math object>"
      ]
     },
     "metadata": {},
     "output_type": "display_data"
    },
    {
     "name": "stdout",
     "output_type": "stream",
     "text": [
      "\n",
      "Langkah 4: Menentukan Uji Statistik dan Daerah Kritis\n"
     ]
    },
    {
     "data": {
      "text/latex": [
       "$\\displaystyle z > {1.96} \\text{ atau } z < {-1.96}$"
      ],
      "text/plain": [
       "<IPython.core.display.Math object>"
      ]
     },
     "metadata": {},
     "output_type": "display_data"
    },
    {
     "data": {
      "text/latex": [
       "$\\displaystyle z = \\frac{\\overline{x}-\\mu _{0}}{\\frac{\\sigma }{\\sqrt{n}}}$"
      ],
      "text/plain": [
       "<IPython.core.display.Math object>"
      ]
     },
     "metadata": {},
     "output_type": "display_data"
    },
    {
     "name": "stdout",
     "output_type": "stream",
     "text": [
      "\n",
      "Langkah 5: Nilai Uji Statistik\n"
     ]
    },
    {
     "data": {
      "text/latex": [
       "$\\displaystyle \\overline{x} = {53.459432142000004}$"
      ],
      "text/plain": [
       "<IPython.core.display.Math object>"
      ]
     },
     "metadata": {},
     "output_type": "display_data"
    },
    {
     "data": {
      "text/latex": [
       "$\\displaystyle \\mu_0 = {54.887276260499995}$"
      ],
      "text/plain": [
       "<IPython.core.display.Math object>"
      ]
     },
     "metadata": {},
     "output_type": "display_data"
    },
    {
     "data": {
      "text/latex": [
       "$\\displaystyle \\sigma = {3.373879898276029}$"
      ],
      "text/plain": [
       "<IPython.core.display.Math object>"
      ]
     },
     "metadata": {},
     "output_type": "display_data"
    },
    {
     "data": {
      "text/latex": [
       "$\\displaystyle n = {100}$"
      ],
      "text/plain": [
       "<IPython.core.display.Math object>"
      ]
     },
     "metadata": {},
     "output_type": "display_data"
    },
    {
     "data": {
      "text/latex": [
       "$\\displaystyle z = \\frac{{53.459432142000004} - {54.887276260499995}}{\\frac{{3.373879898276029}}{\\sqrt{{100}}}}={-4.232053782440757}$"
      ],
      "text/plain": [
       "<IPython.core.display.Math object>"
      ]
     },
     "metadata": {},
     "output_type": "display_data"
    },
    {
     "data": {
      "text/latex": [
       "$\\displaystyle P = {2.3156701494793453e-05}$"
      ],
      "text/plain": [
       "<IPython.core.display.Math object>"
      ]
     },
     "metadata": {},
     "output_type": "display_data"
    },
    {
     "name": "stdout",
     "output_type": "stream",
     "text": [
      "\n",
      "Langkah 6: Keputusan\n"
     ]
    },
    {
     "data": {
      "text/latex": [
       "$\\displaystyle \\therefore H_{0} \\text{ ditolak karena } P < \\alpha .$"
      ],
      "text/plain": [
       "<IPython.core.display.Math object>"
      ]
     },
     "metadata": {},
     "output_type": "display_data"
    },
    {
     "data": {
      "image/png": "[encoded data removed]",
      "text/plain": [
       "<Figure size 432x288 with 1 Axes>"
      ]
     },
     "metadata": {
      "needs_background": "light"
     },
     "output_type": "display_data"
    },
    {
     "data": {
      "image/png": "[encoded data removed]",
      "text/plain": [
       "<Figure size 432x288 with 1 Axes>"
      ]
     },
     "metadata": {
      "needs_background": "light"
     },
     "output_type": "display_data"
    }
   ],
   "source": [
    "#NOMOR 4c: rata-rata 20 baris pertama SumbuKecil bukan 50\n",
    "first20 = df.head(20)\n",
    "skipsampel = sorted(random.sample(range(20),20-5))\n",
    "sampel2 = pd.read_csv('Gandum.csv', skiprows=skipsampel, delimiter=',', names = ['id', 'Daerah', 'SumbuUtama', 'SumbuKecil', 'Keunikan', 'AreaBulatan', 'Diameter', 'KadarAir', 'Keliling', 'Bulatan', 'Ransum', 'Kelas'])\n",
    "sampel2 = sampel2.head(5)\n",
    "\n",
    "print(\"Langkah 1: Menentukan Hipotesis Nol\")\n",
    "display(Math(r'H_{0}: \\mu = 50'))\n",
    "print(\"\\nLangkah 2: Menentukan Hipotesis Alternatif\")\n",
    "display(Math(r'H_{1}: \\mu \\neq 50'))\n",
    "print(\"\\nLangkah 3: Menentukan Tingkat Signifikan Alpha\")\n",
    "display(Math(f'\\\\alpha = {{{alpha}}}'))\n",
    "\n",
    "print(\"\\nLangkah 4: Menentukan Uji Statistik dan Daerah Kritis\")\n",
    "alpha2 = alpha/2\n",
    "z = round(stats.norm.ppf(1-alpha2),3)\n",
    "display(Math(f'z > {{{z}}} \\\\text{{ atau }} z < {{{-z}}}'))\n",
    "display(Math(r'z = \\frac{\\overline{x}-\\mu _{0}}{\\frac{\\sigma }{\\sqrt{n}}}'))\n",
    "\n",
    "print(\"\\nLangkah 5: Nilai Uji Statistik\")\n",
    "xbar = sampel2[\"SumbuKecil\"].mean()\n",
    "mean = first20[\"SumbuKecil\"].mean()\n",
    "variansi = first20[\"SumbuKecil\"].std()\n",
    "display(Math(f'\\\\overline{{x}} = {{{xbar}}}'))\n",
    "display(Math(f'\\\\mu_{0} = {{{mean}}}'))\n",
    "display(Math(f'\\\\sigma = {{{variansi}}}'))\n",
    "display(Math(f'n = {{{ukuransampel}}}'))\n",
    "hasil = (xbar-mean)/(variansi/math.sqrt(ukuransampel))\n",
    "display(Math(f'z = \\\\frac{{{{{xbar}}} - {{{mean}}}}}{{\\\\frac{{{{{variansi}}}}}{{\\\\sqrt{{{{{ukuransampel}}}}}}}}}={{{hasil}}}'))\n",
    "\n",
    "#Hitung p-value\n",
    "pvalue = 2*stats.norm.sf(abs(hasil))\n",
    "display(Math(f'P = {{{pvalue}}}'))\n",
    "\n",
    "print(\"\\nLangkah 6: Keputusan\")\n",
    "if(pvalue<alpha):\n",
    "    display(Math(r'\\therefore H_{0} \\text{ ditolak karena } P < \\alpha .'))\n",
    "else:\n",
    "    display(Math(r'\\therefore H_{0} \\text{ tidak ditolak karena }P > \\alpha .'))\n",
    "\n",
    "#boxplot\n",
    "sampel2.boxplot(\"SumbuKecil\").set_title(\"Sampel\")\n",
    "plt.show()\n",
    "first20.boxplot(\"SumbuKecil\").set_title(\"Populasi\")\n",
    "plt.show()"
   ]
  },
  {
   "cell_type": "code",
   "execution_count": 35,
   "metadata": {},
   "outputs": [
    {
     "name": "stdout",
     "output_type": "stream",
     "text": [
      "Langkah 1: Menentukan Hipotesis Nol\n"
     ]
    },
    {
     "data": {
      "text/latex": [
       "$\\displaystyle H_{0}: p = 0.15$"
      ],
      "text/plain": [
       "<IPython.core.display.Math object>"
      ]
     },
     "metadata": {},
     "output_type": "display_data"
    },
    {
     "name": "stdout",
     "output_type": "stream",
     "text": [
      "\n",
      "Langkah 2: Menentukan Hipotesis Alternatif\n"
     ]
    },
    {
     "data": {
      "text/latex": [
       "$\\displaystyle H_{1}: p \\neq 0.15$"
      ],
      "text/plain": [
       "<IPython.core.display.Math object>"
      ]
     },
     "metadata": {},
     "output_type": "display_data"
    },
    {
     "name": "stdout",
     "output_type": "stream",
     "text": [
      "\n",
      "Langkah 3: Menentukan Tingkat Signifikan Alpha\n"
     ]
    },
    {
     "data": {
      "text/latex": [
       "$\\displaystyle \\alpha = {0.05}$"
      ],
      "text/plain": [
       "<IPython.core.display.Math object>"
      ]
     },
     "metadata": {},
     "output_type": "display_data"
    },
    {
     "name": "stdout",
     "output_type": "stream",
     "text": [
      "\n",
      "Langkah 4: Menentukan Uji Statistik dan Daerah Kritis\n"
     ]
    },
    {
     "data": {
      "text/latex": [
       "$\\displaystyle \\text{Binomial variable X dengan }p = {0.194} \\text{ dan } n={100}$"
      ],
      "text/plain": [
       "<IPython.core.display.Math object>"
      ]
     },
     "metadata": {},
     "output_type": "display_data"
    },
    {
     "name": "stdout",
     "output_type": "stream",
     "text": [
      "\n",
      "Langkah 5: Nilai Uji Statistik\n"
     ]
    },
    {
     "data": {
      "text/latex": [
       "$\\displaystyle P = {0.323936468785661}$"
      ],
      "text/plain": [
       "<IPython.core.display.Math object>"
      ]
     },
     "metadata": {},
     "output_type": "display_data"
    },
    {
     "name": "stdout",
     "output_type": "stream",
     "text": [
      "\n",
      "Langkah 6: Keputusan\n"
     ]
    },
    {
     "data": {
      "text/latex": [
       "$\\displaystyle \\therefore H_{0} \\text{ tidak ditolak karena }P > \\alpha .$"
      ],
      "text/plain": [
       "<IPython.core.display.Math object>"
      ]
     },
     "metadata": {},
     "output_type": "display_data"
    },
    {
     "data": {
      "image/png": "[encoded data removed]",
      "text/plain": [
       "<Figure size 432x288 with 1 Axes>"
      ]
     },
     "metadata": {
      "needs_background": "light"
     },
     "output_type": "display_data"
    },
    {
     "data": {
      "image/png": "[encoded data removed]",
      "text/plain": [
       "<Figure size 432x288 with 1 Axes>"
      ]
     },
     "metadata": {
      "needs_background": "light"
     },
     "output_type": "display_data"
    }
   ],
   "source": [
    "#NOMOR 4d: proporsi diameter>85 tidak sama dengan 15%\n",
    "# Sampel 100 record random\n",
    "from scipy.stats import binom\n",
    "alpha = 0.05\n",
    "df2 = df[df[\"Diameter\"] > 85]\n",
    "proporsi = len(df2)/len(df)\n",
    "x = ukuransampel * 0.15\n",
    "\n",
    "print(\"Langkah 1: Menentukan Hipotesis Nol\")\n",
    "display(Math(r'H_{0}: p = 0.15'))\n",
    "print(\"\\nLangkah 2: Menentukan Hipotesis Alternatif\")\n",
    "display(Math(r'H_{1}: p \\neq 0.15'))\n",
    "print(\"\\nLangkah 3: Menentukan Tingkat Signifikan Alpha\")\n",
    "display(Math(f'\\\\alpha = {{{alpha}}}'))\n",
    "\n",
    "print(\"\\nLangkah 4: Menentukan Uji Statistik dan Daerah Kritis\")\n",
    "display(Math(f'\\\\text{{Binomial variable X dengan }}p = {{{proporsi}}} \\\\text{{ dan }} n={{{ukuransampel}}}'))\n",
    "\n",
    "print(\"\\nLangkah 5: Nilai Uji Statistik\")\n",
    "\n",
    "#Hitung p-value\n",
    "pvalue = 2*binom.cdf(x, ukuransampel, proporsi)\n",
    "display(Math(f'P = {{{pvalue}}}'))\n",
    "\n",
    "print(\"\\nLangkah 6: Keputusan\")\n",
    "if(pvalue<alpha):\n",
    "    display(Math(r'\\therefore H_{0} \\text{ ditolak karena } P < \\alpha .'))\n",
    "else:\n",
    "    display(Math(r'\\therefore H_{0} \\text{ tidak ditolak karena }P > \\alpha .'))\n",
    "    \n",
    "#boxplot\n",
    "sampel.boxplot(\"Daerah\").set_title(\"Sampel\")\n",
    "plt.show()\n",
    "df.boxplot(\"Daerah\").set_title(\"Populasi\")\n",
    "plt.show()"
   ]
  },
  {
   "cell_type": "code",
   "execution_count": 36,
   "metadata": {},
   "outputs": [
    {
     "name": "stdout",
     "output_type": "stream",
     "text": [
      "Langkah 1: Menentukan Hipotesis Nol\n"
     ]
    },
    {
     "data": {
      "text/latex": [
       "$\\displaystyle H_{0}: p = 0.05$"
      ],
      "text/plain": [
       "<IPython.core.display.Math object>"
      ]
     },
     "metadata": {},
     "output_type": "display_data"
    },
    {
     "name": "stdout",
     "output_type": "stream",
     "text": [
      "\n",
      "Langkah 2: Menentukan Hipotesis Alternatif\n"
     ]
    },
    {
     "data": {
      "text/latex": [
       "$\\displaystyle H_{1}: p < 0.05$"
      ],
      "text/plain": [
       "<IPython.core.display.Math object>"
      ]
     },
     "metadata": {},
     "output_type": "display_data"
    },
    {
     "name": "stdout",
     "output_type": "stream",
     "text": [
      "\n",
      "Langkah 3: Menentukan Tingkat Signifikan Alpha\n"
     ]
    },
    {
     "data": {
      "text/latex": [
       "$\\displaystyle \\alpha = {0.05}$"
      ],
      "text/plain": [
       "<IPython.core.display.Math object>"
      ]
     },
     "metadata": {},
     "output_type": "display_data"
    },
    {
     "name": "stdout",
     "output_type": "stream",
     "text": [
      "\n",
      "Langkah 4: Menentukan Uji Statistik dan Daerah Kritis\n"
     ]
    },
    {
     "data": {
      "text/latex": [
       "$\\displaystyle z < {1.645}$"
      ],
      "text/plain": [
       "<IPython.core.display.Math object>"
      ]
     },
     "metadata": {},
     "output_type": "display_data"
    },
    {
     "data": {
      "text/latex": [
       "$\\displaystyle z = \\frac{\\overline{p}-p_{0}}{\\sqrt{\\frac{p_{0}q_{0}}{n}}}$"
      ],
      "text/plain": [
       "<IPython.core.display.Math object>"
      ]
     },
     "metadata": {},
     "output_type": "display_data"
    },
    {
     "name": "stdout",
     "output_type": "stream",
     "text": [
      "\n",
      "Langkah 5: Nilai Uji Statistik\n"
     ]
    },
    {
     "data": {
      "text/latex": [
       "$\\displaystyle z = \\frac{{0.0}-0.05}{\\sqrt{\\frac{(0.05)(1-0.05)}{{100}}}}={-2.294157338705618}$"
      ],
      "text/plain": [
       "<IPython.core.display.Math object>"
      ]
     },
     "metadata": {},
     "output_type": "display_data"
    },
    {
     "data": {
      "text/latex": [
       "$\\displaystyle P = {0.010890731395559738}$"
      ],
      "text/plain": [
       "<IPython.core.display.Math object>"
      ]
     },
     "metadata": {},
     "output_type": "display_data"
    },
    {
     "name": "stdout",
     "output_type": "stream",
     "text": [
      "\n",
      "Langkah 6: Keputusan\n"
     ]
    },
    {
     "data": {
      "text/latex": [
       "$\\displaystyle \\therefore H_{0} \\text{ ditolak karena } P < \\alpha .$"
      ],
      "text/plain": [
       "<IPython.core.display.Math object>"
      ]
     },
     "metadata": {},
     "output_type": "display_data"
    },
    {
     "data": {
      "image/png": "[encoded data removed]",
      "text/plain": [
       "<Figure size 432x288 with 1 Axes>"
      ]
     },
     "metadata": {
      "needs_background": "light"
     },
     "output_type": "display_data"
    },
    {
     "data": {
      "image/png": "[encoded data removed]",
      "text/plain": [
       "<Figure size 432x288 with 1 Axes>"
      ]
     },
     "metadata": {
      "needs_background": "light"
     },
     "output_type": "display_data"
    }
   ],
   "source": [
    "#NOMOR 4e: proporsi keliling<100 adalah <5%\n",
    "df2 = df[df[\"Keliling\"] < 100]\n",
    "proporsi = len(df2)/len(df)\n",
    "\n",
    "print(\"Langkah 1: Menentukan Hipotesis Nol\")\n",
    "display(Math(r'H_{0}: p = 0.05'))\n",
    "print(\"\\nLangkah 2: Menentukan Hipotesis Alternatif\")\n",
    "display(Math(r'H_{1}: p < 0.05'))\n",
    "print(\"\\nLangkah 3: Menentukan Tingkat Signifikan Alpha\")\n",
    "display(Math(f'\\\\alpha = {{{alpha}}}'))\n",
    "\n",
    "print(\"\\nLangkah 4: Menentukan Uji Statistik dan Daerah Kritis\")\n",
    "z = round(stats.norm.ppf(1-alpha),3)\n",
    "display(Math(f'z < {{{z}}}'))\n",
    "display(Math(r'z = \\frac{\\overline{p}-p_{0}}{\\sqrt{\\frac{p_{0}q_{0}}{n}}}'))\n",
    "\n",
    "print(\"\\nLangkah 5: Nilai Uji Statistik\")\n",
    "z = (proporsi-0.05)/math.sqrt(0.05*(1-0.05)/ukuransampel)\n",
    "display(Math(f'z = \\\\frac{{{{{proporsi}}}-0.05}}{{\\\\sqrt{{\\\\frac{{(0.05)(1-0.05)}}{{{{{ukuransampel}}}}}}}}}={{{z}}}'))\n",
    "\n",
    "#Hitung p-value\n",
    "pvalue = stats.norm.sf(abs(z))\n",
    "display(Math(f'P = {{{pvalue}}}'))\n",
    "\n",
    "print(\"\\nLangkah 6: Keputusan\")\n",
    "if(pvalue<alpha):\n",
    "    display(Math(r'\\therefore H_{0} \\text{ ditolak karena } P < \\alpha .'))\n",
    "else:\n",
    "    display(Math(r'\\therefore H_{0} \\text{ tidak ditolak karena }P > \\alpha .'))\n",
    "    \n",
    "#boxplot\n",
    "sampel.boxplot(\"Keliling\").set_title(\"Sampel\")\n",
    "plt.show()\n",
    "df.boxplot(\"Keliling\").set_title(\"Populasi\")\n",
    "plt.show()"
   ]
  },
  {
   "cell_type": "markdown",
   "metadata": {},
   "source": [
    "# Nomor 5<a name=\"no5\"></a>"
   ]
  },
  {
   "cell_type": "code",
   "execution_count": 37,
   "metadata": {},
   "outputs": [
    {
     "name": "stdout",
     "output_type": "stream",
     "text": [
      "Langkah 1: Menentukan Hipotesis Nol\n"
     ]
    },
    {
     "data": {
      "text/latex": [
       "$\\displaystyle H_{0}: \\mu_{1}-\\mu_{2} = 0$"
      ],
      "text/plain": [
       "<IPython.core.display.Math object>"
      ]
     },
     "metadata": {},
     "output_type": "display_data"
    },
    {
     "name": "stdout",
     "output_type": "stream",
     "text": [
      "\n",
      "Langkah 2: Menentukan Hipotesis Alternatif\n"
     ]
    },
    {
     "data": {
      "text/latex": [
       "$\\displaystyle H_{1}: \\mu_{1}-\\mu_{2} \\neq 0$"
      ],
      "text/plain": [
       "<IPython.core.display.Math object>"
      ]
     },
     "metadata": {},
     "output_type": "display_data"
    },
    {
     "name": "stdout",
     "output_type": "stream",
     "text": [
      "\n",
      "Langkah 3: Menentukan Tingkat Signifikan Alpha\n"
     ]
    },
    {
     "data": {
      "text/latex": [
       "$\\displaystyle \\alpha = {0.05}$"
      ],
      "text/plain": [
       "<IPython.core.display.Math object>"
      ]
     },
     "metadata": {},
     "output_type": "display_data"
    },
    {
     "name": "stdout",
     "output_type": "stream",
     "text": [
      "\n",
      "Langkah 4: Menentukan Uji Statistik dan Daerah Kritis\n"
     ]
    },
    {
     "data": {
      "text/latex": [
       "$\\displaystyle z > {1.96} \\text{ atau } z < {-1.96}$"
      ],
      "text/plain": [
       "<IPython.core.display.Math object>"
      ]
     },
     "metadata": {},
     "output_type": "display_data"
    },
    {
     "data": {
      "text/latex": [
       "$\\displaystyle z = \\frac{(\\overline{x}_{1}-\\overline{x}_{2})-d_{0}}{\\sqrt{\\frac{\\sigma_{1}^2}{n_{1}}+\\frac{\\sigma_{2}^2}{n_{2}}}}$"
      ],
      "text/plain": [
       "<IPython.core.display.Math object>"
      ]
     },
     "metadata": {},
     "output_type": "display_data"
    },
    {
     "name": "stdout",
     "output_type": "stream",
     "text": [
      "\n",
      "Langkah 5: Nilai Uji Statistik\n"
     ]
    },
    {
     "data": {
      "text/latex": [
       "$\\displaystyle \\overline{x}_{1} = {5374.6}$"
      ],
      "text/plain": [
       "<IPython.core.display.Math object>"
      ]
     },
     "metadata": {},
     "output_type": "display_data"
    },
    {
     "data": {
      "text/latex": [
       "$\\displaystyle \\overline{x}_{2} = {4426.78}$"
      ],
      "text/plain": [
       "<IPython.core.display.Math object>"
      ]
     },
     "metadata": {},
     "output_type": "display_data"
    },
    {
     "data": {
      "text/latex": [
       "$\\displaystyle \\mu_1 = {5549.804}$"
      ],
      "text/plain": [
       "<IPython.core.display.Math object>"
      ]
     },
     "metadata": {},
     "output_type": "display_data"
    },
    {
     "data": {
      "text/latex": [
       "$\\displaystyle \\mu_2 = {4324.292}$"
      ],
      "text/plain": [
       "<IPython.core.display.Math object>"
      ]
     },
     "metadata": {},
     "output_type": "display_data"
    },
    {
     "data": {
      "text/latex": [
       "$\\displaystyle \\sigma_{1}^{2} = {751733.1060080321}$"
      ],
      "text/plain": [
       "<IPython.core.display.Math object>"
      ]
     },
     "metadata": {},
     "output_type": "display_data"
    },
    {
     "data": {
      "text/latex": [
       "$\\displaystyle \\sigma_{2}^{2} = {545480.4244337347}$"
      ],
      "text/plain": [
       "<IPython.core.display.Math object>"
      ]
     },
     "metadata": {},
     "output_type": "display_data"
    },
    {
     "data": {
      "text/latex": [
       "$\\displaystyle n_{1} = {50}$"
      ],
      "text/plain": [
       "<IPython.core.display.Math object>"
      ]
     },
     "metadata": {},
     "output_type": "display_data"
    },
    {
     "data": {
      "text/latex": [
       "$\\displaystyle n_{2} = {50}$"
      ],
      "text/plain": [
       "<IPython.core.display.Math object>"
      ]
     },
     "metadata": {},
     "output_type": "display_data"
    },
    {
     "data": {
      "text/latex": [
       "$\\displaystyle z = \\frac{({5374.6}-{4426.78})-{0}}{\\sqrt{\\frac{{751733.1060080321}}{{50}}+\\frac{{545480.4244337347}}{{50}}}}={5.884439956387686}$"
      ],
      "text/plain": [
       "<IPython.core.display.Math object>"
      ]
     },
     "metadata": {},
     "output_type": "display_data"
    },
    {
     "data": {
      "text/latex": [
       "$\\displaystyle P = {3.994041003669237e-09}$"
      ],
      "text/plain": [
       "<IPython.core.display.Math object>"
      ]
     },
     "metadata": {},
     "output_type": "display_data"
    },
    {
     "name": "stdout",
     "output_type": "stream",
     "text": [
      "\n",
      "Langkah 6: Keputusan\n"
     ]
    },
    {
     "data": {
      "text/latex": [
       "$\\displaystyle \\therefore H_{0} \\text{ ditolak karena } P < \\alpha .$"
      ],
      "text/plain": [
       "<IPython.core.display.Math object>"
      ]
     },
     "metadata": {},
     "output_type": "display_data"
    }
   ],
   "source": [
    "#NOMOR 5a: rata-rata AreaBulatan bagian awal dan akhir sama\n",
    "dfawal = df.head(250)\n",
    "dfakhir = df.tail(250)\n",
    "\n",
    "#Sampel yang diambil adalah 50 record random\n",
    "ukuransampel = 50\n",
    "alpha = 0.05\n",
    "skip1 = sorted(random.sample(range(250),250-ukuransampel))\n",
    "skip2 = sorted(random.sample(range(250,500),250-ukuransampel))\n",
    "sampelawal = pd.read_csv('Gandum.csv', skiprows=skip1, delimiter=',', names = ['id', 'Daerah', 'SumbuUtama', 'SumbuKecil', 'Keunikan', 'AreaBulatan', 'Diameter', 'KadarAir', 'Keliling', 'Bulatan', 'Ransum', 'Kelas'])\n",
    "sampelawal = sampelawal.head(50)\n",
    "sampelakhir = pd.read_csv('Gandum.csv', skiprows=skip2, delimiter=',', names = ['id', 'Daerah', 'SumbuUtama', 'SumbuKecil', 'Keunikan', 'AreaBulatan', 'Diameter', 'KadarAir', 'Keliling', 'Bulatan', 'Ransum', 'Kelas'])\n",
    "sampelakhir = sampelakhir.tail(50)\n",
    "\n",
    "print(\"Langkah 1: Menentukan Hipotesis Nol\")\n",
    "display(Math(r'H_{0}: \\mu_{1}-\\mu_{2} = 0'))\n",
    "\n",
    "print(\"\\nLangkah 2: Menentukan Hipotesis Alternatif\")\n",
    "display(Math(r'H_{1}: \\mu_{1}-\\mu_{2} \\neq 0'))\n",
    "\n",
    "print(\"\\nLangkah 3: Menentukan Tingkat Signifikan Alpha\")\n",
    "display(Math(f'\\\\alpha = {{{alpha}}}'))\n",
    "\n",
    "print(\"\\nLangkah 4: Menentukan Uji Statistik dan Daerah Kritis\")\n",
    "alpha2 = alpha/2\n",
    "z = round(stats.norm.ppf(1-alpha2),3)\n",
    "display(Math(f'z > {{{z}}} \\\\text{{ atau }} z < {{{-z}}}'))\n",
    "display(Math(r'z = \\frac{(\\overline{x}_{1}-\\overline{x}_{2})-d_{0}}{\\sqrt{\\frac{\\sigma_{1}^2}{n_{1}}+\\frac{\\sigma_{2}^2}{n_{2}}}}'))\n",
    "\n",
    "print(\"\\nLangkah 5: Nilai Uji Statistik\")\n",
    "xbar1 = sampelawal[\"AreaBulatan\"].mean()\n",
    "xbar2 = sampelakhir[\"AreaBulatan\"].mean()\n",
    "meanawal = dfawal[\"AreaBulatan\"].mean()\n",
    "meanakhir = dfakhir[\"AreaBulatan\"].mean()\n",
    "variansi1 = dfawal[\"AreaBulatan\"].var()\n",
    "variansi2 = dfakhir[\"AreaBulatan\"].var()\n",
    "dnol = 0\n",
    "\n",
    "display(Math(f'\\\\overline{{x}}_{{1}} = {{{xbar1}}}'))\n",
    "display(Math(f'\\\\overline{{x}}_{{2}} = {{{xbar2}}}'))\n",
    "display(Math(f'\\\\mu_{1} = {{{meanawal}}}'))\n",
    "display(Math(f'\\\\mu_{2} = {{{meanakhir}}}'))\n",
    "display(Math(f'\\\\sigma_{{1}}^{{2}} = {{{variansi1}}}'))\n",
    "display(Math(f'\\\\sigma_{{2}}^{{2}} = {{{variansi2}}}'))\n",
    "display(Math(f'n_{{1}} = {{{ukuransampel}}}'))\n",
    "display(Math(f'n_{{2}} = {{{ukuransampel}}}'))\n",
    "\n",
    "hasil = ((xbar1-xbar2)-dnol)/math.sqrt((variansi1/ukuransampel)+(variansi2/ukuransampel))\n",
    "display(Math(f'z = \\\\frac{{({{{xbar1}}}-{{{xbar2}}})-{{{dnol}}}}}{{\\\\sqrt{{\\\\frac{{{{{variansi1}}}}}{{{{{ukuransampel}}}}}+\\\\frac{{{{{variansi2}}}}}{{{{{ukuransampel}}}}}}}}}={{{hasil}}}'))\n",
    "\n",
    "#Hitung p-value\n",
    "pvalue = 2*stats.norm.sf(abs(hasil))\n",
    "display(Math(f'P = {{{pvalue}}}'))\n",
    "\n",
    "print(\"\\nLangkah 6: Keputusan\")\n",
    "if(pvalue<alpha):\n",
    "    display(Math(r'\\therefore H_{0} \\text{ ditolak karena } P < \\alpha .'))\n",
    "else:\n",
    "    display(Math(r'\\therefore H_{0} \\text{ tidak ditolak karena }P > \\alpha .'))\n",
    "    \n"
   ]
  },
  {
   "cell_type": "code",
   "execution_count": 38,
   "metadata": {},
   "outputs": [
    {
     "data": {
      "image/png": "[encoded data removed]",
      "text/plain": [
       "<Figure size 432x288 with 1 Axes>"
      ]
     },
     "metadata": {
      "needs_background": "light"
     },
     "output_type": "display_data"
    },
    {
     "data": {
      "image/png": "[encoded data removed]",
      "text/plain": [
       "<Figure size 432x288 with 1 Axes>"
      ]
     },
     "metadata": {
      "needs_background": "light"
     },
     "output_type": "display_data"
    },
    {
     "data": {
      "image/png": "[encoded data removed]",
      "text/plain": [
       "<Figure size 432x288 with 1 Axes>"
      ]
     },
     "metadata": {
      "needs_background": "light"
     },
     "output_type": "display_data"
    },
    {
     "data": {
      "image/png": "[encoded data removed]",
      "text/plain": [
       "<Figure size 432x288 with 1 Axes>"
      ]
     },
     "metadata": {
      "needs_background": "light"
     },
     "output_type": "display_data"
    }
   ],
   "source": [
    "#boxplot\n",
    "dfawal.boxplot(\"AreaBulatan\").set_title(\"Bagian Awal\")\n",
    "plt.show()\n",
    "dfakhir.boxplot(\"AreaBulatan\").set_title(\"Bagian Akhir\")\n",
    "plt.show()\n",
    "sampelawal.boxplot(\"AreaBulatan\").set_title(\"Sampel Bagian Awal\")\n",
    "plt.show()\n",
    "sampelakhir.boxplot(\"AreaBulatan\").set_title(\"Sampel Bagian Akhir\")\n",
    "plt.show()"
   ]
  },
  {
   "cell_type": "code",
   "execution_count": 39,
   "metadata": {},
   "outputs": [
    {
     "name": "stdout",
     "output_type": "stream",
     "text": [
      "Langkah 1: Menentukan Hipotesis Nol\n"
     ]
    },
    {
     "data": {
      "text/latex": [
       "$\\displaystyle H_{0}: \\mu_{1}-\\mu_{2} = 0.2$"
      ],
      "text/plain": [
       "<IPython.core.display.Math object>"
      ]
     },
     "metadata": {},
     "output_type": "display_data"
    },
    {
     "name": "stdout",
     "output_type": "stream",
     "text": [
      "\n",
      "Langkah 2: Menentukan Hipotesis Alternatif\n"
     ]
    },
    {
     "data": {
      "text/latex": [
       "$\\displaystyle H_{1}: \\mu_{1}-\\mu_{2} \\neq 0.2$"
      ],
      "text/plain": [
       "<IPython.core.display.Math object>"
      ]
     },
     "metadata": {},
     "output_type": "display_data"
    },
    {
     "name": "stdout",
     "output_type": "stream",
     "text": [
      "\n",
      "Langkah 3: Menentukan Tingkat Signifikan Alpha\n"
     ]
    },
    {
     "data": {
      "text/latex": [
       "$\\displaystyle \\alpha = {0.05}$"
      ],
      "text/plain": [
       "<IPython.core.display.Math object>"
      ]
     },
     "metadata": {},
     "output_type": "display_data"
    },
    {
     "name": "stdout",
     "output_type": "stream",
     "text": [
      "\n",
      "Langkah 4: Menentukan Uji Statistik dan Daerah Kritis\n"
     ]
    },
    {
     "data": {
      "text/latex": [
       "$\\displaystyle z > {1.96} \\text{ atau } z < {-1.96}$"
      ],
      "text/plain": [
       "<IPython.core.display.Math object>"
      ]
     },
     "metadata": {},
     "output_type": "display_data"
    },
    {
     "data": {
      "text/latex": [
       "$\\displaystyle z = \\frac{(\\overline{x}_{1}-\\overline{x}_{2})-d_{0}}{\\sqrt{\\frac{\\sigma_{1}^2}{n_{1}}+\\frac{\\sigma_{2}^2}{n_{2}}}}$"
      ],
      "text/plain": [
       "<IPython.core.display.Math object>"
      ]
     },
     "metadata": {},
     "output_type": "display_data"
    },
    {
     "name": "stdout",
     "output_type": "stream",
     "text": [
      "\n",
      "Langkah 5: Nilai Uji Statistik\n"
     ]
    },
    {
     "data": {
      "text/latex": [
       "$\\displaystyle \\overline{x}_{1} = {0.6534692853000001}$"
      ],
      "text/plain": [
       "<IPython.core.display.Math object>"
      ]
     },
     "metadata": {},
     "output_type": "display_data"
    },
    {
     "data": {
      "text/latex": [
       "$\\displaystyle \\overline{x}_{2} = {0.6693751876}$"
      ],
      "text/plain": [
       "<IPython.core.display.Math object>"
      ]
     },
     "metadata": {},
     "output_type": "display_data"
    },
    {
     "data": {
      "text/latex": [
       "$\\displaystyle \\mu_1 = {0.63574344072}$"
      ],
      "text/plain": [
       "<IPython.core.display.Math object>"
      ]
     },
     "metadata": {},
     "output_type": "display_data"
    },
    {
     "data": {
      "text/latex": [
       "$\\displaystyle \\mu_2 = {0.6609999030760001}$"
      ],
      "text/plain": [
       "<IPython.core.display.Math object>"
      ]
     },
     "metadata": {},
     "output_type": "display_data"
    },
    {
     "data": {
      "text/latex": [
       "$\\displaystyle \\sigma_{1}^{2} = {0.009043200047076563}$"
      ],
      "text/plain": [
       "<IPython.core.display.Math object>"
      ]
     },
     "metadata": {},
     "output_type": "display_data"
    },
    {
     "data": {
      "text/latex": [
       "$\\displaystyle \\sigma_{2}^{2} = {0.008482636662870607}$"
      ],
      "text/plain": [
       "<IPython.core.display.Math object>"
      ]
     },
     "metadata": {},
     "output_type": "display_data"
    },
    {
     "data": {
      "text/latex": [
       "$\\displaystyle n_{1} = {50}$"
      ],
      "text/plain": [
       "<IPython.core.display.Math object>"
      ]
     },
     "metadata": {},
     "output_type": "display_data"
    },
    {
     "data": {
      "text/latex": [
       "$\\displaystyle n_{2} = {50}$"
      ],
      "text/plain": [
       "<IPython.core.display.Math object>"
      ]
     },
     "metadata": {},
     "output_type": "display_data"
    },
    {
     "data": {
      "text/latex": [
       "$\\displaystyle z = \\frac{({0.6534692853000001}-{0.6693751876})-{0.2}}{\\sqrt{\\frac{{0.009043200047076563}}{{50}}+\\frac{{0.008482636662870607}}{{50}}}}={-11.532146122057876}$"
      ],
      "text/plain": [
       "<IPython.core.display.Math object>"
      ]
     },
     "metadata": {},
     "output_type": "display_data"
    },
    {
     "data": {
      "text/latex": [
       "$\\displaystyle P = {9.08503015336961e-31}$"
      ],
      "text/plain": [
       "<IPython.core.display.Math object>"
      ]
     },
     "metadata": {},
     "output_type": "display_data"
    },
    {
     "name": "stdout",
     "output_type": "stream",
     "text": [
      "\n",
      "Langkah 6: Keputusan\n"
     ]
    },
    {
     "data": {
      "text/latex": [
       "$\\displaystyle \\therefore H_{0} \\text{ ditolak karena } P < \\alpha .$"
      ],
      "text/plain": [
       "<IPython.core.display.Math object>"
      ]
     },
     "metadata": {},
     "output_type": "display_data"
    }
   ],
   "source": [
    "#NOMOR 5b: rata-rata KadarAir awal = akhir + 0.2\n",
    "print(\"Langkah 1: Menentukan Hipotesis Nol\")\n",
    "display(Math(r'H_{0}: \\mu_{1}-\\mu_{2} = 0.2'))\n",
    "\n",
    "print(\"\\nLangkah 2: Menentukan Hipotesis Alternatif\")\n",
    "display(Math(r'H_{1}: \\mu_{1}-\\mu_{2} \\neq 0.2'))\n",
    "\n",
    "print(\"\\nLangkah 3: Menentukan Tingkat Signifikan Alpha\")\n",
    "display(Math(f'\\\\alpha = {{{alpha}}}'))\n",
    "\n",
    "print(\"\\nLangkah 4: Menentukan Uji Statistik dan Daerah Kritis\")\n",
    "alpha2 = alpha/2\n",
    "z = round(stats.norm.ppf(1-alpha2),3)\n",
    "display(Math(f'z > {{{z}}} \\\\text{{ atau }} z < {{{-z}}}'))\n",
    "display(Math(r'z = \\frac{(\\overline{x}_{1}-\\overline{x}_{2})-d_{0}}{\\sqrt{\\frac{\\sigma_{1}^2}{n_{1}}+\\frac{\\sigma_{2}^2}{n_{2}}}}'))\n",
    "\n",
    "print(\"\\nLangkah 5: Nilai Uji Statistik\")\n",
    "xbar1 = sampelawal[\"KadarAir\"].mean()\n",
    "xbar2 = sampelakhir[\"KadarAir\"].mean()\n",
    "meanawal = dfawal[\"KadarAir\"].mean()\n",
    "meanakhir = dfakhir[\"KadarAir\"].mean()\n",
    "variansi1 = dfawal[\"KadarAir\"].var()\n",
    "variansi2 = dfakhir[\"KadarAir\"].var()\n",
    "dnol = 0.2\n",
    "\n",
    "display(Math(f'\\\\overline{{x}}_{{1}} = {{{xbar1}}}'))\n",
    "display(Math(f'\\\\overline{{x}}_{{2}} = {{{xbar2}}}'))\n",
    "display(Math(f'\\\\mu_{1} = {{{meanawal}}}'))\n",
    "display(Math(f'\\\\mu_{2} = {{{meanakhir}}}'))\n",
    "display(Math(f'\\\\sigma_{{1}}^{{2}} = {{{variansi1}}}'))\n",
    "display(Math(f'\\\\sigma_{{2}}^{{2}} = {{{variansi2}}}'))\n",
    "display(Math(f'n_{{1}} = {{{ukuransampel}}}'))\n",
    "display(Math(f'n_{{2}} = {{{ukuransampel}}}'))\n",
    "\n",
    "hasil = ((xbar1-xbar2)-dnol)/math.sqrt((variansi1/ukuransampel)+(variansi2/ukuransampel))\n",
    "display(Math(f'z = \\\\frac{{({{{xbar1}}}-{{{xbar2}}})-{{{dnol}}}}}{{\\\\sqrt{{\\\\frac{{{{{variansi1}}}}}{{{{{ukuransampel}}}}}+\\\\frac{{{{{variansi2}}}}}{{{{{ukuransampel}}}}}}}}}={{{hasil}}}'))\n",
    "\n",
    "#Hitung p-value\n",
    "pvalue = 2*stats.norm.sf(abs(hasil))\n",
    "display(Math(f'P = {{{pvalue}}}'))\n",
    "\n",
    "print(\"\\nLangkah 6: Keputusan\")\n",
    "if(pvalue<alpha):\n",
    "    display(Math(r'\\therefore H_{0} \\text{ ditolak karena } P < \\alpha .'))\n",
    "else:\n",
    "    display(Math(r'\\therefore H_{0} \\text{ tidak ditolak karena }P > \\alpha .'))"
   ]
  },
  {
   "cell_type": "code",
   "execution_count": 40,
   "metadata": {},
   "outputs": [
    {
     "data": {
      "image/png": "[encoded data removed]",
      "text/plain": [
       "<Figure size 432x288 with 1 Axes>"
      ]
     },
     "metadata": {
      "needs_background": "light"
     },
     "output_type": "display_data"
    },
    {
     "data": {
      "image/png": "[encoded data removed]",
      "text/plain": [
       "<Figure size 432x288 with 1 Axes>"
      ]
     },
     "metadata": {
      "needs_background": "light"
     },
     "output_type": "display_data"
    },
    {
     "data": {
      "image/png": "[encoded data removed]",
      "text/plain": [
       "<Figure size 432x288 with 1 Axes>"
      ]
     },
     "metadata": {
      "needs_background": "light"
     },
     "output_type": "display_data"
    },
    {
     "data": {
      "image/png": "[encoded data removed]",
      "text/plain": [
       "<Figure size 432x288 with 1 Axes>"
      ]
     },
     "metadata": {
      "needs_background": "light"
     },
     "output_type": "display_data"
    }
   ],
   "source": [
    "#boxplot\n",
    "dfawal.boxplot(\"KadarAir\").set_title(\"Bagian Awal\")\n",
    "plt.show()\n",
    "dfakhir.boxplot(\"KadarAir\").set_title(\"Bagian Akhir\")\n",
    "plt.show()\n",
    "sampelawal.boxplot(\"KadarAir\").set_title(\"Sampel Bagian Awal\")\n",
    "plt.show()\n",
    "sampelakhir.boxplot(\"KadarAir\").set_title(\"Sampel Bagian Akhir\")\n",
    "plt.show()"
   ]
  },
  {
   "cell_type": "code",
   "execution_count": 41,
   "metadata": {},
   "outputs": [
    {
     "name": "stdout",
     "output_type": "stream",
     "text": [
      "Langkah 1: Menentukan Hipotesis Nol\n"
     ]
    },
    {
     "data": {
      "text/latex": [
       "$\\displaystyle H_{0}: \\mu _{1} - \\mu _{2} = 0$"
      ],
      "text/plain": [
       "<IPython.core.display.Math object>"
      ]
     },
     "metadata": {},
     "output_type": "display_data"
    },
    {
     "name": "stdout",
     "output_type": "stream",
     "text": [
      "\n",
      "Langkah 2: Menentukan Hipotesis Alternatif\n"
     ]
    },
    {
     "data": {
      "text/latex": [
       "$\\displaystyle H_{1}: \\mu _{1} - \\mu _{2} \\neq 0$"
      ],
      "text/plain": [
       "<IPython.core.display.Math object>"
      ]
     },
     "metadata": {},
     "output_type": "display_data"
    },
    {
     "name": "stdout",
     "output_type": "stream",
     "text": [
      "\n",
      "Langkah 3: Menentukan Tingkat Signifikan Alpha\n"
     ]
    },
    {
     "data": {
      "text/latex": [
       "$\\displaystyle \\alpha = 0.05$"
      ],
      "text/plain": [
       "<IPython.core.display.Math object>"
      ]
     },
     "metadata": {},
     "output_type": "display_data"
    },
    {
     "name": "stdout",
     "output_type": "stream",
     "text": [
      "\n",
      "Langkah 4: Menentukan Uji Statistik dan Daerah Kritis\n"
     ]
    },
    {
     "data": {
      "text/latex": [
       "$\\displaystyle z > {1.96} \\text{ atau } z < {-1.96}$"
      ],
      "text/plain": [
       "<IPython.core.display.Math object>"
      ]
     },
     "metadata": {},
     "output_type": "display_data"
    },
    {
     "data": {
      "text/latex": [
       "$\\displaystyle z = \\frac{(\\overline{x}_{1}-\\overline{x}_{2})-d_{0}}{\\sqrt{\\frac{\\sigma_{1}^2}{n_{1}}+\\frac{\\sigma_{2}^2}{n_{2}}}}$"
      ],
      "text/plain": [
       "<IPython.core.display.Math object>"
      ]
     },
     "metadata": {},
     "output_type": "display_data"
    },
    {
     "name": "stdout",
     "output_type": "stream",
     "text": [
      "\n",
      "Langkah 5: Nilai Uji Statistik\n"
     ]
    },
    {
     "data": {
      "text/latex": [
       "$\\displaystyle \\overline{x}_{1} = {0.7604594432}$"
      ],
      "text/plain": [
       "<IPython.core.display.Math object>"
      ]
     },
     "metadata": {},
     "output_type": "display_data"
    },
    {
     "data": {
      "text/latex": [
       "$\\displaystyle \\overline{x}_{2} = {0.7778442557999999}$"
      ],
      "text/plain": [
       "<IPython.core.display.Math object>"
      ]
     },
     "metadata": {},
     "output_type": "display_data"
    },
    {
     "data": {
      "text/latex": [
       "$\\displaystyle \\mu_1 = {0.7375353552499999}$"
      ],
      "text/plain": [
       "<IPython.core.display.Math object>"
      ]
     },
     "metadata": {},
     "output_type": "display_data"
    },
    {
     "data": {
      "text/latex": [
       "$\\displaystyle \\mu_2 = {0.767322437}$"
      ],
      "text/plain": [
       "<IPython.core.display.Math object>"
      ]
     },
     "metadata": {},
     "output_type": "display_data"
    },
    {
     "data": {
      "text/latex": [
       "$\\displaystyle \\sigma_{1}^{2} = {0.0009232346025806985}$"
      ],
      "text/plain": [
       "<IPython.core.display.Math object>"
      ]
     },
     "metadata": {},
     "output_type": "display_data"
    },
    {
     "data": {
      "text/latex": [
       "$\\displaystyle \\sigma_{2}^{2} = {0.0006307661055759374}$"
      ],
      "text/plain": [
       "<IPython.core.display.Math object>"
      ]
     },
     "metadata": {},
     "output_type": "display_data"
    },
    {
     "data": {
      "text/latex": [
       "$\\displaystyle n_{1} = {5}$"
      ],
      "text/plain": [
       "<IPython.core.display.Math object>"
      ]
     },
     "metadata": {},
     "output_type": "display_data"
    },
    {
     "data": {
      "text/latex": [
       "$\\displaystyle n_{2} = {5}$"
      ],
      "text/plain": [
       "<IPython.core.display.Math object>"
      ]
     },
     "metadata": {},
     "output_type": "display_data"
    },
    {
     "data": {
      "text/latex": [
       "$\\displaystyle z = \\frac{({0.7604594432}-{0.7778442557999999})-{0}}{\\sqrt{\\frac{{0.0009232346025806985}}{{5}}+\\frac{{0.0006307661055759374}}{{5}}}}={-3.1183826792811424}$"
      ],
      "text/plain": [
       "<IPython.core.display.Math object>"
      ]
     },
     "metadata": {},
     "output_type": "display_data"
    },
    {
     "data": {
      "text/latex": [
       "$\\displaystyle P = {0.0018184652357509685}$"
      ],
      "text/plain": [
       "<IPython.core.display.Math object>"
      ]
     },
     "metadata": {},
     "output_type": "display_data"
    },
    {
     "name": "stdout",
     "output_type": "stream",
     "text": [
      "\n",
      "Langkah 6: Keputusan\n"
     ]
    },
    {
     "data": {
      "text/latex": [
       "$\\displaystyle \\mu_1 = {0.7375353552499999}$"
      ],
      "text/plain": [
       "<IPython.core.display.Math object>"
      ]
     },
     "metadata": {},
     "output_type": "display_data"
    },
    {
     "data": {
      "text/latex": [
       "$\\displaystyle \\mu_2 = {0.767322437}$"
      ],
      "text/plain": [
       "<IPython.core.display.Math object>"
      ]
     },
     "metadata": {},
     "output_type": "display_data"
    },
    {
     "data": {
      "text/latex": [
       "$\\displaystyle \\overline{x}_1 = {0.7375353552499999}$"
      ],
      "text/plain": [
       "<IPython.core.display.Math object>"
      ]
     },
     "metadata": {},
     "output_type": "display_data"
    },
    {
     "data": {
      "text/latex": [
       "$\\displaystyle \\overline{x}_2 = {0.767322437}$"
      ],
      "text/plain": [
       "<IPython.core.display.Math object>"
      ]
     },
     "metadata": {},
     "output_type": "display_data"
    },
    {
     "data": {
      "text/latex": [
       "$\\displaystyle \\therefore H_{0} \\text{ ditolak karena } P < \\alpha .$"
      ],
      "text/plain": [
       "<IPython.core.display.Math object>"
      ]
     },
     "metadata": {},
     "output_type": "display_data"
    }
   ],
   "source": [
    "#NOMOR 5c: rata-rata 20 baris pertama Bulatan sama dengan 20 baris terakhir\n",
    "dfawal20 = df.head(20)\n",
    "dfakhir20 = df.tail(20)\n",
    "\n",
    "#Sampel yang diambil adalah 50 record random\n",
    "ukuransampel20 = 5\n",
    "alpha = 0.05\n",
    "skip1_20 = sorted(random.sample(range(20),20-ukuransampel20))\n",
    "skip2_20 = sorted(random.sample(range(480,500),20-ukuransampel20))\n",
    "sampelawal20 = pd.read_csv('Gandum.csv', skiprows=skip1_20, delimiter=',', names = ['id', 'Daerah', 'SumbuUtama', 'SumbuKecil', 'Keunikan', 'AreaBulatan', 'Diameter', 'KadarAir', 'Keliling', 'Bulatan', 'Ransum', 'Kelas'])\n",
    "sampelawal20 = sampelawal20.head(5)\n",
    "sampelakhir20 = pd.read_csv('Gandum.csv', skiprows=skip2_20, delimiter=',', names = ['id', 'Daerah', 'SumbuUtama', 'SumbuKecil', 'Keunikan', 'AreaBulatan', 'Diameter', 'KadarAir', 'Keliling', 'Bulatan', 'Ransum', 'Kelas'])\n",
    "sampelakhir20 = sampelakhir20.tail(5)\n",
    "\n",
    "print(\"Langkah 1: Menentukan Hipotesis Nol\")\n",
    "display(Math(r'H_{0}: \\mu _{1} - \\mu _{2} = 0'))\n",
    "print(\"\\nLangkah 2: Menentukan Hipotesis Alternatif\")\n",
    "display(Math(r'H_{1}: \\mu _{1} - \\mu _{2} \\neq 0'))\n",
    "print(\"\\nLangkah 3: Menentukan Tingkat Signifikan Alpha\")\n",
    "display(Math(r'\\alpha = 0.05'))\n",
    "\n",
    "print(\"\\nLangkah 4: Menentukan Uji Statistik dan Daerah Kritis\")\n",
    "alpha2 = alpha/2\n",
    "z = round(stats.norm.ppf(1-alpha2),3)\n",
    "display(Math(f'z > {{{z}}} \\\\text{{ atau }} z < {{{-z}}}'))\n",
    "display(Math(r'z = \\frac{(\\overline{x}_{1}-\\overline{x}_{2})-d_{0}}{\\sqrt{\\frac{\\sigma_{1}^2}{n_{1}}+\\frac{\\sigma_{2}^2}{n_{2}}}}'))\n",
    "\n",
    "print(\"\\nLangkah 5: Nilai Uji Statistik\")\n",
    "\n",
    "xbar1 = sampelawal20[\"Bulatan\"].mean()\n",
    "xbar2 = sampelakhir20[\"Bulatan\"].mean()\n",
    "meanawal = dfawal20[\"Bulatan\"].mean()\n",
    "meanakhir = dfakhir20[\"Bulatan\"].mean()\n",
    "variansi1 = dfawal20[\"Bulatan\"].var()\n",
    "variansi2 = dfakhir20[\"Bulatan\"].var()\n",
    "dnol = 0\n",
    "\n",
    "display(Math(f'\\\\overline{{x}}_{{1}} = {{{xbar1}}}'))\n",
    "display(Math(f'\\\\overline{{x}}_{{2}} = {{{xbar2}}}'))\n",
    "display(Math(f'\\\\mu_{1} = {{{meanawal}}}'))\n",
    "display(Math(f'\\\\mu_{2} = {{{meanakhir}}}'))\n",
    "display(Math(f'\\\\sigma_{{1}}^{{2}} = {{{variansi1}}}'))\n",
    "display(Math(f'\\\\sigma_{{2}}^{{2}} = {{{variansi2}}}'))\n",
    "display(Math(f'n_{{1}} = {{{ukuransampel20}}}'))\n",
    "display(Math(f'n_{{2}} = {{{ukuransampel20}}}'))\n",
    "\n",
    "hasil = ((xbar1-xbar2)-dnol)/math.sqrt((variansi1/ukuransampel)+(variansi2/ukuransampel))\n",
    "display(Math(f'z = \\\\frac{{({{{xbar1}}}-{{{xbar2}}})-{{{dnol}}}}}{{\\\\sqrt{{\\\\frac{{{{{variansi1}}}}}{{{{{ukuransampel20}}}}}+\\\\frac{{{{{variansi2}}}}}{{{{{ukuransampel20}}}}}}}}}={{{hasil}}}'))\n",
    "\n",
    "#Hitung p-value\n",
    "pvalue = 2*stats.norm.sf(abs(hasil))\n",
    "display(Math(f'P = {{{pvalue}}}'))\n",
    "\n",
    "print(\"\\nLangkah 6: Keputusan\")\n",
    "\n",
    "display(Math(f'\\\\mu_{1} = {{{meanawal}}}'))\n",
    "display(Math(f'\\\\mu_{2} = {{{meanakhir}}}'))\n",
    "display(Math(f'\\\\overline{{x}}_{1} = {{{meanawal}}}'))\n",
    "display(Math(f'\\\\overline{{x}}_{2} = {{{meanakhir}}}'))\n",
    "\n",
    "if(pvalue<alpha):\n",
    "    display(Math(r'\\therefore H_{0} \\text{ ditolak karena } P < \\alpha .'))\n",
    "else:\n",
    "    display(Math(r'\\therefore H_{0} \\text{ tidak ditolak karena } P > \\alpha .'))"
   ]
  },
  {
   "cell_type": "code",
   "execution_count": 42,
   "metadata": {},
   "outputs": [
    {
     "data": {
      "image/png": "[encoded data removed]",
      "text/plain": [
       "<Figure size 432x288 with 1 Axes>"
      ]
     },
     "metadata": {
      "needs_background": "light"
     },
     "output_type": "display_data"
    },
    {
     "data": {
      "image/png": "[encoded data removed]",
      "text/plain": [
       "<Figure size 432x288 with 1 Axes>"
      ]
     },
     "metadata": {
      "needs_background": "light"
     },
     "output_type": "display_data"
    },
    {
     "data": {
      "image/png": "[encoded data removed]",
      "text/plain": [
       "<Figure size 432x288 with 1 Axes>"
      ]
     },
     "metadata": {
      "needs_background": "light"
     },
     "output_type": "display_data"
    },
    {
     "data": {
      "image/png": "[encoded data removed]",
      "text/plain": [
       "<Figure size 432x288 with 1 Axes>"
      ]
     },
     "metadata": {
      "needs_background": "light"
     },
     "output_type": "display_data"
    }
   ],
   "source": [
    "#boxplot\n",
    "dfawal20.boxplot(\"Bulatan\").set_title(\"Bagian Awal\")\n",
    "plt.show()\n",
    "dfakhir20.boxplot(\"Bulatan\").set_title(\"Bagian Akhir\")\n",
    "plt.show()\n",
    "sampelawal20.boxplot(\"Bulatan\").set_title(\"Sampel Bagian Awal\")\n",
    "plt.show()\n",
    "sampelakhir20.boxplot(\"Bulatan\").set_title(\"Sampel Bagian Akhir\")\n",
    "plt.show()"
   ]
  },
  {
   "cell_type": "code",
   "execution_count": 43,
   "metadata": {},
   "outputs": [
    {
     "name": "stdout",
     "output_type": "stream",
     "text": [
      "Langkah 1: Menentukan Hipotesis Nol\n"
     ]
    },
    {
     "data": {
      "text/latex": [
       "$\\displaystyle H_{0}: p_{1} = p_{2}$"
      ],
      "text/plain": [
       "<IPython.core.display.Math object>"
      ]
     },
     "metadata": {},
     "output_type": "display_data"
    },
    {
     "name": "stdout",
     "output_type": "stream",
     "text": [
      "\n",
      "Langkah 2: Menentukan Hipotesis Alternatif\n"
     ]
    },
    {
     "data": {
      "text/latex": [
       "$\\displaystyle H_{1}: p_{1} > p_{2}$"
      ],
      "text/plain": [
       "<IPython.core.display.Math object>"
      ]
     },
     "metadata": {},
     "output_type": "display_data"
    },
    {
     "name": "stdout",
     "output_type": "stream",
     "text": [
      "\n",
      "Langkah 3: Menentukan Tingkat Signifikan Alpha\n"
     ]
    },
    {
     "data": {
      "text/latex": [
       "$\\displaystyle \\alpha = {0.05}$"
      ],
      "text/plain": [
       "<IPython.core.display.Math object>"
      ]
     },
     "metadata": {},
     "output_type": "display_data"
    },
    {
     "name": "stdout",
     "output_type": "stream",
     "text": [
      "\n",
      "Langkah 4: Menentukan Uji Statistik dan Daerah Kritis\n"
     ]
    },
    {
     "data": {
      "text/latex": [
       "$\\displaystyle z > {1.645}$"
      ],
      "text/plain": [
       "<IPython.core.display.Math object>"
      ]
     },
     "metadata": {},
     "output_type": "display_data"
    },
    {
     "data": {
      "text/latex": [
       "$\\displaystyle z = \\frac{\\overline{p}_{1}-\\overline{p}_{2}}{\\sqrt{\\overline{p}\\overline{q}(\\frac{1}{n_{1}}+\\frac{1}{n_{2}}})}$"
      ],
      "text/plain": [
       "<IPython.core.display.Math object>"
      ]
     },
     "metadata": {},
     "output_type": "display_data"
    },
    {
     "name": "stdout",
     "output_type": "stream",
     "text": [
      "\n",
      "Langkah 5: Nilai Uji Statistik\n"
     ]
    },
    {
     "data": {
      "text/latex": [
       "$\\displaystyle \\overline{p} = {0.73}$"
      ],
      "text/plain": [
       "<IPython.core.display.Math object>"
      ]
     },
     "metadata": {},
     "output_type": "display_data"
    },
    {
     "data": {
      "text/latex": [
       "$\\displaystyle \\overline{q} = {0.27}$"
      ],
      "text/plain": [
       "<IPython.core.display.Math object>"
      ]
     },
     "metadata": {},
     "output_type": "display_data"
    },
    {
     "data": {
      "text/latex": [
       "$\\displaystyle \\overline{p}_{1} = {0.996}$"
      ],
      "text/plain": [
       "<IPython.core.display.Math object>"
      ]
     },
     "metadata": {},
     "output_type": "display_data"
    },
    {
     "data": {
      "text/latex": [
       "$\\displaystyle \\overline{p}_{2} = {0.464}$"
      ],
      "text/plain": [
       "<IPython.core.display.Math object>"
      ]
     },
     "metadata": {},
     "output_type": "display_data"
    },
    {
     "data": {
      "text/latex": [
       "$\\displaystyle n_{1} = {50}$"
      ],
      "text/plain": [
       "<IPython.core.display.Math object>"
      ]
     },
     "metadata": {},
     "output_type": "display_data"
    },
    {
     "data": {
      "text/latex": [
       "$\\displaystyle n_{2} = {50}$"
      ],
      "text/plain": [
       "<IPython.core.display.Math object>"
      ]
     },
     "metadata": {},
     "output_type": "display_data"
    },
    {
     "data": {
      "text/latex": [
       "$\\displaystyle z = {5.991538088475442}$"
      ],
      "text/plain": [
       "<IPython.core.display.Math object>"
      ]
     },
     "metadata": {},
     "output_type": "display_data"
    },
    {
     "data": {
      "text/latex": [
       "$\\displaystyle P = {1.039328134043544e-09}$"
      ],
      "text/plain": [
       "<IPython.core.display.Math object>"
      ]
     },
     "metadata": {},
     "output_type": "display_data"
    },
    {
     "name": "stdout",
     "output_type": "stream",
     "text": [
      "\n",
      "Langkah 6: Keputusan\n"
     ]
    },
    {
     "data": {
      "text/latex": [
       "$\\displaystyle \\therefore H_{0} \\text{ ditolak karena } P < \\alpha .$"
      ],
      "text/plain": [
       "<IPython.core.display.Math object>"
      ]
     },
     "metadata": {},
     "output_type": "display_data"
    }
   ],
   "source": [
    "#NOMOR 5d: proporsi nilai bagian awal Ransum yang >2 lebih besar dari proporsi nilai yang sama bagian akhir Ransum\n",
    "print(\"Langkah 1: Menentukan Hipotesis Nol\")\n",
    "display(Math(r'H_{0}: p_{1} = p_{2}'))\n",
    "\n",
    "print(\"\\nLangkah 2: Menentukan Hipotesis Alternatif\")\n",
    "display(Math(r'H_{1}: p_{1} > p_{2}'))\n",
    "\n",
    "print(\"\\nLangkah 3: Menentukan Tingkat Signifikan Alpha\")\n",
    "display(Math(f'\\\\alpha = {{{alpha}}}'))\n",
    "\n",
    "print(\"\\nLangkah 4: Menentukan Uji Statistik dan Daerah Kritis\")\n",
    "z = round(stats.norm.ppf(1-alpha),3)\n",
    "display(Math(f'z > {{{z}}}'))\n",
    "display(Math(r'z = \\frac{\\overline{p}_{1}-\\overline{p}_{2}}{\\sqrt{\\overline{p}\\overline{q}(\\frac{1}{n_{1}}+\\frac{1}{n_{2}}})}'))\n",
    "\n",
    "print(\"\\nLangkah 5: Nilai Uji Statistik\")\n",
    "df3 = df[df[\"Ransum\"]>2]\n",
    "proporsi = len(df3)/len(df)\n",
    "q = 1 - proporsi\n",
    "psampelawal = dfawal[dfawal[\"Ransum\"]>2]\n",
    "psampelakhir = dfakhir[dfakhir[\"Ransum\"]>2]\n",
    "p1 = len(psampelawal)/len(dfawal)\n",
    "p2 = len(psampelakhir)/len(dfakhir)\n",
    "\n",
    "display(Math(f'\\\\overline{{p}} = {{{proporsi}}}'))\n",
    "display(Math(f'\\\\overline{{q}} = {{{q}}}'))\n",
    "display(Math(f'\\\\overline{{p}}_{{1}} = {{{p1}}}'))\n",
    "display(Math(f'\\\\overline{{p}}_{{2}} = {{{p2}}}'))\n",
    "display(Math(f'n_{{1}} = {{{ukuransampel}}}'))\n",
    "display(Math(f'n_{{2}} = {{{ukuransampel}}}'))\n",
    "\n",
    "hasil = (p1-p2)/(math.sqrt(proporsi*q*(1/ukuransampel+1/ukuransampel)))\n",
    "display(Math(f'z = {{{hasil}}}'))\n",
    "\n",
    "#Hitung p-value\n",
    "pvalue = stats.norm.sf(abs(hasil))\n",
    "display(Math(f'P = {{{pvalue}}}'))\n",
    "\n",
    "print(\"\\nLangkah 6: Keputusan\")\n",
    "if(pvalue<alpha):\n",
    "    display(Math(r'\\therefore H_{0} \\text{ ditolak karena } P < \\alpha .'))\n",
    "else:\n",
    "    display(Math(r'\\therefore H_{0} \\text{ tidak ditolak karena }P > \\alpha .'))"
   ]
  },
  {
   "cell_type": "code",
   "execution_count": 44,
   "metadata": {},
   "outputs": [
    {
     "data": {
      "image/png": "[encoded data removed]",
      "text/plain": [
       "<Figure size 432x288 with 1 Axes>"
      ]
     },
     "metadata": {
      "needs_background": "light"
     },
     "output_type": "display_data"
    },
    {
     "data": {
      "image/png": "[encoded data removed]",
      "text/plain": [
       "<Figure size 432x288 with 1 Axes>"
      ]
     },
     "metadata": {
      "needs_background": "light"
     },
     "output_type": "display_data"
    },
    {
     "data": {
      "image/png": "[encoded data removed]",
      "text/plain": [
       "<Figure size 432x288 with 1 Axes>"
      ]
     },
     "metadata": {
      "needs_background": "light"
     },
     "output_type": "display_data"
    },
    {
     "data": {
      "image/png": "[encoded data removed]",
      "text/plain": [
       "<Figure size 432x288 with 1 Axes>"
      ]
     },
     "metadata": {
      "needs_background": "light"
     },
     "output_type": "display_data"
    }
   ],
   "source": [
    "#boxplot\n",
    "dfawal.boxplot(\"Ransum\").set_title(\"Bagian Awal\")\n",
    "plt.show()\n",
    "dfakhir.boxplot(\"Ransum\").set_title(\"Bagian Akhir\")\n",
    "plt.show()\n",
    "sampelawal.boxplot(\"Ransum\").set_title(\"Sampel Bagian Awal\")\n",
    "plt.show()\n",
    "sampelakhir.boxplot(\"Ransum\").set_title(\"Sampel Bagian Akhir\")\n",
    "plt.show()"
   ]
  },
  {
   "cell_type": "code",
   "execution_count": 57,
   "metadata": {},
   "outputs": [
    {
     "name": "stdout",
     "output_type": "stream",
     "text": [
      "Langkah 1: Menentukan Hipotesis Nol\n"
     ]
    },
    {
     "data": {
      "text/latex": [
       "$\\displaystyle H_{0}: \\sigma_{1}^{2} = \\sigma_{2}^{2}$"
      ],
      "text/plain": [
       "<IPython.core.display.Math object>"
      ]
     },
     "metadata": {},
     "output_type": "display_data"
    },
    {
     "name": "stdout",
     "output_type": "stream",
     "text": [
      "\n",
      "Langkah 2: Menentukan Hipotesis Alternatif\n"
     ]
    },
    {
     "data": {
      "text/latex": [
       "$\\displaystyle H_{1}: \\sigma_{1}^{2} \\neq \\sigma_{2}^{2}$"
      ],
      "text/plain": [
       "<IPython.core.display.Math object>"
      ]
     },
     "metadata": {},
     "output_type": "display_data"
    },
    {
     "name": "stdout",
     "output_type": "stream",
     "text": [
      "\n",
      "Langkah 3: Menentukan Tingkat Signifikan Alpha\n"
     ]
    },
    {
     "data": {
      "text/latex": [
       "$\\displaystyle \\alpha = {0.05}$"
      ],
      "text/plain": [
       "<IPython.core.display.Math object>"
      ]
     },
     "metadata": {},
     "output_type": "display_data"
    },
    {
     "name": "stdout",
     "output_type": "stream",
     "text": [
      "\n",
      "Langkah 4: Menentukan Uji Statistik dan Daerah Kritis\n"
     ]
    },
    {
     "data": {
      "text/latex": [
       "$\\displaystyle f < {0.567} \\text{ atau } f > {1.764}$"
      ],
      "text/plain": [
       "<IPython.core.display.Math object>"
      ]
     },
     "metadata": {},
     "output_type": "display_data"
    },
    {
     "data": {
      "text/latex": [
       "$\\displaystyle f = \\frac{s_{1}^{2}}{s_{2}^{2}}$"
      ],
      "text/plain": [
       "<IPython.core.display.Math object>"
      ]
     },
     "metadata": {},
     "output_type": "display_data"
    },
    {
     "name": "stdout",
     "output_type": "stream",
     "text": [
      "\n",
      "Langkah 5: Nilai Uji Statistik\n"
     ]
    },
    {
     "data": {
      "text/latex": [
       "$\\displaystyle s_{1}^{2} = {48.67296764900209}$"
      ],
      "text/plain": [
       "<IPython.core.display.Math object>"
      ]
     },
     "metadata": {},
     "output_type": "display_data"
    },
    {
     "data": {
      "text/latex": [
       "$\\displaystyle s_{2}^{2} = {58.50327955806157}$"
      ],
      "text/plain": [
       "<IPython.core.display.Math object>"
      ]
     },
     "metadata": {},
     "output_type": "display_data"
    },
    {
     "data": {
      "text/latex": [
       "$\\displaystyle f = {0.831969900092466}$"
      ],
      "text/plain": [
       "<IPython.core.display.Math object>"
      ]
     },
     "metadata": {},
     "output_type": "display_data"
    },
    {
     "data": {
      "text/latex": [
       "$\\displaystyle P = {0.7389565179905937}$"
      ],
      "text/plain": [
       "<IPython.core.display.Math object>"
      ]
     },
     "metadata": {},
     "output_type": "display_data"
    },
    {
     "name": "stdout",
     "output_type": "stream",
     "text": [
      "\n",
      "Langkah 6: Keputusan\n"
     ]
    },
    {
     "data": {
      "text/latex": [
       "$\\displaystyle \\therefore H_{0} \\text{ tidak ditolak karena }P > \\alpha .$"
      ],
      "text/plain": [
       "<IPython.core.display.Math object>"
      ]
     },
     "metadata": {},
     "output_type": "display_data"
    }
   ],
   "source": [
    "#NOMOR 5e: bagian awal Diameter variansinya sama dengan bagian akhir\n",
    "from scipy.stats import f\n",
    "alpha = 0.05\n",
    "print(\"Langkah 1: Menentukan Hipotesis Nol\")\n",
    "display(Math(r'H_{0}: \\sigma_{1}^{2} = \\sigma_{2}^{2}'))\n",
    "\n",
    "print(\"\\nLangkah 2: Menentukan Hipotesis Alternatif\")\n",
    "display(Math(r'H_{1}: \\sigma_{1}^{2} \\neq \\sigma_{2}^{2}'))\n",
    "\n",
    "print(\"\\nLangkah 3: Menentukan Tingkat Signifikan Alpha\")\n",
    "display(Math(f'\\\\alpha = {{{alpha}}}'))\n",
    "\n",
    "print(\"\\nLangkah 4: Menentukan Uji Statistik dan Daerah Kritis\")\n",
    "alpha2 = alpha/2\n",
    "f1 = round(f.ppf(alpha2, 49, 49),3)\n",
    "f2 = round(1/f1,3)\n",
    "display(Math(f'f < {{{f1}}} \\\\text{{ atau }} f > {{{f2}}}'))\n",
    "#belum\n",
    "display(Math(r'f = \\frac{s_{1}^{2}}{s_{2}^{2}}'))\n",
    "\n",
    "print(\"\\nLangkah 5: Nilai Uji Statistik\")\n",
    "s1 = sampelawal[\"Diameter\"].var()\n",
    "s2 = sampelakhir[\"Diameter\"].var()\n",
    "\n",
    "display(Math(f's_{{1}}^{{2}} = {{{s1}}}'))\n",
    "display(Math(f's_{{2}}^{{2}} = {{{s2}}}'))\n",
    "hasil = s1/s2\n",
    "display(Math(f'f = {{{hasil}}}'))\n",
    "\n",
    "#hitung p-value\n",
    "pvalue = 1-f.cdf(hasil, 49, 49)\n",
    "display(Math(f'P = {{{pvalue}}}'))\n",
    "\n",
    "print(\"\\nLangkah 6: Keputusan\")\n",
    "if(pvalue<alpha):\n",
    "    display(Math(r'\\therefore H_{0} \\text{ ditolak karena } P < \\alpha .'))\n",
    "else:\n",
    "    display(Math(r'\\therefore H_{0} \\text{ tidak ditolak karena }P > \\alpha .'))"
   ]
  },
  {
   "cell_type": "code",
   "execution_count": 58,
   "metadata": {},
   "outputs": [
    {
     "data": {
      "image/png": "[encoded data removed]",
      "text/plain": [
       "<Figure size 432x288 with 1 Axes>"
      ]
     },
     "metadata": {
      "needs_background": "light"
     },
     "output_type": "display_data"
    },
    {
     "data": {
      "image/png": "[encoded data removed]",
      "text/plain": [
       "<Figure size 432x288 with 1 Axes>"
      ]
     },
     "metadata": {
      "needs_background": "light"
     },
     "output_type": "display_data"
    },
    {
     "data": {
      "image/png": "[encoded data removed]",
      "text/plain": [
       "<Figure size 432x288 with 1 Axes>"
      ]
     },
     "metadata": {
      "needs_background": "light"
     },
     "output_type": "display_data"
    },
    {
     "data": {
      "image/png": "[encoded data removed]",
      "text/plain": [
       "<Figure size 432x288 with 1 Axes>"
      ]
     },
     "metadata": {
      "needs_background": "light"
     },
     "output_type": "display_data"
    }
   ],
   "source": [
    "#boxplot\n",
    "dfawal.boxplot(\"Diameter\").set_title(\"Bagian Awal\")\n",
    "plt.show()\n",
    "dfakhir.boxplot(\"Diameter\").set_title(\"Bagian Akhir\")\n",
    "plt.show()\n",
    "sampelawal.boxplot(\"Diameter\").set_title(\"Sampel Bagian Awal\")\n",
    "plt.show()\n",
    "sampelakhir.boxplot(\"Diameter\").set_title(\"Sampel Bagian Akhir\")\n",
    "plt.show()"
   ]
  },
  {
   "cell_type": "markdown",
   "metadata": {},
   "source": [
    "# Nomor 6<a name=\"no6\"></a>\n",
    "### Korelasi Daerah"
   ]
  },
  {
   "cell_type": "code",
   "execution_count": 46,
   "metadata": {},
   "outputs": [
    {
     "name": "stdout",
     "output_type": "stream",
     "text": [
      "Korelasi antara Daerah dan Kelas :\n",
      "-0.6027466517416654\n",
      "Korelasi tidak berhubungan\n"
     ]
    },
    {
     "data": {
      "text/plain": [
       "<AxesSubplot:xlabel='Daerah', ylabel='Kelas'>"
      ]
     },
     "execution_count": 46,
     "metadata": {},
     "output_type": "execute_result"
    },
    {
     "data": {
      "image/png": "[encoded data removed]",
      "text/plain": [
       "<Figure size 432x288 with 1 Axes>"
      ]
     },
     "metadata": {
      "needs_background": "light"
     },
     "output_type": "display_data"
    }
   ],
   "source": [
    "#NOMOR 6\n",
    "inpkor = \"Daerah\"\n",
    "print(\"Korelasi antara\",str(inpkor), \"dan Kelas :\")\n",
    "hasilkor = df[inpkor].corr(df[\"Kelas\"])\n",
    "print(hasilkor)\n",
    "\n",
    "if(hasilkor>0):\n",
    "    print(\"Korelasi berhubungan\")\n",
    "else:\n",
    "    print(\"Korelasi tidak berhubungan\")\n",
    "df.plot(kind='scatter',x=inpkor,y='Kelas')"
   ]
  },
  {
   "cell_type": "markdown",
   "metadata": {},
   "source": [
    "### Korelasi SumbuUtama"
   ]
  },
  {
   "cell_type": "code",
   "execution_count": 47,
   "metadata": {},
   "outputs": [
    {
     "name": "stdout",
     "output_type": "stream",
     "text": [
      "Korelasi antara SumbuUtama dan Kelas :\n",
      "-0.7130906104204592\n",
      "Korelasi tidak berhubungan\n"
     ]
    },
    {
     "data": {
      "text/plain": [
       "<AxesSubplot:xlabel='SumbuUtama', ylabel='Kelas'>"
      ]
     },
     "execution_count": 47,
     "metadata": {},
     "output_type": "execute_result"
    },
    {
     "data": {
      "image/png": "[encoded data removed]",
      "text/plain": [
       "<Figure size 432x288 with 1 Axes>"
      ]
     },
     "metadata": {
      "needs_background": "light"
     },
     "output_type": "display_data"
    }
   ],
   "source": [
    "inpkor = \"SumbuUtama\"\n",
    "print(\"Korelasi antara\",str(inpkor), \"dan Kelas :\")\n",
    "hasilkor = df[inpkor].corr(df[\"Kelas\"])\n",
    "print(hasilkor)\n",
    "\n",
    "if(hasilkor>0):\n",
    "    print(\"Korelasi berhubungan\")\n",
    "else:\n",
    "    print(\"Korelasi tidak berhubungan\")\n",
    "df.plot(kind='scatter',x=inpkor,y='Kelas')"
   ]
  },
  {
   "cell_type": "markdown",
   "metadata": {},
   "source": [
    "### Korelasi SumbuKecil"
   ]
  },
  {
   "cell_type": "code",
   "execution_count": 48,
   "metadata": {},
   "outputs": [
    {
     "name": "stdout",
     "output_type": "stream",
     "text": [
      "Korelasi antara SumbuKecil dan Kelas :\n",
      "-0.15297517335535024\n",
      "Korelasi tidak berhubungan\n"
     ]
    },
    {
     "data": {
      "text/plain": [
       "<AxesSubplot:xlabel='SumbuKecil', ylabel='Kelas'>"
      ]
     },
     "execution_count": 48,
     "metadata": {},
     "output_type": "execute_result"
    },
    {
     "data": {
      "image/png": "[encoded data removed]",
      "text/plain": [
       "<Figure size 432x288 with 1 Axes>"
      ]
     },
     "metadata": {
      "needs_background": "light"
     },
     "output_type": "display_data"
    }
   ],
   "source": [
    "inpkor = \"SumbuKecil\"\n",
    "print(\"Korelasi antara\",str(inpkor), \"dan Kelas :\")\n",
    "hasilkor = df[inpkor].corr(df[\"Kelas\"])\n",
    "print(hasilkor)\n",
    "\n",
    "if(hasilkor>0):\n",
    "    print(\"Korelasi berhubungan\")\n",
    "else:\n",
    "    print(\"Korelasi tidak berhubungan\")\n",
    "df.plot(kind='scatter',x=inpkor,y='Kelas')"
   ]
  },
  {
   "cell_type": "markdown",
   "metadata": {},
   "source": [
    "### Korelasi Keunikan"
   ]
  },
  {
   "cell_type": "code",
   "execution_count": 49,
   "metadata": {},
   "outputs": [
    {
     "name": "stdout",
     "output_type": "stream",
     "text": [
      "Korelasi antara Keunikan dan Kelas :\n",
      "-0.7304563686511927\n",
      "Korelasi tidak berhubungan\n"
     ]
    },
    {
     "data": {
      "text/plain": [
       "<AxesSubplot:xlabel='Keunikan', ylabel='Kelas'>"
      ]
     },
     "execution_count": 49,
     "metadata": {},
     "output_type": "execute_result"
    },
    {
     "data": {
      "image/png": "[encoded data removed]",
      "text/plain": [
       "<Figure size 432x288 with 1 Axes>"
      ]
     },
     "metadata": {
      "needs_background": "light"
     },
     "output_type": "display_data"
    }
   ],
   "source": [
    "inpkor = \"Keunikan\"\n",
    "print(\"Korelasi antara\",str(inpkor), \"dan Kelas :\")\n",
    "hasilkor = df[inpkor].corr(df[\"Kelas\"])\n",
    "print(hasilkor)\n",
    "\n",
    "if(hasilkor>0):\n",
    "    print(\"Korelasi berhubungan\")\n",
    "else:\n",
    "    print(\"Korelasi tidak berhubungan\")\n",
    "df.plot(kind='scatter',x=inpkor,y='Kelas')"
   ]
  },
  {
   "cell_type": "markdown",
   "metadata": {},
   "source": [
    "### Korelasi AreaBulatan"
   ]
  },
  {
   "cell_type": "code",
   "execution_count": 50,
   "metadata": {},
   "outputs": [
    {
     "name": "stdout",
     "output_type": "stream",
     "text": [
      "Korelasi antara AreaBulatan dan Kelas :\n",
      "-0.6073125434153747\n",
      "Korelasi tidak berhubungan\n"
     ]
    },
    {
     "data": {
      "text/plain": [
       "<AxesSubplot:xlabel='AreaBulatan', ylabel='Kelas'>"
      ]
     },
     "execution_count": 50,
     "metadata": {},
     "output_type": "execute_result"
    },
    {
     "data": {
      "image/png": "[encoded data removed]",
      "text/plain": [
       "<Figure size 432x288 with 1 Axes>"
      ]
     },
     "metadata": {
      "needs_background": "light"
     },
     "output_type": "display_data"
    }
   ],
   "source": [
    "inpkor = \"AreaBulatan\"\n",
    "print(\"Korelasi antara\",str(inpkor), \"dan Kelas :\")\n",
    "hasilkor = df[inpkor].corr(df[\"Kelas\"])\n",
    "print(hasilkor)\n",
    "\n",
    "if(hasilkor>0):\n",
    "    print(\"Korelasi berhubungan\")\n",
    "else:\n",
    "    print(\"Korelasi tidak berhubungan\")\n",
    "df.plot(kind='scatter',x=inpkor,y='Kelas')"
   ]
  },
  {
   "cell_type": "markdown",
   "metadata": {},
   "source": [
    "### Korelasi Diameter"
   ]
  },
  {
   "cell_type": "code",
   "execution_count": 51,
   "metadata": {},
   "outputs": [
    {
     "name": "stdout",
     "output_type": "stream",
     "text": [
      "Korelasi antara Diameter dan Kelas :\n",
      "-0.6025356896618811\n",
      "Korelasi tidak berhubungan\n"
     ]
    },
    {
     "data": {
      "text/plain": [
       "<AxesSubplot:xlabel='Diameter', ylabel='Kelas'>"
      ]
     },
     "execution_count": 51,
     "metadata": {},
     "output_type": "execute_result"
    },
    {
     "data": {
      "image/png": "[encoded data removed]",
      "text/plain": [
       "<Figure size 432x288 with 1 Axes>"
      ]
     },
     "metadata": {
      "needs_background": "light"
     },
     "output_type": "display_data"
    }
   ],
   "source": [
    "inpkor = \"Diameter\"\n",
    "print(\"Korelasi antara\",str(inpkor), \"dan Kelas :\")\n",
    "hasilkor = df[inpkor].corr(df[\"Kelas\"])\n",
    "print(hasilkor)\n",
    "\n",
    "if(hasilkor>0):\n",
    "    print(\"Korelasi berhubungan\")\n",
    "else:\n",
    "    print(\"Korelasi tidak berhubungan\")\n",
    "df.plot(kind='scatter',x=inpkor,y='Kelas')"
   ]
  },
  {
   "cell_type": "markdown",
   "metadata": {},
   "source": [
    "### Korelasi KadarAir"
   ]
  },
  {
   "cell_type": "code",
   "execution_count": 52,
   "metadata": {},
   "outputs": [
    {
     "name": "stdout",
     "output_type": "stream",
     "text": [
      "Korelasi antara KadarAir dan Kelas :\n",
      "0.13434422605727642\n",
      "Korelasi berhubungan\n"
     ]
    },
    {
     "data": {
      "text/plain": [
       "<AxesSubplot:xlabel='KadarAir', ylabel='Kelas'>"
      ]
     },
     "execution_count": 52,
     "metadata": {},
     "output_type": "execute_result"
    },
    {
     "data": {
      "image/png": "[encoded data removed]",
      "text/plain": [
       "<Figure size 432x288 with 1 Axes>"
      ]
     },
     "metadata": {
      "needs_background": "light"
     },
     "output_type": "display_data"
    }
   ],
   "source": [
    "inpkor = \"KadarAir\"\n",
    "print(\"Korelasi antara\",str(inpkor), \"dan Kelas :\")\n",
    "hasilkor = df[inpkor].corr(df[\"Kelas\"])\n",
    "print(hasilkor)\n",
    "\n",
    "if(hasilkor>0):\n",
    "    print(\"Korelasi berhubungan\")\n",
    "else:\n",
    "    print(\"Korelasi tidak berhubungan\")\n",
    "df.plot(kind='scatter',x=inpkor,y='Kelas')"
   ]
  },
  {
   "cell_type": "markdown",
   "metadata": {},
   "source": [
    "### Korelasi Keliling"
   ]
  },
  {
   "cell_type": "code",
   "execution_count": 53,
   "metadata": {},
   "outputs": [
    {
     "name": "stdout",
     "output_type": "stream",
     "text": [
      "Korelasi antara Keliling dan Kelas :\n",
      "-0.6348607454756853\n",
      "Korelasi tidak berhubungan\n"
     ]
    },
    {
     "data": {
      "text/plain": [
       "<AxesSubplot:xlabel='Keliling', ylabel='Kelas'>"
      ]
     },
     "execution_count": 53,
     "metadata": {},
     "output_type": "execute_result"
    },
    {
     "data": {
      "image/png": "[encoded data removed]",
      "text/plain": [
       "<Figure size 432x288 with 1 Axes>"
      ]
     },
     "metadata": {
      "needs_background": "light"
     },
     "output_type": "display_data"
    }
   ],
   "source": [
    "inpkor = \"Keliling\"\n",
    "print(\"Korelasi antara\",str(inpkor), \"dan Kelas :\")\n",
    "hasilkor = df[inpkor].corr(df[\"Kelas\"])\n",
    "print(hasilkor)\n",
    "\n",
    "if(hasilkor>0):\n",
    "    print(\"Korelasi berhubungan\")\n",
    "else:\n",
    "    print(\"Korelasi tidak berhubungan\")\n",
    "df.plot(kind='scatter',x=inpkor,y='Kelas')"
   ]
  },
  {
   "cell_type": "markdown",
   "metadata": {},
   "source": [
    "### Korelasi Bulatan"
   ]
  },
  {
   "cell_type": "code",
   "execution_count": 54,
   "metadata": {},
   "outputs": [
    {
     "name": "stdout",
     "output_type": "stream",
     "text": [
      "Korelasi antara Bulatan dan Kelas :\n",
      "0.5450045317240073\n",
      "Korelasi berhubungan\n"
     ]
    },
    {
     "data": {
      "text/plain": [
       "<AxesSubplot:xlabel='Bulatan', ylabel='Kelas'>"
      ]
     },
     "execution_count": 54,
     "metadata": {},
     "output_type": "execute_result"
    },
    {
     "data": {
      "image/png": "[encoded data removed]",
      "text/plain": [
       "<Figure size 432x288 with 1 Axes>"
      ]
     },
     "metadata": {
      "needs_background": "light"
     },
     "output_type": "display_data"
    }
   ],
   "source": [
    "inpkor = \"Bulatan\"\n",
    "print(\"Korelasi antara\",str(inpkor), \"dan Kelas :\")\n",
    "hasilkor = df[inpkor].corr(df[\"Kelas\"])\n",
    "print(hasilkor)\n",
    "\n",
    "if(hasilkor>0):\n",
    "    print(\"Korelasi berhubungan\")\n",
    "else:\n",
    "    print(\"Korelasi tidak berhubungan\")\n",
    "df.plot(kind='scatter',x=inpkor,y='Kelas')"
   ]
  },
  {
   "cell_type": "markdown",
   "metadata": {},
   "source": [
    "### Korelasi Ransum"
   ]
  },
  {
   "cell_type": "code",
   "execution_count": 55,
   "metadata": {},
   "outputs": [
    {
     "name": "stdout",
     "output_type": "stream",
     "text": [
      "Korelasi antara Ransum dan Kelas :\n",
      "-0.8399038681287486\n",
      "Korelasi tidak berhubungan\n"
     ]
    },
    {
     "data": {
      "text/plain": [
       "<AxesSubplot:xlabel='Ransum', ylabel='Kelas'>"
      ]
     },
     "execution_count": 55,
     "metadata": {},
     "output_type": "execute_result"
    },
    {
     "data": {
      "image/png": "[encoded data removed]",
      "text/plain": [
       "<Figure size 432x288 with 1 Axes>"
      ]
     },
     "metadata": {
      "needs_background": "light"
     },
     "output_type": "display_data"
    }
   ],
   "source": [
    "inpkor = \"Ransum\"\n",
    "print(\"Korelasi antara\",str(inpkor), \"dan Kelas :\")\n",
    "hasilkor = df[inpkor].corr(df[\"Kelas\"])\n",
    "print(hasilkor)\n",
    "\n",
    "if(hasilkor>0):\n",
    "    print(\"Korelasi berhubungan\")\n",
    "else:\n",
    "    print(\"Korelasi tidak berhubungan\")\n",
    "df.plot(kind='scatter',x=inpkor,y='Kelas')"
   ]
  },
  {
   "cell_type": "code",
   "execution_count": null,
   "metadata": {},
   "outputs": [],
   "source": []
  }
 ],
 "metadata": {
  "kernelspec": {
   "display_name": "Python 3",
   "language": "python",
   "name": "python3"
  },
  "language_info": {
   "codemirror_mode": {
    "name": "ipython",
    "version": 3
   },
   "file_extension": ".py",
   "mimetype": "text/x-python",
   "name": "python",
   "nbconvert_exporter": "python",
   "pygments_lexer": "ipython3",
   "version": "3.8.5"
  }
 },
 "nbformat": 4,
 "nbformat_minor": 5
}
