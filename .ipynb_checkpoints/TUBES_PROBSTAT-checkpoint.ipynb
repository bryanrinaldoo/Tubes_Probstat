{
 "cells": [
  {
   "cell_type": "code",
   "execution_count": 1,
   "id": "e070ccf4",
   "metadata": {},
   "outputs": [
    {
     "name": "stdout",
     "output_type": "stream",
     "text": [
      "Daerah, SumbuUtama, SumbuKecil, Keunikan, AreaBulatan, Diameter, KadarAir, Keliling, Bulatan, Ransum\n",
      "Masukkan nama yang ingin dicari : SumbuUtama\n",
      "\n",
      "Mean dari SumbuUtama adalah 116.04517136778\n",
      "Modus dari SumbuUtama adalah 103.8253162\n",
      "Standard deviasi dari SumbuUtama adalah 18.28262595755935\n",
      "Variansi dari SumbuUtama adalah 334.25441190402296\n",
      "Range dari SumbuUtama adalah 153.79546865999998\n",
      "Maximum dari SumbuUtama adalah 227.9285827\n",
      "Minimum dari SumbuUtama adalah 74.13311404\n",
      "Q1 dari SumbuUtama adalah 104.116098175\n",
      "Q2 dari SumbuUtama adalah 115.40513995\n",
      "Q3 dari SumbuUtama adalah 129.046792025\n",
      "Interkuartil dari SumbuUtama adalah 24.930693849999997\n",
      "Skewness dari SumbuUtama adalah 0.7615287378076652\n",
      "Kurtosis dari SumbuUtama adalah 4.33053354843697\n"
     ]
    }
   ],
   "source": [
    "#NOMOR 1\n",
    "\n",
    "#baca file dan memberikan nama\n",
    "import pandas as pd\n",
    "import matplotlib.pyplot as plt\n",
    "df = pd.read_csv('Gandum.csv', delimiter=',', names = ['id', 'Daerah', 'SumbuUtama', 'SumbuKecil', 'Keunikan', 'AreaBulatan', 'Diameter', 'KadarAir', 'Keliling', 'Bulatan', 'Ransum', 'Kelas'])\n",
    "\n",
    "print(\"Daerah, SumbuUtama, SumbuKecil, Keunikan, AreaBulatan, Diameter, KadarAir, Keliling, Bulatan, Ransum\")\n",
    "inp = input(\"Masukkan nama yang ingin dicari : \")\n",
    "\n",
    "#mean SumbuUtama\n",
    "mean = df[inp].mean()\n",
    "\n",
    "#median SumbuUtama\n",
    "median = df[inp].median()\n",
    "\n",
    "#modus\n",
    "modus = df[inp].value_counts().idxmax()\n",
    "\n",
    "#standard deviasi \n",
    "stdev = df[inp].std()\n",
    "\n",
    "#variansi \n",
    "var = df[inp].var()\n",
    "\n",
    "#min SumbuUtama\n",
    "min1 = df[inp].min()\n",
    "\n",
    "#max SumbuUtama\n",
    "max1 = df[inp].max()\n",
    "\n",
    "#range \n",
    "range1 = max1 - min1\n",
    "\n",
    "#kuartil \n",
    "q1 = df[inp].quantile(0.25)\n",
    "q2 = df[inp].quantile(0.5)\n",
    "q3 = df[inp].quantile(0.75)\n",
    "\n",
    "#IQR (interkuartil)\n",
    "iqr = q3 - q1\n",
    "\n",
    "#skewness \n",
    "skew = df[inp].skew()\n",
    "\n",
    "#kurtosis\n",
    "kurtosis = df[inp].kurtosis()\n",
    "print()\n",
    "print(\"Mean dari\", str(inp), \"adalah\" ,mean)\n",
    "print(\"Modus dari\", str(inp), \"adalah\" ,modus)\n",
    "print(\"Standard deviasi dari\", str(inp), \"adalah\" ,stdev)\n",
    "print(\"Variansi dari\", str(inp), \"adalah\" ,var)\n",
    "print(\"Range dari\", str(inp), \"adalah\" ,range1)\n",
    "print(\"Maximum dari\", str(inp), \"adalah\" ,max1)\n",
    "print(\"Minimum dari\", str(inp), \"adalah\" ,min1)\n",
    "print(\"Q1 dari\", str(inp), \"adalah\" ,q1)\n",
    "print(\"Q2 dari\", str(inp), \"adalah\" ,q2)\n",
    "print(\"Q3 dari\", str(inp), \"adalah\" ,q3)\n",
    "print(\"Interkuartil dari\", str(inp), \"adalah\" ,iqr)\n",
    "print(\"Skewness dari\", str(inp), \"adalah\" ,skew)\n",
    "print(\"Kurtosis dari\", str(inp), \"adalah\" ,kurtosis)"
   ]
  },
  {
   "cell_type": "code",
   "execution_count": 2,
   "id": "f2b76441",
   "metadata": {},
   "outputs": [
    {
     "name": "stdout",
     "output_type": "stream",
     "text": [
      "Masukkan nama data yang dicari : SumbuUtama\n"
     ]
    },
    {
     "data": {
      "text/plain": [
       "<AxesSubplot:>"
      ]
     },
     "execution_count": 2,
     "metadata": {},
     "output_type": "execute_result"
    },
    {
     "data": {
      "image/png": "[encoded data removed]",
      "text/plain": [
       "<Figure size 432x288 with 2 Axes>"
      ]
     },
     "metadata": {
      "needs_background": "light"
     },
     "output_type": "display_data"
    }
   ],
   "source": [
    "#NOMOR 2 \n",
    "\n",
    "inpgraf = input(\"Masukkan nama data yang dicari : \")\n",
    "fig, axs = plt.subplots(1,2)\n",
    "\n",
    "df[inpgraf].hist(ax=axs[0])\n",
    "df.boxplot(inpgraf)"
   ]
  },
  {
   "cell_type": "code",
   "execution_count": 7,
   "id": "ef721877",
   "metadata": {},
   "outputs": [
    {
     "name": "stdout",
     "output_type": "stream",
     "text": [
      "Masukkan data yang dicari: SumbuUtama\n"
     ]
    },
    {
     "data": {
      "image/png": "[encoded data removed]",
      "text/plain": [
       "<Figure size 432x288 with 1 Axes>"
      ]
     },
     "metadata": {
      "needs_background": "light"
     },
     "output_type": "display_data"
    }
   ],
   "source": [
    "#NOMOR 3\n",
    "import numpy as np\n",
    "import matplotlib.pyplot as plt\n",
    "from scipy.stats import norm\n",
    "import statistics\n",
    "att = input(\"Masukkan data yang dicari: \")\n",
    "x_axis = df[att] # kolom yang dituju\n",
    "mean = statistics.mean(x_axis)\n",
    "sd = statistics.stdev(x_axis)\n",
    "plt.plot(x_axis, norm.pdf(x_axis, mean, sd))\n",
    "    \n",
    "plt.hist(x_axis)\n",
    "plt.xlabel(att)\n",
    "plt.ylabel(\"count\")\n",
    "plt.show()\n"
   ]
  },
  {
   "cell_type": "code",
   "execution_count": 5,
   "id": "a567a7d3",
   "metadata": {},
   "outputs": [
    {
     "name": "stdout",
     "output_type": "stream",
     "text": [
      "Masukkan nama data korelasi yang ingin dicari : SumbuUtama\n",
      "Korelasi antara User Rating Count SumbuUtama dan Kelas :\n",
      "-0.7130906104204593\n",
      "Korelasi tidak berhubungan\n"
     ]
    },
    {
     "data": {
      "text/plain": [
       "<AxesSubplot:xlabel='SumbuUtama', ylabel='Kelas'>"
      ]
     },
     "execution_count": 5,
     "metadata": {},
     "output_type": "execute_result"
    },
    {
     "data": {
      "image/png": "[encoded data removed]",
      "text/plain": [
       "<Figure size 432x288 with 1 Axes>"
      ]
     },
     "metadata": {
      "needs_background": "light"
     },
     "output_type": "display_data"
    }
   ],
   "source": [
    "#NOMOR 6\n",
    "inpkor = input(\"Masukkan nama data korelasi yang ingin dicari : \")\n",
    "print(\"Korelasi antara User Rating Count\",str(inpkor), \"dan Kelas :\")\n",
    "hasilkor = df[inpkor].corr(df[\"Kelas\"])\n",
    "print(hasilkor)\n",
    "\n",
    "if(hasilkor>0):\n",
    "    print(\"Korelasi berhubungan\")\n",
    "else:\n",
    "    print(\"Korelasi tidak berhubungan\")\n",
    "df.plot(kind='scatter',x=inpkor,y='Kelas')"
   ]
  },
  {
   "cell_type": "code",
   "execution_count": null,
   "id": "7f70f614",
   "metadata": {},
   "outputs": [],
   "source": []
  }
 ],
 "metadata": {
  "kernelspec": {
   "display_name": "Python 3",
   "language": "python",
   "name": "python3"
  },
  "language_info": {
   "codemirror_mode": {
    "name": "ipython",
    "version": 3
   },
   "file_extension": ".py",
   "mimetype": "text/x-python",
   "name": "python",
   "nbconvert_exporter": "python",
   "pygments_lexer": "ipython3",
   "version": "3.9.1"
  }
 },
 "nbformat": 4,
 "nbformat_minor": 5
}
